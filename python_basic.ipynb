{
  "nbformat": 4,
  "nbformat_minor": 0,
  "metadata": {
    "colab": {
      "provenance": []
    },
    "kernelspec": {
      "name": "python3",
      "display_name": "Python 3"
    },
    "language_info": {
      "name": "python"
    }
  },
  "cells": [
    {
      "cell_type": "markdown",
      "source": [
        "#Intro\n"
      ],
      "metadata": {
        "id": "Oo4Is25clHGz"
      }
    },
    {
      "cell_type": "code",
      "execution_count": null,
      "metadata": {
        "colab": {
          "base_uri": "https://localhost:8080/"
        },
        "id": "88bMDr27kDFl",
        "outputId": "880015f9-007e-4446-e95d-09bed67dcbac"
      },
      "outputs": [
        {
          "output_type": "stream",
          "name": "stdout",
          "text": [
            "Hello world\n"
          ]
        }
      ],
      "source": [
        "#shift+enter to execute\n",
        "print(\"Hello world\")"
      ]
    },
    {
      "cell_type": "code",
      "source": [
        "# single line comment\n",
        "# this is data science course\n",
        "'''\n",
        "this is used for multiline command\n",
        "'''\n"
      ],
      "metadata": {
        "colab": {
          "base_uri": "https://localhost:8080/",
          "height": 36
        },
        "id": "g_siLRv7lwLf",
        "outputId": "d3c53cee-abf2-41ef-eed0-63febb1e58a4"
      },
      "execution_count": null,
      "outputs": [
        {
          "output_type": "execute_result",
          "data": {
            "text/plain": [
              "'\\nthis is used for multiline command\\n'"
            ],
            "application/vnd.google.colaboratory.intrinsic+json": {
              "type": "string"
            }
          },
          "metadata": {},
          "execution_count": 2
        }
      ]
    },
    {
      "cell_type": "code",
      "source": [
        "# To print some thing in pyton\n",
        "print(\"course\")"
      ],
      "metadata": {
        "colab": {
          "base_uri": "https://localhost:8080/"
        },
        "id": "cAsd1TYMmU7t",
        "outputId": "e0ed9bdc-2274-4b8e-8952-ccf4d67709fc"
      },
      "execution_count": null,
      "outputs": [
        {
          "output_type": "stream",
          "name": "stdout",
          "text": [
            "course\n"
          ]
        }
      ]
    },
    {
      "cell_type": "code",
      "source": [
        "# Both single and double coutes can be used inside the braces"
      ],
      "metadata": {
        "id": "RXa4np_aqX4t"
      },
      "execution_count": null,
      "outputs": []
    },
    {
      "cell_type": "code",
      "source": [
        "# Variable -that tends to change"
      ],
      "metadata": {
        "id": "dgzwB5kbqnIc"
      },
      "execution_count": null,
      "outputs": []
    },
    {
      "cell_type": "code",
      "source": [
        "a=3#means that assigning a value 3 to a variable a\n",
        "print(a)\n",
        "b=7"
      ],
      "metadata": {
        "colab": {
          "base_uri": "https://localhost:8080/"
        },
        "id": "DJNqTWw4q1o2",
        "outputId": "b706bec8-f00e-4416-c0cd-f32c1a1f63f3"
      },
      "execution_count": null,
      "outputs": [
        {
          "output_type": "stream",
          "name": "stdout",
          "text": [
            "3\n"
          ]
        }
      ]
    },
    {
      "cell_type": "code",
      "source": [
        "#Gives the memory location id(a)"
      ],
      "metadata": {
        "colab": {
          "base_uri": "https://localhost:8080/"
        },
        "id": "q1CnmCC8rvXL",
        "outputId": "5783911c-4ba5-45e2-a840-d536887e2381"
      },
      "execution_count": null,
      "outputs": [
        {
          "output_type": "execute_result",
          "data": {
            "text/plain": [
              "137974186344752"
            ]
          },
          "metadata": {},
          "execution_count": 9
        }
      ]
    },
    {
      "cell_type": "code",
      "source": [
        "id(b)"
      ],
      "metadata": {
        "colab": {
          "base_uri": "https://localhost:8080/",
          "height": 175
        },
        "id": "lwP8y8cSryzY",
        "outputId": "b0155508-67f6-4b65-ba98-bc712f172af3"
      },
      "execution_count": null,
      "outputs": [
        {
          "output_type": "error",
          "ename": "NameError",
          "evalue": "ignored",
          "traceback": [
            "\u001b[0;31m---------------------------------------------------------------------------\u001b[0m",
            "\u001b[0;31mNameError\u001b[0m                                 Traceback (most recent call last)",
            "\u001b[0;32m<ipython-input-10-29e839ce9351>\u001b[0m in \u001b[0;36m<cell line: 1>\u001b[0;34m()\u001b[0m\n\u001b[0;32m----> 1\u001b[0;31m \u001b[0mid\u001b[0m\u001b[0;34m(\u001b[0m\u001b[0mb\u001b[0m\u001b[0;34m)\u001b[0m\u001b[0;34m\u001b[0m\u001b[0;34m\u001b[0m\u001b[0m\n\u001b[0m",
            "\u001b[0;31mNameError\u001b[0m: name 'b' is not defined"
          ]
        }
      ]
    },
    {
      "cell_type": "code",
      "source": [
        "var1=3\n",
        "var2=3.567\n",
        "var3='data science'"
      ],
      "metadata": {
        "id": "F1WLHcMesK8p"
      },
      "execution_count": null,
      "outputs": []
    },
    {
      "cell_type": "code",
      "source": [
        "!python --version"
      ],
      "metadata": {
        "colab": {
          "base_uri": "https://localhost:8080/"
        },
        "id": "BOFlU7VWsgDy",
        "outputId": "f1a17327-70f3-4968-899c-cf9684f47afb"
      },
      "execution_count": null,
      "outputs": [
        {
          "output_type": "stream",
          "name": "stdout",
          "text": [
            "Python 3.10.12\n"
          ]
        }
      ]
    },
    {
      "cell_type": "code",
      "source": [
        "apples = 8\n",
        "print('I want to buy 8 apples')##string formating\n",
        "#print(f'I want to buy {apples} apples')"
      ],
      "metadata": {
        "colab": {
          "base_uri": "https://localhost:8080/"
        },
        "id": "27aO8Sx7slXb",
        "outputId": "dbbafaaa-9212-469a-b60d-53467252b059"
      },
      "execution_count": null,
      "outputs": [
        {
          "output_type": "stream",
          "name": "stdout",
          "text": [
            "I want to buy 8 apples\n"
          ]
        }
      ]
    },
    {
      "cell_type": "code",
      "source": [
        "bananas = 16\n",
        "oranges = 24\n",
        "print(f'I want to buy {bananas} bananas and {oranges} oranges')"
      ],
      "metadata": {
        "colab": {
          "base_uri": "https://localhost:8080/"
        },
        "id": "NbkJwxGitWAp",
        "outputId": "a3f6e2d6-eebd-4c2b-94bd-2f2f94165161"
      },
      "execution_count": null,
      "outputs": [
        {
          "output_type": "stream",
          "name": "stdout",
          "text": [
            "I want to buy 16 bananas and 24 oranges\n"
          ]
        }
      ]
    },
    {
      "cell_type": "code",
      "source": [
        "#python is casesensitive\n",
        "bananas =10\n",
        "Bananas =20"
      ],
      "metadata": {
        "id": "FCrcMubLtpcT"
      },
      "execution_count": null,
      "outputs": []
    },
    {
      "cell_type": "code",
      "source": [
        "print(bananas)"
      ],
      "metadata": {
        "colab": {
          "base_uri": "https://localhost:8080/"
        },
        "id": "BSnGZhlUuN2T",
        "outputId": "d0443deb-398f-4df8-cbae-1feeee938605"
      },
      "execution_count": null,
      "outputs": [
        {
          "output_type": "stream",
          "name": "stdout",
          "text": [
            "10\n"
          ]
        }
      ]
    },
    {
      "cell_type": "code",
      "source": [
        "print(Bananas)"
      ],
      "metadata": {
        "colab": {
          "base_uri": "https://localhost:8080/"
        },
        "id": "2sMBpQG3uRjk",
        "outputId": "955e7b5b-3dc0-490f-c299-fe97a86b4efd"
      },
      "execution_count": null,
      "outputs": [
        {
          "output_type": "stream",
          "name": "stdout",
          "text": [
            "20\n"
          ]
        }
      ]
    },
    {
      "cell_type": "code",
      "source": [
        "'''\n",
        "1. A variaable name should always start with a letter or _\n",
        "2. Variable cannot start with a number\n",
        "3. A variable should contain only A-Z,a-z,0-9 and_\n",
        "4. variable name cannot bee same as python keyword(ex:print)\n",
        "'''"
      ],
      "metadata": {
        "colab": {
          "base_uri": "https://localhost:8080/",
          "height": 53
        },
        "id": "FQDJbl-YuUw6",
        "outputId": "b22d13a5-f124-46e1-d9a4-7954a53ff5c1"
      },
      "execution_count": null,
      "outputs": [
        {
          "output_type": "execute_result",
          "data": {
            "text/plain": [
              "'\\n1. A variaable name should always start with a letter or _\\n2. Variable cannot start with a number\\n3. A variable should contain only A-Z,a-z,0-9 and_\\n4. variable name cannot bee same as python keyword(ex:print)\\n'"
            ],
            "application/vnd.google.colaboratory.intrinsic+json": {
              "type": "string"
            }
          },
          "metadata": {},
          "execution_count": 17
        }
      ]
    },
    {
      "cell_type": "code",
      "source": [
        "'''\n",
        "@jhon\n",
        "2vars\n",
        "var123\n",
        "'''"
      ],
      "metadata": {
        "id": "ckm_a1i0vBkh"
      },
      "execution_count": null,
      "outputs": []
    },
    {
      "cell_type": "code",
      "source": [
        "fruit1 = mango\n",
        "fruit2 = bananas\n",
        "fruit3 = apple\n",
        "print(fruit1)"
      ],
      "metadata": {
        "id": "easA-gbtvmjX"
      },
      "execution_count": null,
      "outputs": []
    },
    {
      "cell_type": "code",
      "source": [
        "fruit1,fruit2,fruit3 = 'orange','banana','mango'\n",
        "print(fruit1,fruit2,fruit3)"
      ],
      "metadata": {
        "colab": {
          "base_uri": "https://localhost:8080/"
        },
        "id": "Gt2HAun3wW81",
        "outputId": "154c77c4-a10e-4704-a183-a41f02aeae00"
      },
      "execution_count": null,
      "outputs": [
        {
          "output_type": "stream",
          "name": "stdout",
          "text": [
            "orange banana mango\n"
          ]
        }
      ]
    },
    {
      "cell_type": "code",
      "source": [
        "x = y = z = 'orange'\n",
        "print(x)\n",
        "print(y)\n",
        "print(z)"
      ],
      "metadata": {
        "colab": {
          "base_uri": "https://localhost:8080/"
        },
        "id": "2hjy5X7Gwpt6",
        "outputId": "736bf869-2876-4002-9cd6-80e79948c285"
      },
      "execution_count": null,
      "outputs": [
        {
          "output_type": "stream",
          "name": "stdout",
          "text": [
            "orange\n",
            "orange\n",
            "orange\n"
          ]
        }
      ]
    },
    {
      "cell_type": "code",
      "source": [
        "x = \"Python is Programming Language\"\n",
        "print(x)"
      ],
      "metadata": {
        "id": "9B4mRZGExH5O",
        "colab": {
          "base_uri": "https://localhost:8080/"
        },
        "outputId": "0dfd1fe2-25b7-4134-fbf7-d64d15f810e6"
      },
      "execution_count": null,
      "outputs": [
        {
          "output_type": "stream",
          "name": "stdout",
          "text": [
            "Python is Programming Language\n"
          ]
        }
      ]
    },
    {
      "cell_type": "code",
      "source": [
        "# or\n",
        "x = \"Pyhton\"\n",
        "y = \"is\"\n",
        "a = \"Programming Language\"\n",
        "print(x,y,a)"
      ],
      "metadata": {
        "colab": {
          "base_uri": "https://localhost:8080/"
        },
        "id": "2-AputLOrLmV",
        "outputId": "c083d479-d61f-49eb-9eb3-616531fc8e2c"
      },
      "execution_count": null,
      "outputs": [
        {
          "output_type": "stream",
          "name": "stdout",
          "text": [
            "Pyhton is Programming Language\n"
          ]
        }
      ]
    },
    {
      "cell_type": "code",
      "source": [
        "print(x+' '+y+' '+a)"
      ],
      "metadata": {
        "colab": {
          "base_uri": "https://localhost:8080/"
        },
        "id": "ur8E3X5drgVI",
        "outputId": "33333898-f23a-4453-9b20-24114a7e7808"
      },
      "execution_count": null,
      "outputs": [
        {
          "output_type": "stream",
          "name": "stdout",
          "text": [
            "Pyhton is Programming Language\n"
          ]
        }
      ]
    },
    {
      "cell_type": "code",
      "source": [
        "x = 5\n",
        "y = 8\n",
        "print(x+y)\n",
        "print(x-y)\n",
        "print(x*y)\n",
        "print(x/y)"
      ],
      "metadata": {
        "colab": {
          "base_uri": "https://localhost:8080/"
        },
        "id": "8Xyoy1yZrqYs",
        "outputId": "5fdd064a-44df-4297-f0e8-3e92c69f9126"
      },
      "execution_count": null,
      "outputs": [
        {
          "output_type": "stream",
          "name": "stdout",
          "text": [
            "13\n",
            "-3\n",
            "40\n",
            "0.625\n"
          ]
        }
      ]
    },
    {
      "cell_type": "code",
      "source": [
        "x = 5\n",
        "y = \"jhon\"\n",
        "print(x,y)"
      ],
      "metadata": {
        "colab": {
          "base_uri": "https://localhost:8080/"
        },
        "id": "cf1HI3yDr6E5",
        "outputId": "7cb686df-82a4-456e-dfc9-a1f0e89059f3"
      },
      "execution_count": null,
      "outputs": [
        {
          "output_type": "stream",
          "name": "stdout",
          "text": [
            "5 jhon\n"
          ]
        }
      ]
    },
    {
      "cell_type": "markdown",
      "source": [
        "##functions"
      ],
      "metadata": {
        "id": "zNeMMTIwvhJg"
      }
    },
    {
      "cell_type": "code",
      "source": [
        "'''\n",
        "Scope of a variable\n",
        "1. Global scope of a variable\n",
        "2. Local scope of a variable\n",
        "'''\n",
        "'''\n",
        "func\n",
        "{\n",
        "  #it tells that what ever is inside this function come under func\n",
        "}\n",
        "'''\n",
        "##Fuctions: Starts with a keyword called def with name of the method\n",
        "def summation(a,b): ##a,b are called as arguments\n",
        "  sum = a+b #\n",
        "  return sum #return a keyword that sends the output back\n",
        "summation(10,14)"
      ],
      "metadata": {
        "colab": {
          "base_uri": "https://localhost:8080/"
        },
        "id": "3bVzkcKFsV2H",
        "outputId": "f59b08f2-6340-462f-c165-6538ea555de1"
      },
      "execution_count": null,
      "outputs": [
        {
          "output_type": "execute_result",
          "data": {
            "text/plain": [
              "24"
            ]
          },
          "metadata": {},
          "execution_count": 8
        }
      ]
    },
    {
      "cell_type": "code",
      "source": [
        "name = 'manasa'\n",
        "def printname(name):##variables that you define or overwrite stays within a function stays within a function\n",
        "  print(f'My name is {name}')\n",
        "printname('kohli')\n",
        "print(name)"
      ],
      "metadata": {
        "colab": {
          "base_uri": "https://localhost:8080/"
        },
        "id": "8LGizGxctxvt",
        "outputId": "45180d0f-8c2c-42db-c181-224cb4c834b6"
      },
      "execution_count": null,
      "outputs": [
        {
          "output_type": "stream",
          "name": "stdout",
          "text": [
            "My name is kohli\n",
            "manasa\n"
          ]
        }
      ]
    },
    {
      "cell_type": "code",
      "source": [
        "x = 13#global variable\n",
        "print(f'position 1 {x}')\n",
        "def multiplication(x,y):\n",
        "  print(f'position 2 {x}')\n",
        "  z = 10\n",
        "  x = 30\n",
        "  print(f'position 3 {x}')\n",
        "  prod = x*y*z\n",
        "  return prod\n",
        "print(multiplication(x,6))\n",
        "print(f'position 4 {x}')\n"
      ],
      "metadata": {
        "colab": {
          "base_uri": "https://localhost:8080/"
        },
        "id": "GXxKsfmHuXKg",
        "outputId": "4a77e3f5-378d-42d0-9223-1d02075ae0b1"
      },
      "execution_count": null,
      "outputs": [
        {
          "output_type": "stream",
          "name": "stdout",
          "text": [
            "position 1 13\n",
            "position 2 13\n",
            "position 3 30\n",
            "1800\n",
            "position 4 13\n"
          ]
        }
      ]
    },
    {
      "cell_type": "code",
      "source": [
        "a = 100\n",
        "a = a+20\n",
        "print(a)"
      ],
      "metadata": {
        "colab": {
          "base_uri": "https://localhost:8080/"
        },
        "id": "MBdREUCCwFC1",
        "outputId": "971655fe-5c7e-4725-f8bb-5c5aa330048d"
      },
      "execution_count": null,
      "outputs": [
        {
          "output_type": "stream",
          "name": "stdout",
          "text": [
            "120\n"
          ]
        }
      ]
    },
    {
      "cell_type": "code",
      "source": [
        "x = 10\n",
        "y = 30\n",
        "x,y = y,x\n",
        "print(x,y)"
      ],
      "metadata": {
        "colab": {
          "base_uri": "https://localhost:8080/"
        },
        "id": "GiCiuuScx2D7",
        "outputId": "d953301f-bc32-4322-8aeb-190d69aa9ff5"
      },
      "execution_count": null,
      "outputs": [
        {
          "output_type": "stream",
          "name": "stdout",
          "text": [
            "30 10\n"
          ]
        }
      ]
    },
    {
      "cell_type": "code",
      "source": [
        "## Data types\n",
        "'''\n",
        "Text : str\n",
        "Numeric : int,float\n",
        "Sequence : lists,tuples,Range\n",
        "Mapping : Dictionaries\n",
        "Boolean Datatypes : True, False\n",
        "'''"
      ],
      "metadata": {
        "id": "8H3ae8Jdy5Ov"
      },
      "execution_count": null,
      "outputs": []
    },
    {
      "cell_type": "code",
      "source": [
        "x = 'vinay'\n",
        "type(x)"
      ],
      "metadata": {
        "colab": {
          "base_uri": "https://localhost:8080/"
        },
        "id": "Qb2v9oQJzX4S",
        "outputId": "6c917a8b-90a1-4ef1-9f18-24c1dbf673fa"
      },
      "execution_count": null,
      "outputs": [
        {
          "output_type": "execute_result",
          "data": {
            "text/plain": [
              "str"
            ]
          },
          "metadata": {},
          "execution_count": 17
        }
      ]
    },
    {
      "cell_type": "code",
      "source": [
        "x = 870\n",
        "y = 5.87\n",
        "print(type(x))\n",
        "print(type(y))"
      ],
      "metadata": {
        "colab": {
          "base_uri": "https://localhost:8080/"
        },
        "id": "JF69JtEVzcYO",
        "outputId": "469afcfc-9f5e-4eee-f5d7-a96fb776619b"
      },
      "execution_count": null,
      "outputs": [
        {
          "output_type": "stream",
          "name": "stdout",
          "text": [
            "<class 'int'>\n",
            "<class 'float'>\n"
          ]
        }
      ]
    },
    {
      "cell_type": "code",
      "source": [
        "x,y = True,False\n",
        "print(type(x))\n",
        "print(type(y))"
      ],
      "metadata": {
        "colab": {
          "base_uri": "https://localhost:8080/"
        },
        "id": "uRcUfM5ZzsMj",
        "outputId": "2d8ff4dd-7b86-4a75-cfa1-ed1909c42c5d"
      },
      "execution_count": null,
      "outputs": [
        {
          "output_type": "stream",
          "name": "stdout",
          "text": [
            "<class 'bool'>\n",
            "<class 'bool'>\n"
          ]
        }
      ]
    },
    {
      "cell_type": "code",
      "source": [
        "x = 1\n",
        "y = 8.2\n",
        "z = '3'"
      ],
      "metadata": {
        "id": "gd-ALVTZz7OV"
      },
      "execution_count": null,
      "outputs": []
    },
    {
      "cell_type": "code",
      "source": [
        "str(y)"
      ],
      "metadata": {
        "colab": {
          "base_uri": "https://localhost:8080/",
          "height": 36
        },
        "id": "0OHAiw2A0jBK",
        "outputId": "7540137b-d29d-44bd-a665-402bfc676ef6"
      },
      "execution_count": null,
      "outputs": [
        {
          "output_type": "execute_result",
          "data": {
            "text/plain": [
              "'0'"
            ],
            "application/vnd.google.colaboratory.intrinsic+json": {
              "type": "string"
            }
          },
          "metadata": {},
          "execution_count": 24
        }
      ]
    },
    {
      "cell_type": "code",
      "source": [
        "x = '2'\n",
        "y = '3'\n",
        "z = '4'\n",
        "x = int(x)\n",
        "y = int(y)\n",
        "z = int(z)\n",
        "print(x,y,z)\n",
        "print(x*y*z)"
      ],
      "metadata": {
        "colab": {
          "base_uri": "https://localhost:8080/"
        },
        "id": "PQcOTPhq0s7U",
        "outputId": "a7c3d403-fdc1-48b3-da2a-0d74a31fd867"
      },
      "execution_count": null,
      "outputs": [
        {
          "output_type": "stream",
          "name": "stdout",
          "text": [
            "2 3 4\n",
            "24\n"
          ]
        }
      ]
    },
    {
      "cell_type": "code",
      "source": [
        "x = '2'\n",
        "y = '3'\n",
        "z = '4'\n",
        "def sum(x,y,z):\n",
        "  x = int(x)\n",
        "  y = int(y)\n",
        "  z = int(z)\n",
        "  return x*y*z\n",
        "sum(x,y,z)"
      ],
      "metadata": {
        "colab": {
          "base_uri": "https://localhost:8080/"
        },
        "id": "zRxCtFQW1Q16",
        "outputId": "5eb463dc-5d24-4aa6-860e-6fe5eea7c44e"
      },
      "execution_count": null,
      "outputs": [
        {
          "output_type": "execute_result",
          "data": {
            "text/plain": [
              "24"
            ]
          },
          "metadata": {},
          "execution_count": 34
        }
      ]
    },
    {
      "cell_type": "code",
      "source": [
        "sum(x,y,z)"
      ],
      "metadata": {
        "colab": {
          "base_uri": "https://localhost:8080/"
        },
        "id": "A-sGjnKJ3KhW",
        "outputId": "ff71132e-63c4-48b6-cd55-909350e995ff"
      },
      "execution_count": null,
      "outputs": [
        {
          "output_type": "execute_result",
          "data": {
            "text/plain": [
              "24"
            ]
          },
          "metadata": {},
          "execution_count": 35
        }
      ]
    },
    {
      "cell_type": "code",
      "source": [
        "x = 'apple'"
      ],
      "metadata": {
        "id": "iPSCvi0X3zwp"
      },
      "execution_count": null,
      "outputs": []
    },
    {
      "cell_type": "code",
      "source": [
        "#indexing\n",
        "##indexing is always [] square bracket\n",
        "## always positioning start from 0\n",
        "x[0]"
      ],
      "metadata": {
        "colab": {
          "base_uri": "https://localhost:8080/",
          "height": 36
        },
        "id": "daoXgwuI4Rdd",
        "outputId": "d2ae2057-587a-4f17-fbb4-270129c76206"
      },
      "execution_count": null,
      "outputs": [
        {
          "output_type": "execute_result",
          "data": {
            "text/plain": [
              "'a'"
            ],
            "application/vnd.google.colaboratory.intrinsic+json": {
              "type": "string"
            }
          },
          "metadata": {},
          "execution_count": 38
        }
      ]
    },
    {
      "cell_type": "code",
      "source": [
        "'''\n",
        "word : apple\n",
        "positive Indexing : a-0,p-1,p-2,l-3,e-4\n",
        "Negative Indexing : e- -1,l--2,p--3,p--4,a--5\n",
        "'''\n",
        "print(x[0])\n",
        "print(x[-5])"
      ],
      "metadata": {
        "colab": {
          "base_uri": "https://localhost:8080/"
        },
        "id": "scmnw1ZG4l9R",
        "outputId": "9a814083-e99f-4ddc-a3be-384854799fa5"
      },
      "execution_count": null,
      "outputs": [
        {
          "output_type": "stream",
          "name": "stdout",
          "text": [
            "a\n",
            "a\n"
          ]
        }
      ]
    },
    {
      "cell_type": "code",
      "source": [
        "x = 'orange'\n",
        "x[0:3]#startposition : endposition+1\n",
        "'''\n",
        "o-0--6\n",
        "r-1--5\n",
        "a-2--4\n",
        "n-3--3\n",
        "g-4--2\n",
        "e-5--1\n",
        "'''"
      ],
      "metadata": {
        "colab": {
          "base_uri": "https://localhost:8080/",
          "height": 36
        },
        "id": "Ypb7OL885bSQ",
        "outputId": "462ec6dc-1bd3-4a40-eee3-6699b7e8a681"
      },
      "execution_count": null,
      "outputs": [
        {
          "output_type": "execute_result",
          "data": {
            "text/plain": [
              "'ora'"
            ],
            "application/vnd.google.colaboratory.intrinsic+json": {
              "type": "string"
            }
          },
          "metadata": {},
          "execution_count": 43
        }
      ]
    },
    {
      "cell_type": "code",
      "source": [
        "x[-4:-2]"
      ],
      "metadata": {
        "colab": {
          "base_uri": "https://localhost:8080/",
          "height": 36
        },
        "id": "x-FEE2QK521Y",
        "outputId": "0029810b-fc3a-4f87-abf5-70ad8977420b"
      },
      "execution_count": null,
      "outputs": [
        {
          "output_type": "execute_result",
          "data": {
            "text/plain": [
              "'an'"
            ],
            "application/vnd.google.colaboratory.intrinsic+json": {
              "type": "string"
            }
          },
          "metadata": {},
          "execution_count": 44
        }
      ]
    },
    {
      "cell_type": "code",
      "source": [
        "x[-6:]"
      ],
      "metadata": {
        "colab": {
          "base_uri": "https://localhost:8080/",
          "height": 36
        },
        "id": "8y4CXLw06664",
        "outputId": "034d8a1a-3a16-4115-82e8-e9b38dd58a88"
      },
      "execution_count": null,
      "outputs": [
        {
          "output_type": "execute_result",
          "data": {
            "text/plain": [
              "'orange'"
            ],
            "application/vnd.google.colaboratory.intrinsic+json": {
              "type": "string"
            }
          },
          "metadata": {},
          "execution_count": 46
        }
      ]
    },
    {
      "cell_type": "code",
      "source": [
        "y = 'pristige'\n",
        "for m in range(0,len(y)):\n",
        "  print(m)\n",
        "  print(y[m])"
      ],
      "metadata": {
        "id": "3gccvrQY7ALX",
        "colab": {
          "base_uri": "https://localhost:8080/"
        },
        "outputId": "5536528e-ed67-4e81-b1cd-43ba5ad614ba"
      },
      "execution_count": null,
      "outputs": [
        {
          "output_type": "stream",
          "name": "stdout",
          "text": [
            "0\n",
            "p\n",
            "1\n",
            "r\n",
            "2\n",
            "i\n",
            "3\n",
            "s\n",
            "4\n",
            "t\n",
            "5\n",
            "i\n",
            "6\n",
            "g\n",
            "7\n",
            "e\n"
          ]
        }
      ]
    },
    {
      "cell_type": "code",
      "source": [
        "a = 'manasa'\n",
        "print('a'in a)"
      ],
      "metadata": {
        "colab": {
          "base_uri": "https://localhost:8080/"
        },
        "id": "9pYzy8jB71Vb",
        "outputId": "760e9bb7-88a6-4bcd-88e8-b95b06cdff12"
      },
      "execution_count": null,
      "outputs": [
        {
          "output_type": "stream",
          "name": "stdout",
          "text": [
            "True\n"
          ]
        }
      ]
    },
    {
      "cell_type": "code",
      "source": [
        "a = 'manasa'\n",
        "print('m'not in a)"
      ],
      "metadata": {
        "colab": {
          "base_uri": "https://localhost:8080/"
        },
        "id": "Ys8HWvie-e3I",
        "outputId": "bfd68c7f-6572-494f-c6f3-cfdb64f3e5a4"
      },
      "execution_count": null,
      "outputs": [
        {
          "output_type": "stream",
          "name": "stdout",
          "text": [
            "False\n"
          ]
        }
      ]
    },
    {
      "cell_type": "code",
      "source": [
        "y = 'bhoj reddy engineering college'\n",
        "if'reddy'in y:\n",
        "\n",
        "  print('present')\n",
        "else:\n",
        "  print('absent')"
      ],
      "metadata": {
        "colab": {
          "base_uri": "https://localhost:8080/"
        },
        "id": "Bjjyx2g7-ojo",
        "outputId": "58f63ccf-f8e7-4b8c-aaa1-3256eadbbfa2"
      },
      "execution_count": null,
      "outputs": [
        {
          "output_type": "stream",
          "name": "stdout",
          "text": [
            "present\n"
          ]
        }
      ]
    },
    {
      "cell_type": "code",
      "source": [
        "if'manasa'in y:\n",
        "  print('present')\n",
        "else:\n",
        "  print('absent')"
      ],
      "metadata": {
        "colab": {
          "base_uri": "https://localhost:8080/"
        },
        "id": "x2krIWfV_B46",
        "outputId": "49a3dba1-5fa5-429c-82e1-e31b24e9fe84"
      },
      "execution_count": null,
      "outputs": [
        {
          "output_type": "stream",
          "name": "stdout",
          "text": [
            "absent\n"
          ]
        }
      ]
    },
    {
      "cell_type": "code",
      "source": [
        "mynum = 10\n",
        "print(mynum)\n",
        "mynum2 = 'manasa'\n",
        "print(mynum2)\n",
        "mynum3 = 4.86\n",
        "print(mynum3)"
      ],
      "metadata": {
        "colab": {
          "base_uri": "https://localhost:8080/"
        },
        "id": "aNbOeuYx_PoW",
        "outputId": "30f86e13-95ec-417a-9509-e6a88dbb4421"
      },
      "execution_count": null,
      "outputs": [
        {
          "output_type": "stream",
          "name": "stdout",
          "text": [
            "10\n",
            "manasa\n",
            "4.86\n"
          ]
        }
      ]
    },
    {
      "cell_type": "code",
      "source": [
        "num = []\n",
        "num.append(20)\n",
        "num.append('manasa')\n",
        "num.append(9.8)\n",
        "print(num)"
      ],
      "metadata": {
        "colab": {
          "base_uri": "https://localhost:8080/"
        },
        "id": "kQ-npNH9A3I6",
        "outputId": "fffb0a98-7cd8-4b73-a7f6-2472c3579684"
      },
      "execution_count": null,
      "outputs": [
        {
          "output_type": "stream",
          "name": "stdout",
          "text": [
            "[20, 'manasa', 9.8]\n"
          ]
        }
      ]
    },
    {
      "cell_type": "code",
      "source": [
        "name = input(\"enter the name: \")\n",
        "print(\"hello\",name)"
      ],
      "metadata": {
        "colab": {
          "base_uri": "https://localhost:8080/"
        },
        "id": "R1090uXYCEhb",
        "outputId": "23c6e031-8d90-46b3-c8f3-38eeff9c3b67"
      },
      "execution_count": null,
      "outputs": [
        {
          "output_type": "stream",
          "name": "stdout",
          "text": [
            "enter the name: manu\n",
            "hello manu\n"
          ]
        }
      ]
    },
    {
      "cell_type": "code",
      "source": [
        "x = 'Hyderabad'\n",
        "#to convert this string into uppercase\n",
        "x = x.upper()\n",
        "x"
      ],
      "metadata": {
        "id": "oy-UU3AiCtRf",
        "colab": {
          "base_uri": "https://localhost:8080/",
          "height": 36
        },
        "outputId": "698f5ff6-c7c9-4d03-a40e-c66c856c2bed"
      },
      "execution_count": null,
      "outputs": [
        {
          "output_type": "execute_result",
          "data": {
            "text/plain": [
              "'HYDERABAD'"
            ],
            "application/vnd.google.colaboratory.intrinsic+json": {
              "type": "string"
            }
          },
          "metadata": {},
          "execution_count": 1
        }
      ]
    },
    {
      "cell_type": "code",
      "source": [
        "x = 'DATA SCIENCE'\n",
        "x = x.lower()\n",
        "x"
      ],
      "metadata": {
        "colab": {
          "base_uri": "https://localhost:8080/",
          "height": 36
        },
        "id": "bD171fRO-ofB",
        "outputId": "616bbde8-cc08-4b62-fd5d-6162971ccb3f"
      },
      "execution_count": null,
      "outputs": [
        {
          "output_type": "execute_result",
          "data": {
            "text/plain": [
              "'data science'"
            ],
            "application/vnd.google.colaboratory.intrinsic+json": {
              "type": "string"
            }
          },
          "metadata": {},
          "execution_count": 3
        }
      ]
    },
    {
      "cell_type": "code",
      "source": [
        "a = 'I wanted to eat bananas'\n",
        "#objective here is to replace banana with orange\n",
        "a.replace(\"bananas\",\"orange\")\n"
      ],
      "metadata": {
        "colab": {
          "base_uri": "https://localhost:8080/",
          "height": 36
        },
        "id": "RRY5aZ7h-ypo",
        "outputId": "f355c832-638e-44b2-aa79-7dfd2abf5449"
      },
      "execution_count": null,
      "outputs": [
        {
          "output_type": "execute_result",
          "data": {
            "text/plain": [
              "'I wanted to eat orange'"
            ],
            "application/vnd.google.colaboratory.intrinsic+json": {
              "type": "string"
            }
          },
          "metadata": {},
          "execution_count": 6
        }
      ]
    },
    {
      "cell_type": "code",
      "source": [
        "a = 'I want to go delhi'\n",
        "#to split the sentence into words\n",
        "a.split(\" \")"
      ],
      "metadata": {
        "colab": {
          "base_uri": "https://localhost:8080/"
        },
        "id": "FXrXBB1n-9LQ",
        "outputId": "c71e8a33-4636-49c5-fe69-c625b0dc76d3"
      },
      "execution_count": null,
      "outputs": [
        {
          "output_type": "execute_result",
          "data": {
            "text/plain": [
              "['I', 'want', 'to', 'go', 'delhi']"
            ]
          },
          "metadata": {},
          "execution_count": 7
        }
      ]
    },
    {
      "cell_type": "code",
      "source": [
        "#concatenate two strings\n",
        "a = \"New\"\n",
        "b = \"Delhi\"\n",
        "a+' '+b"
      ],
      "metadata": {
        "colab": {
          "base_uri": "https://localhost:8080/",
          "height": 36
        },
        "id": "FYsM3KFN_wS7",
        "outputId": "c492c4cd-7a50-4166-f8a3-a68dae06e21a"
      },
      "execution_count": null,
      "outputs": [
        {
          "output_type": "execute_result",
          "data": {
            "text/plain": [
              "'New Delhi'"
            ],
            "application/vnd.google.colaboratory.intrinsic+json": {
              "type": "string"
            }
          },
          "metadata": {},
          "execution_count": 10
        }
      ]
    },
    {
      "cell_type": "code",
      "source": [
        "a+b"
      ],
      "metadata": {
        "colab": {
          "base_uri": "https://localhost:8080/",
          "height": 36
        },
        "id": "d6BTreisAEa9",
        "outputId": "dd56da2c-32c5-4c33-b3b9-177dd30e7bbf"
      },
      "execution_count": null,
      "outputs": [
        {
          "output_type": "execute_result",
          "data": {
            "text/plain": [
              "'NewDelhi'"
            ],
            "application/vnd.google.colaboratory.intrinsic+json": {
              "type": "string"
            }
          },
          "metadata": {},
          "execution_count": 11
        }
      ]
    },
    {
      "cell_type": "markdown",
      "source": [
        "Operators\n"
      ],
      "metadata": {
        "id": "w86Qap02A0Av"
      }
    },
    {
      "cell_type": "code",
      "source": [
        "x = 10\n",
        "y = 5\n",
        "print(x>y)\n",
        "print(x)"
      ],
      "metadata": {
        "colab": {
          "base_uri": "https://localhost:8080/"
        },
        "id": "15cf4IADA3oV",
        "outputId": "8a85f203-ea54-460c-da9d-2f26ba8dde76"
      },
      "execution_count": null,
      "outputs": [
        {
          "output_type": "stream",
          "name": "stdout",
          "text": [
            "True\n",
            "10\n"
          ]
        }
      ]
    },
    {
      "cell_type": "code",
      "source": [
        "x = 10\n",
        "y = 5\n",
        "z = x>y\n",
        "print(int(z))"
      ],
      "metadata": {
        "colab": {
          "base_uri": "https://localhost:8080/"
        },
        "id": "VWVJlt_-BCfo",
        "outputId": "4de91a3f-9704-4e40-a5ca-979ed9b8e879"
      },
      "execution_count": null,
      "outputs": [
        {
          "output_type": "stream",
          "name": "stdout",
          "text": [
            "1\n"
          ]
        }
      ]
    },
    {
      "cell_type": "code",
      "source": [
        "x == y"
      ],
      "metadata": {
        "colab": {
          "base_uri": "https://localhost:8080/"
        },
        "id": "Uvk71XaGBcJ_",
        "outputId": "4d51fa7a-c836-47a5-a569-4f6d58fba0c7"
      },
      "execution_count": null,
      "outputs": [
        {
          "output_type": "execute_result",
          "data": {
            "text/plain": [
              "False"
            ]
          },
          "metadata": {},
          "execution_count": 15
        }
      ]
    },
    {
      "cell_type": "code",
      "source": [
        "x<y"
      ],
      "metadata": {
        "colab": {
          "base_uri": "https://localhost:8080/"
        },
        "id": "0gfLD0fDBeRq",
        "outputId": "b26b374a-5049-49a0-d73b-229e2e381bf5"
      },
      "execution_count": null,
      "outputs": [
        {
          "output_type": "execute_result",
          "data": {
            "text/plain": [
              "False"
            ]
          },
          "metadata": {},
          "execution_count": 16
        }
      ]
    },
    {
      "cell_type": "code",
      "source": [
        "x!=y"
      ],
      "metadata": {
        "colab": {
          "base_uri": "https://localhost:8080/"
        },
        "id": "EWM121jXBfuv",
        "outputId": "499ed065-b225-485c-cd46-b2b67771be5b"
      },
      "execution_count": null,
      "outputs": [
        {
          "output_type": "execute_result",
          "data": {
            "text/plain": [
              "True"
            ]
          },
          "metadata": {},
          "execution_count": 17
        }
      ]
    },
    {
      "cell_type": "code",
      "source": [
        "#python code to declare two variables as 200,33 and use ifelse to print which is greater than\n",
        "a = 200\n",
        "b = 33\n",
        "if a>b:\n",
        "  print(a)\n",
        "else:\n",
        "  print(b)"
      ],
      "metadata": {
        "colab": {
          "base_uri": "https://localhost:8080/"
        },
        "id": "_2KGvdeNBig2",
        "outputId": "870d889f-5153-43fc-f206-b74a4341c03c"
      },
      "execution_count": null,
      "outputs": [
        {
          "output_type": "stream",
          "name": "stdout",
          "text": [
            "200\n"
          ]
        }
      ]
    },
    {
      "cell_type": "code",
      "source": [
        "#usetype conversion to convert hello and 15 into bool\n",
        "a = \"Hello\"\n",
        "b = 15\n",
        "print(bool(x))\n",
        "print(bool(y))"
      ],
      "metadata": {
        "colab": {
          "base_uri": "https://localhost:8080/"
        },
        "id": "Nfpn86oqCGoG",
        "outputId": "e4c9be7e-31ae-4aa4-938c-0f0c4d9e5563"
      },
      "execution_count": null,
      "outputs": [
        {
          "output_type": "stream",
          "name": "stdout",
          "text": [
            "True\n",
            "True\n"
          ]
        }
      ]
    },
    {
      "cell_type": "code",
      "source": [
        "#python code to declare 45 and cbeck if divisible by both 5 and 9\n",
        "a = 45\n",
        "print(45%5) ##% always returns reminder\n"
      ],
      "metadata": {
        "colab": {
          "base_uri": "https://localhost:8080/"
        },
        "id": "fb0Qb17wCj7i",
        "outputId": "496a8a9f-3cdf-4269-8bc3-d44155e610de"
      },
      "execution_count": null,
      "outputs": [
        {
          "output_type": "stream",
          "name": "stdout",
          "text": [
            "0\n"
          ]
        }
      ]
    },
    {
      "cell_type": "code",
      "source": [
        "'''\n",
        "OR\n",
        " A B Output\n",
        " 0 0  0\n",
        " 0 1  1\n",
        " 1 0  1\n",
        " 1 1  1\n",
        "AND\n",
        " A B Output\n",
        " 0 0  0\n",
        " 0 1  0\n",
        " 1 0  0\n",
        " 1 1  1\n",
        " '''\n"
      ],
      "metadata": {
        "colab": {
          "base_uri": "https://localhost:8080/",
          "height": 36
        },
        "id": "WWYoaMlzDVnu",
        "outputId": "d6e9d9f5-93b3-40b1-eee9-7e5d8eac5575"
      },
      "execution_count": null,
      "outputs": [
        {
          "output_type": "execute_result",
          "data": {
            "text/plain": [
              "'\\nOR\\n A B Output\\n 0 0  0\\n 0 1  1\\n 1 0  1\\n 1 1  1\\nAND\\n A B Output\\n 0 0  0\\n 0 1  0\\n 1 0  0\\n 1 1  1\\n '"
            ],
            "application/vnd.google.colaboratory.intrinsic+json": {
              "type": "string"
            }
          },
          "metadata": {},
          "execution_count": 2
        }
      ]
    },
    {
      "cell_type": "code",
      "source": [
        "print(((a % 5) == 0) and ((a % 9) == 0))"
      ],
      "metadata": {
        "colab": {
          "base_uri": "https://localhost:8080/"
        },
        "id": "Mmu7yS9cEMFm",
        "outputId": "4962468d-db95-4f39-c3b2-e36d684415d9"
      },
      "execution_count": null,
      "outputs": [
        {
          "output_type": "stream",
          "name": "stdout",
          "text": [
            "True\n"
          ]
        }
      ]
    },
    {
      "cell_type": "code",
      "source": [
        "#code to dclare a string 'cats  comes from tiger family'\n",
        "#a.\n",
        "a = 'cats comes from tiger family'\n",
        "if 'Tiger' in a:\n",
        "  print('present')\n",
        "else:\n",
        "  print('absent')\n",
        "\n"
      ],
      "metadata": {
        "colab": {
          "base_uri": "https://localhost:8080/"
        },
        "id": "77s80rRjFQgc",
        "outputId": "ea9736bd-57e6-4747-82c2-8d87da6f100f"
      },
      "execution_count": null,
      "outputs": [
        {
          "output_type": "stream",
          "name": "stdout",
          "text": [
            "absent\n"
          ]
        }
      ]
    },
    {
      "cell_type": "code",
      "source": [
        "#b.\n",
        "a.upper()"
      ],
      "metadata": {
        "colab": {
          "base_uri": "https://localhost:8080/",
          "height": 36
        },
        "id": "zyGANSXbGB5F",
        "outputId": "fab67a9c-6e5e-4741-b528-bc785ea49792"
      },
      "execution_count": null,
      "outputs": [
        {
          "output_type": "execute_result",
          "data": {
            "text/plain": [
              "'CATS COMES FROM TIGER FAMILY'"
            ],
            "application/vnd.google.colaboratory.intrinsic+json": {
              "type": "string"
            }
          },
          "metadata": {},
          "execution_count": 39
        }
      ]
    },
    {
      "cell_type": "code",
      "source": [
        "#c.\n",
        "a.lower()"
      ],
      "metadata": {
        "colab": {
          "base_uri": "https://localhost:8080/",
          "height": 36
        },
        "id": "NSRwxSh7Ggtf",
        "outputId": "fe0f306a-dd58-48a7-a5fd-88d778ecfc5c"
      },
      "execution_count": null,
      "outputs": [
        {
          "output_type": "execute_result",
          "data": {
            "text/plain": [
              "'cats comes from tiger family'"
            ],
            "application/vnd.google.colaboratory.intrinsic+json": {
              "type": "string"
            }
          },
          "metadata": {},
          "execution_count": 40
        }
      ]
    },
    {
      "cell_type": "code",
      "source": [
        "#d.\n",
        "a.split(' ')"
      ],
      "metadata": {
        "colab": {
          "base_uri": "https://localhost:8080/"
        },
        "id": "bQQAAzQ8Gl2y",
        "outputId": "e0423068-3b76-4cf8-ee63-1fb130a16329"
      },
      "execution_count": null,
      "outputs": [
        {
          "output_type": "execute_result",
          "data": {
            "text/plain": [
              "['cats', 'comes', 'from', 'tiger', 'family']"
            ]
          },
          "metadata": {},
          "execution_count": 41
        }
      ]
    },
    {
      "cell_type": "code",
      "source": [
        "#e.\n",
        "if ('cats' in a) and ('tiger' in a):\n",
        "  print('true')\n",
        "else:\n",
        "  print('false')"
      ],
      "metadata": {
        "colab": {
          "base_uri": "https://localhost:8080/"
        },
        "id": "6B-Gl-bAGpQF",
        "outputId": "7c4c8d14-5971-4748-f2d2-753fdb202f37"
      },
      "execution_count": null,
      "outputs": [
        {
          "output_type": "stream",
          "name": "stdout",
          "text": [
            "true\n"
          ]
        }
      ]
    },
    {
      "cell_type": "code",
      "source": [
        "#f.\n",
        "a[5:10]\n"
      ],
      "metadata": {
        "colab": {
          "base_uri": "https://localhost:8080/",
          "height": 36
        },
        "id": "o-6nhVFvHZc6",
        "outputId": "2f769eb6-5094-4927-c95a-1dfebd168f6e"
      },
      "execution_count": null,
      "outputs": [
        {
          "output_type": "execute_result",
          "data": {
            "text/plain": [
              "'comes'"
            ],
            "application/vnd.google.colaboratory.intrinsic+json": {
              "type": "string"
            }
          },
          "metadata": {},
          "execution_count": 56
        }
      ]
    },
    {
      "cell_type": "code",
      "source": [
        "a[-23:-18]"
      ],
      "metadata": {
        "colab": {
          "base_uri": "https://localhost:8080/",
          "height": 36
        },
        "id": "YFyycwkzHiT-",
        "outputId": "f4b28629-f34f-4910-eb62-98cf4416ac1d"
      },
      "execution_count": null,
      "outputs": [
        {
          "output_type": "execute_result",
          "data": {
            "text/plain": [
              "'comes'"
            ],
            "application/vnd.google.colaboratory.intrinsic+json": {
              "type": "string"
            }
          },
          "metadata": {},
          "execution_count": 55
        }
      ]
    },
    {
      "cell_type": "code",
      "source": [
        "#g.\n",
        "for i in a:\n",
        "  print(i)"
      ],
      "metadata": {
        "colab": {
          "base_uri": "https://localhost:8080/"
        },
        "id": "lowQKEt6HsTW",
        "outputId": "21777f50-222d-43bc-d149-8c4edb6c7ce8"
      },
      "execution_count": null,
      "outputs": [
        {
          "output_type": "stream",
          "name": "stdout",
          "text": [
            "c\n",
            "a\n",
            "t\n",
            "s\n",
            " \n",
            "c\n",
            "o\n",
            "m\n",
            "e\n",
            "s\n",
            " \n",
            "f\n",
            "r\n",
            "o\n",
            "m\n",
            " \n",
            "t\n",
            "i\n",
            "g\n",
            "e\n",
            "r\n",
            " \n",
            "f\n",
            "a\n",
            "m\n",
            "i\n",
            "l\n",
            "y\n"
          ]
        }
      ]
    },
    {
      "cell_type": "code",
      "source": [
        "#h.\n",
        "len(a)\n",
        "\n",
        "\n"
      ],
      "metadata": {
        "colab": {
          "base_uri": "https://localhost:8080/"
        },
        "id": "GQce8PFzIIbl",
        "outputId": "d441cd51-1ebc-4cda-d0a1-00a82c681127"
      },
      "execution_count": null,
      "outputs": [
        {
          "output_type": "execute_result",
          "data": {
            "text/plain": [
              "28"
            ]
          },
          "metadata": {},
          "execution_count": 62
        }
      ]
    },
    {
      "cell_type": "code",
      "source": [
        "#e.\n",
        "if 'cats and tiger' in a:\n",
        "  print('true')\n",
        "else:\n",
        "  print('false')"
      ],
      "metadata": {
        "colab": {
          "base_uri": "https://localhost:8080/"
        },
        "id": "YPUAdBQIJUF9",
        "outputId": "d42d570a-2b0a-4e29-a072-b17c184de2aa"
      },
      "execution_count": null,
      "outputs": [
        {
          "output_type": "stream",
          "name": "stdout",
          "text": [
            "false\n"
          ]
        }
      ]
    },
    {
      "cell_type": "code",
      "source": [],
      "metadata": {
        "id": "U9bjKvUWKgeJ"
      },
      "execution_count": null,
      "outputs": []
    },
    {
      "cell_type": "markdown",
      "source": [
        "##List"
      ],
      "metadata": {
        "id": "m4c6HvyILL6X"
      }
    },
    {
      "cell_type": "code",
      "source": [
        "'''\n",
        " variable carrying a single value\n",
        " []\n",
        " '''\n",
        "x = ['apples','mangos','oranges']\n",
        "y = ['apples',1,2,13,True,False]\n",
        "z = [1,3,54,5656,34]\n",
        "m = [True,False,True]"
      ],
      "metadata": {
        "id": "ch_xP-74LN6f"
      },
      "execution_count": null,
      "outputs": []
    },
    {
      "cell_type": "code",
      "source": [
        "type(x)"
      ],
      "metadata": {
        "colab": {
          "base_uri": "https://localhost:8080/"
        },
        "id": "SFDj3JasL7Ul",
        "outputId": "8eeb7d30-65d8-44ca-8e8a-0706ffd0f258"
      },
      "execution_count": null,
      "outputs": [
        {
          "output_type": "execute_result",
          "data": {
            "text/plain": [
              "list"
            ]
          },
          "metadata": {},
          "execution_count": 70
        }
      ]
    },
    {
      "cell_type": "code",
      "source": [
        "x[0]"
      ],
      "metadata": {
        "colab": {
          "base_uri": "https://localhost:8080/",
          "height": 36
        },
        "id": "5R_tJVD8MKZ6",
        "outputId": "d6dc58de-fed7-4a7e-d437-c5212791dd7f"
      },
      "execution_count": null,
      "outputs": [
        {
          "output_type": "execute_result",
          "data": {
            "text/plain": [
              "'apples'"
            ],
            "application/vnd.google.colaboratory.intrinsic+json": {
              "type": "string"
            }
          },
          "metadata": {},
          "execution_count": 71
        }
      ]
    },
    {
      "cell_type": "code",
      "source": [
        "x[-1]"
      ],
      "metadata": {
        "colab": {
          "base_uri": "https://localhost:8080/",
          "height": 36
        },
        "id": "UdYXcfhxMMJC",
        "outputId": "8ffff20a-aa7a-467b-ef29-bd5d81d851db"
      },
      "execution_count": null,
      "outputs": [
        {
          "output_type": "execute_result",
          "data": {
            "text/plain": [
              "'oranges'"
            ],
            "application/vnd.google.colaboratory.intrinsic+json": {
              "type": "string"
            }
          },
          "metadata": {},
          "execution_count": 72
        }
      ]
    },
    {
      "cell_type": "code",
      "source": [
        "len(x)"
      ],
      "metadata": {
        "colab": {
          "base_uri": "https://localhost:8080/"
        },
        "id": "v70GMPswMN0H",
        "outputId": "e9c63a57-2017-4f34-9347-cf91519ad946"
      },
      "execution_count": null,
      "outputs": [
        {
          "output_type": "execute_result",
          "data": {
            "text/plain": [
              "3"
            ]
          },
          "metadata": {},
          "execution_count": 73
        }
      ]
    },
    {
      "cell_type": "code",
      "source": [
        "x=[i%2 == 0 for i in range(1,21)]\n",
        "x"
      ],
      "metadata": {
        "colab": {
          "base_uri": "https://localhost:8080/"
        },
        "id": "91uczfkd3uNG",
        "outputId": "19e7fbf8-6066-4dde-e7d5-530eb93da5b4"
      },
      "execution_count": null,
      "outputs": [
        {
          "output_type": "execute_result",
          "data": {
            "text/plain": [
              "[False,\n",
              " True,\n",
              " False,\n",
              " True,\n",
              " False,\n",
              " True,\n",
              " False,\n",
              " True,\n",
              " False,\n",
              " True,\n",
              " False,\n",
              " True,\n",
              " False,\n",
              " True,\n",
              " False,\n",
              " True,\n",
              " False,\n",
              " True,\n",
              " False,\n",
              " True]"
            ]
          },
          "metadata": {},
          "execution_count": 6
        }
      ]
    },
    {
      "cell_type": "code",
      "source": [
        "'''\n",
        "1. Lists are mutable -add,delete\n",
        "2. Ordered\n",
        "'''"
      ],
      "metadata": {
        "colab": {
          "base_uri": "https://localhost:8080/",
          "height": 36
        },
        "id": "PIuACsd1MRPJ",
        "outputId": "f51bd6a2-89d5-41e2-8c33-909b02b1d131"
      },
      "execution_count": null,
      "outputs": [
        {
          "output_type": "execute_result",
          "data": {
            "text/plain": [
              "'\\n1. Lists are mutable -add,delete\\n2. Ordered\\n'"
            ],
            "application/vnd.google.colaboratory.intrinsic+json": {
              "type": "string"
            }
          },
          "metadata": {},
          "execution_count": 74
        }
      ]
    },
    {
      "cell_type": "code",
      "source": [
        "for i in x:\n",
        "  print(i)"
      ],
      "metadata": {
        "colab": {
          "base_uri": "https://localhost:8080/"
        },
        "id": "LXOpoE3gMb2A",
        "outputId": "2714ad96-e7fd-4e59-c470-095a8937ba1c"
      },
      "execution_count": null,
      "outputs": [
        {
          "output_type": "stream",
          "name": "stdout",
          "text": [
            "apples\n",
            "mangos\n",
            "oranges\n"
          ]
        }
      ]
    },
    {
      "cell_type": "code",
      "source": [
        "for i in range(0,len(x)):\n",
        "  print(x[i])\n"
      ],
      "metadata": {
        "colab": {
          "base_uri": "https://localhost:8080/"
        },
        "id": "HP085O_tMjWl",
        "outputId": "a6378efe-a4fe-4e53-ab5c-55e5fde131e2"
      },
      "execution_count": null,
      "outputs": [
        {
          "output_type": "stream",
          "name": "stdout",
          "text": [
            "apples\n",
            "mangos\n",
            "oranges\n"
          ]
        }
      ]
    },
    {
      "cell_type": "code",
      "source": [
        "import string\n",
        "alphabet_series = string.ascii_lowercase\n",
        "print(alphabet_series)"
      ],
      "metadata": {
        "colab": {
          "base_uri": "https://localhost:8080/"
        },
        "id": "shnxivZ7EIix",
        "outputId": "a85f3557-f30b-4a7f-93b7-652bdd090be4"
      },
      "execution_count": null,
      "outputs": [
        {
          "output_type": "stream",
          "name": "stdout",
          "text": [
            "abcdefghijklmnopqrstuvwxyz\n"
          ]
        }
      ]
    },
    {
      "cell_type": "code",
      "source": [
        "# A program to reverse a string canvas\n",
        "x = 'canvas'\n",
        "x[: : -1]"
      ],
      "metadata": {
        "id": "Qdj-rGF0Mxp3",
        "colab": {
          "base_uri": "https://localhost:8080/",
          "height": 36
        },
        "outputId": "f768d734-7638-47ad-9d35-d1b254044a4c"
      },
      "execution_count": null,
      "outputs": [
        {
          "output_type": "execute_result",
          "data": {
            "text/plain": [
              "'savnac'"
            ],
            "application/vnd.google.colaboratory.intrinsic+json": {
              "type": "string"
            }
          },
          "metadata": {},
          "execution_count": 6
        }
      ]
    },
    {
      "cell_type": "code",
      "source": [
        "# program to count vowels and consonents in a string: \"Rome is city\"\n",
        "x = input(\"enter a string:\")\n",
        "x.lower()\n",
        "v = 0\n",
        "c = 0\n",
        "for words in x:\n",
        "  for letter in words:\n",
        "    if (letter == 'a' or letter == 'e' or letter == 'i' or letter == 'o' or letter ==  'u'):\n",
        "      v+= 1\n",
        "    else:\n",
        "      c+= 1\n",
        "print(f'the number of vowel are {v},the number of consonets are {c}')\n"
      ],
      "metadata": {
        "colab": {
          "base_uri": "https://localhost:8080/"
        },
        "id": "22jPnz3KGSH7",
        "outputId": "5772230f-e3df-45d3-cf7f-d7e8defcaad4"
      },
      "execution_count": null,
      "outputs": [
        {
          "output_type": "stream",
          "name": "stdout",
          "text": [
            "enter a string:Rome is city\n",
            "the number of vowel are 4,the number of consonets are 8\n"
          ]
        }
      ]
    },
    {
      "cell_type": "code",
      "source": [
        "#program to count no of letters in the string:\"Covid10 is affected\"\n",
        "x = input(\"enter a string:\")\n",
        "c = 0\n",
        "for words in x:\n",
        "  c+= len(words)\n",
        "print(f'the number of letters in the string are{c} ')"
      ],
      "metadata": {
        "colab": {
          "base_uri": "https://localhost:8080/"
        },
        "id": "oWWQz62TI9Nn",
        "outputId": "e9a8ba8d-ec37-490a-f1f3-f4b68c6aeb27"
      },
      "execution_count": null,
      "outputs": [
        {
          "output_type": "stream",
          "name": "stdout",
          "text": [
            "enter a string:covid10 is affected\n",
            "the number of letters in the string are19 \n"
          ]
        }
      ]
    },
    {
      "cell_type": "code",
      "source": [
        "#to print count of numeric,upper,lower and speciall characters in \"@pyTh)nlobb!Y34\"\n",
        "x = input(\"enter a string:\")\n",
        "n = 0\n",
        "u = 0\n",
        "l = 0\n",
        "s = 0\n",
        "\n",
        "for letter in x:\n",
        "  if letter.isdigit():\n",
        "      n+= 1\n",
        "  elif letter.islower():\n",
        "      l+= 1\n",
        "  elif letter.isupper():\n",
        "      u+= 1\n",
        "  else:\n",
        "      s+= 1\n",
        "print(f'numeric:{n}\\nupper:{u}\\nlower:{l}\\nspecial:{s}')\n"
      ],
      "metadata": {
        "colab": {
          "base_uri": "https://localhost:8080/"
        },
        "id": "qCvxXaL8JxI2",
        "outputId": "911cd509-8fef-4bc0-84ec-5e6f5797b73c"
      },
      "execution_count": null,
      "outputs": [
        {
          "output_type": "stream",
          "name": "stdout",
          "text": [
            "enter a string:@pyTh)nlobb!Y34\n",
            "numeric:2\n",
            "upper:2\n",
            "lower:8\n",
            "special:3\n"
          ]
        }
      ]
    },
    {
      "cell_type": "code",
      "source": [
        "'''\n",
        "python code to create a list of 10 numbers from 0 to 9\n",
        "i. print even no\n",
        "ii. print odd no\n",
        "iii.append 10 to even nos and 11 to odd numbers\n",
        "'''"
      ],
      "metadata": {
        "colab": {
          "base_uri": "https://localhost:8080/",
          "height": 36
        },
        "id": "aErR6WqTslPI",
        "outputId": "21807a8a-fc82-4087-c884-432d2086d716"
      },
      "execution_count": null,
      "outputs": [
        {
          "output_type": "execute_result",
          "data": {
            "text/plain": [
              "'\\npython code to create a list of 10 numbers from 0 to 9\\ni. print even no\\nii. print odd no\\niii.append 10 to even nos and 11 to odd numbers\\n'"
            ],
            "application/vnd.google.colaboratory.intrinsic+json": {
              "type": "string"
            }
          },
          "metadata": {},
          "execution_count": 1
        }
      ]
    },
    {
      "cell_type": "code",
      "source": [
        "#x = [0,1,2,3,4,5,6,7,8,9]\n",
        "l2 = []\n",
        "for i in range(0,10):\n",
        "  l2.append(i)\n",
        "print(l2)"
      ],
      "metadata": {
        "colab": {
          "base_uri": "https://localhost:8080/"
        },
        "id": "iFdbv7v0yLei",
        "outputId": "d1a5a0d6-2e5c-46b8-9d84-289c845d8bdf"
      },
      "execution_count": null,
      "outputs": [
        {
          "output_type": "stream",
          "name": "stdout",
          "text": [
            "[0, 1, 2, 3, 4, 5, 6, 7, 8, 9]\n"
          ]
        }
      ]
    },
    {
      "cell_type": "code",
      "source": [
        "#for iteration we use for loop"
      ],
      "metadata": {
        "id": "Ui9k8lRqzp5E"
      },
      "execution_count": null,
      "outputs": []
    },
    {
      "cell_type": "code",
      "source": [
        "#i\n",
        "even = []\n",
        "for i in l2:\n",
        "  if i%2==0:\n",
        "    even.append(i)\n",
        "print(even)"
      ],
      "metadata": {
        "colab": {
          "base_uri": "https://localhost:8080/"
        },
        "id": "UHxfqzdiz3V-",
        "outputId": "e22e755f-ddd4-4295-b6d8-3e0a9710f1ff"
      },
      "execution_count": null,
      "outputs": [
        {
          "output_type": "stream",
          "name": "stdout",
          "text": [
            "[0, 2, 4, 6, 8]\n"
          ]
        }
      ]
    },
    {
      "cell_type": "code",
      "source": [
        "#ii\n",
        "odd = []\n",
        "for i in l2:\n",
        "  if i%2!=0:\n",
        "    odd.append(i)\n",
        "print(odd)\n"
      ],
      "metadata": {
        "colab": {
          "base_uri": "https://localhost:8080/"
        },
        "id": "QZuYhcFK1foH",
        "outputId": "6dc6155e-b665-425b-871f-514f2b482812"
      },
      "execution_count": null,
      "outputs": [
        {
          "output_type": "stream",
          "name": "stdout",
          "text": [
            "[1, 3, 5, 7, 9]\n"
          ]
        }
      ]
    },
    {
      "cell_type": "code",
      "source": [],
      "metadata": {
        "id": "S_FHB9UHxeFe"
      },
      "execution_count": null,
      "outputs": []
    },
    {
      "cell_type": "code",
      "source": [
        "even.append(10)\n",
        "print(even)"
      ],
      "metadata": {
        "colab": {
          "base_uri": "https://localhost:8080/"
        },
        "id": "oPB2fNiS10Es",
        "outputId": "9870b51c-4b6f-4056-fe21-fbd474fb7e21"
      },
      "execution_count": null,
      "outputs": [
        {
          "output_type": "stream",
          "name": "stdout",
          "text": [
            "[0, 2, 4, 6, 8, 10]\n"
          ]
        }
      ]
    },
    {
      "cell_type": "code",
      "source": [
        "odd.append(11)\n",
        "print(odd)\n"
      ],
      "metadata": {
        "colab": {
          "base_uri": "https://localhost:8080/"
        },
        "id": "n9HK-VTN3bv7",
        "outputId": "82b2cf79-32b1-4c3e-b09c-b166012e0910"
      },
      "execution_count": null,
      "outputs": [
        {
          "output_type": "stream",
          "name": "stdout",
          "text": [
            "[1, 3, 5, 7, 9, 11, 11, 11, 11, 11]\n"
          ]
        }
      ]
    },
    {
      "cell_type": "code",
      "source": [
        "odd.remove(11)\n",
        "print(odd)"
      ],
      "metadata": {
        "colab": {
          "base_uri": "https://localhost:8080/"
        },
        "id": "jul9sgZi5A-f",
        "outputId": "17440681-6acc-47d6-c07e-a00f4afdbbbb"
      },
      "execution_count": null,
      "outputs": [
        {
          "output_type": "stream",
          "name": "stdout",
          "text": [
            "[1, 3, 5, 7, 9, 11]\n"
          ]
        }
      ]
    },
    {
      "cell_type": "code",
      "source": [
        "l1 = []\n",
        "for i in range(0,10):\n",
        "  l1.append(i)\n",
        "print(l1)"
      ],
      "metadata": {
        "colab": {
          "base_uri": "https://localhost:8080/"
        },
        "id": "58rVC2Ut5YWP",
        "outputId": "c95de227-edbd-4cb7-cee6-02ec2acad976"
      },
      "execution_count": null,
      "outputs": [
        {
          "output_type": "stream",
          "name": "stdout",
          "text": [
            "[0, 1, 2, 3, 4, 5, 6, 7, 8, 9]\n"
          ]
        }
      ]
    },
    {
      "cell_type": "code",
      "source": [
        "even = []\n",
        "odd = []\n",
        "for i in l1:\n",
        "  if i%2==0:\n",
        "    even.append(i)\n",
        "  else:\n",
        "    odd.append(i)\n",
        "print(\"even numbers are:\",even)\n",
        "print(\"odd numbers are:\",odd)"
      ],
      "metadata": {
        "colab": {
          "base_uri": "https://localhost:8080/"
        },
        "id": "acqSofTh52CM",
        "outputId": "bf573b6f-da8d-45df-cdeb-9713cf8dcdf5"
      },
      "execution_count": null,
      "outputs": [
        {
          "output_type": "stream",
          "name": "stdout",
          "text": [
            "even numbers are: [0, 2, 4, 6, 8]\n",
            "odd numbers are: [1, 3, 5, 7, 9]\n"
          ]
        }
      ]
    },
    {
      "cell_type": "code",
      "source": [
        "word = [\"madam\",'3643',\"apple\",'3756']\n",
        "count = 0\n",
        "for i in word:\n",
        "  if ((i[0] == i[-1]) and (len(i)>1)):\n",
        "    count = count+1"
      ],
      "metadata": {
        "id": "FZLUmw_g6eG7"
      },
      "execution_count": null,
      "outputs": []
    },
    {
      "cell_type": "code",
      "source": [
        "count"
      ],
      "metadata": {
        "colab": {
          "base_uri": "https://localhost:8080/"
        },
        "id": "QZi61kkUbH0e",
        "outputId": "40580dda-dff1-4af0-ee85-5b90684baa85"
      },
      "execution_count": null,
      "outputs": [
        {
          "output_type": "execute_result",
          "data": {
            "text/plain": [
              "2"
            ]
          },
          "metadata": {},
          "execution_count": 7
        }
      ]
    },
    {
      "cell_type": "code",
      "source": [
        "#1. python code to sum all the numbers\n",
        "a = [1,7,-10,34,2,-8]\n",
        "sum = 0\n",
        "for i in a:\n",
        "  sum+= i\n",
        "print(sum)"
      ],
      "metadata": {
        "colab": {
          "base_uri": "https://localhost:8080/"
        },
        "id": "SlryGpI9bouP",
        "outputId": "a6f071bd-b609-4ad3-81b7-ed5a51bc81cc"
      },
      "execution_count": null,
      "outputs": [
        {
          "output_type": "stream",
          "name": "stdout",
          "text": [
            "26\n"
          ]
        }
      ]
    },
    {
      "cell_type": "code",
      "source": [
        "#2.pyhton code to multiply all no in the list\n",
        "a = [3,4,5,4,7]\n",
        "mul = 1\n",
        "for i in a:\n",
        "  mul*= i\n",
        "print(mul)"
      ],
      "metadata": {
        "colab": {
          "base_uri": "https://localhost:8080/"
        },
        "id": "onFfOMUmet4D",
        "outputId": "c028f7d3-bec1-4d69-f79a-a50b172074fd"
      },
      "execution_count": null,
      "outputs": [
        {
          "output_type": "stream",
          "name": "stdout",
          "text": [
            "1680\n"
          ]
        }
      ]
    },
    {
      "cell_type": "code",
      "source": [
        "# 3.Write a Python program to get the largest number from a list\n",
        "a = [1,7,10,34,2,8]\n",
        "print(max(a))"
      ],
      "metadata": {
        "colab": {
          "base_uri": "https://localhost:8080/"
        },
        "id": "Rauy6Q_2fkD7",
        "outputId": "de538cf3-eb73-4412-b6a5-c90ff3ab4d84"
      },
      "execution_count": null,
      "outputs": [
        {
          "output_type": "stream",
          "name": "stdout",
          "text": [
            "34\n"
          ]
        }
      ]
    },
    {
      "cell_type": "code",
      "source": [
        "#4. Write a Python program to get the smallest number from a list\n",
        "a = [51,7,10,34,2,8]\n",
        "print(min(a))"
      ],
      "metadata": {
        "colab": {
          "base_uri": "https://localhost:8080/"
        },
        "id": "HJhz35frgr4-",
        "outputId": "bab16eef-2bab-4bdd-f96f-48eb43db0763"
      },
      "execution_count": null,
      "outputs": [
        {
          "output_type": "stream",
          "name": "stdout",
          "text": [
            "2\n"
          ]
        }
      ]
    },
    {
      "cell_type": "code",
      "source": [
        "#5.Write a Python program to count the number of strings where the string length is 2 or more and the first and last character are same from a given list of strings\n",
        "a = [\"manasa\",'1',\"yadala\",'1221']\n",
        "c = 0\n",
        "for i in word:\n",
        "  if len(i)>1 and i[0]==i[-1]:\n",
        "    c+=1\n",
        "print(c)"
      ],
      "metadata": {
        "colab": {
          "base_uri": "https://localhost:8080/",
          "height": 245
        },
        "id": "I2bmKB-ehqwO",
        "outputId": "4c3cf5eb-9276-47af-f9da-d07f354c86c0"
      },
      "execution_count": null,
      "outputs": [
        {
          "output_type": "error",
          "ename": "NameError",
          "evalue": "ignored",
          "traceback": [
            "\u001b[0;31m---------------------------------------------------------------------------\u001b[0m",
            "\u001b[0;31mNameError\u001b[0m                                 Traceback (most recent call last)",
            "\u001b[0;32m<ipython-input-5-a0e48375cfd0>\u001b[0m in \u001b[0;36m<cell line: 4>\u001b[0;34m()\u001b[0m\n\u001b[1;32m      2\u001b[0m \u001b[0ma\u001b[0m \u001b[0;34m=\u001b[0m \u001b[0;34m[\u001b[0m\u001b[0;34m\"manasa\"\u001b[0m\u001b[0;34m,\u001b[0m\u001b[0;34m'1'\u001b[0m\u001b[0;34m,\u001b[0m\u001b[0;34m\"yadala\"\u001b[0m\u001b[0;34m,\u001b[0m\u001b[0;34m'1221'\u001b[0m\u001b[0;34m]\u001b[0m\u001b[0;34m\u001b[0m\u001b[0;34m\u001b[0m\u001b[0m\n\u001b[1;32m      3\u001b[0m \u001b[0mc\u001b[0m \u001b[0;34m=\u001b[0m \u001b[0;36m0\u001b[0m\u001b[0;34m\u001b[0m\u001b[0;34m\u001b[0m\u001b[0m\n\u001b[0;32m----> 4\u001b[0;31m \u001b[0;32mfor\u001b[0m \u001b[0mi\u001b[0m \u001b[0;32min\u001b[0m \u001b[0mword\u001b[0m\u001b[0;34m:\u001b[0m\u001b[0;34m\u001b[0m\u001b[0;34m\u001b[0m\u001b[0m\n\u001b[0m\u001b[1;32m      5\u001b[0m   \u001b[0;32mif\u001b[0m \u001b[0mlen\u001b[0m\u001b[0;34m(\u001b[0m\u001b[0mi\u001b[0m\u001b[0;34m)\u001b[0m\u001b[0;34m>\u001b[0m\u001b[0;36m1\u001b[0m \u001b[0;32mand\u001b[0m \u001b[0mi\u001b[0m\u001b[0;34m[\u001b[0m\u001b[0;36m0\u001b[0m\u001b[0;34m]\u001b[0m\u001b[0;34m==\u001b[0m\u001b[0mi\u001b[0m\u001b[0;34m[\u001b[0m\u001b[0;34m-\u001b[0m\u001b[0;36m1\u001b[0m\u001b[0;34m]\u001b[0m\u001b[0;34m:\u001b[0m\u001b[0;34m\u001b[0m\u001b[0;34m\u001b[0m\u001b[0m\n\u001b[1;32m      6\u001b[0m     \u001b[0mc\u001b[0m\u001b[0;34m+=\u001b[0m\u001b[0;36m1\u001b[0m\u001b[0;34m\u001b[0m\u001b[0;34m\u001b[0m\u001b[0m\n",
            "\u001b[0;31mNameError\u001b[0m: name 'word' is not defined"
          ]
        }
      ]
    },
    {
      "cell_type": "code",
      "source": [
        "#6. Write a Python program to remove duplicates from a list\n",
        "a = [1,2,5,6,3,5,3,0,7,8,9,6,8,7,9,0]\n",
        "list(set(a))"
      ],
      "metadata": {
        "colab": {
          "base_uri": "https://localhost:8080/"
        },
        "id": "CCtUVPcPi3uV",
        "outputId": "386352b3-7cb9-40eb-ddd5-36cd4290307e"
      },
      "execution_count": null,
      "outputs": [
        {
          "output_type": "execute_result",
          "data": {
            "text/plain": [
              "[0, 1, 2, 3, 5, 6, 7, 8, 9]"
            ]
          },
          "metadata": {},
          "execution_count": 27
        }
      ]
    },
    {
      "cell_type": "code",
      "source": [
        "#7.Write a Python program to check a list is empty or not\n",
        "a = ['1','2','3']\n",
        "if a!=[]:\n",
        "  print(\"not empty\")\n",
        "else:\n",
        "  print(\"empty\")"
      ],
      "metadata": {
        "colab": {
          "base_uri": "https://localhost:8080/"
        },
        "id": "XnGYuWVpoMIB",
        "outputId": "a016bfd0-dcfa-4b3c-fbce-9b5746477eb2"
      },
      "execution_count": null,
      "outputs": [
        {
          "output_type": "stream",
          "name": "stdout",
          "text": [
            "not empty\n"
          ]
        }
      ]
    },
    {
      "cell_type": "code",
      "source": [
        "#8. Write a Python program to clone or copy a list\n",
        "a = ['1','2','3']\n",
        "b = []\n",
        "b.extend(a)\n",
        "print(b)\n"
      ],
      "metadata": {
        "colab": {
          "base_uri": "https://localhost:8080/"
        },
        "id": "9HNF6Bpsq9cM",
        "outputId": "8c68f541-61e7-4307-efa0-85b5ba41051b"
      },
      "execution_count": null,
      "outputs": [
        {
          "output_type": "stream",
          "name": "stdout",
          "text": [
            "['1', '2', '3']\n"
          ]
        }
      ]
    },
    {
      "cell_type": "code",
      "source": [
        "#9.  Write a Python program to find the list of words that are longer than n from a given list of words\n",
        "def long_word(n,str):\n",
        "  word_len = []\n",
        "  txt = str.split(\" \")\n",
        "  for x in txt:\n",
        "    if len(x)>n:\n",
        "      word_len.append(x)\n",
        "  return word_len\n",
        "print(long_word(2,\"one and only is the thing\"))"
      ],
      "metadata": {
        "colab": {
          "base_uri": "https://localhost:8080/"
        },
        "id": "c2JjChoErv9b",
        "outputId": "833b284e-c482-4fce-afb3-bc397ce86bff"
      },
      "execution_count": null,
      "outputs": [
        {
          "output_type": "stream",
          "name": "stdout",
          "text": [
            "['one', 'and', 'only', 'the', 'thing']\n"
          ]
        }
      ]
    },
    {
      "cell_type": "code",
      "source": [
        "#10. Write a Program that get two lists as input and check if they have at least one common member\n",
        "def common_word(l1,l2):\n",
        "    result = False\n",
        "    for x in l1:\n",
        "        for y in l2:\n",
        "            if x==y:\n",
        "                result = True\n",
        "                return result\n",
        "print(common_word([1,2,3,4,5],[5,6,7,8,9]))"
      ],
      "metadata": {
        "colab": {
          "base_uri": "https://localhost:8080/"
        },
        "id": "ta71Wdirvr0I",
        "outputId": "f1eb849a-3b6b-4644-bf4b-f3a6047cd3b1"
      },
      "execution_count": null,
      "outputs": [
        {
          "output_type": "stream",
          "name": "stdout",
          "text": [
            "True\n"
          ]
        }
      ]
    },
    {
      "cell_type": "code",
      "source": [
        "def common_data(list1, list2):\n",
        "     result = False\n",
        "     for x in list1:\n",
        "         for y in list2:\n",
        "             if x == y:\n",
        "                 result = True\n",
        "                 return result\n",
        "print(common_data([1,2,3,4,5], [5,6,7,8,9]))\n"
      ],
      "metadata": {
        "id": "1NPBmypPxYcE",
        "colab": {
          "base_uri": "https://localhost:8080/"
        },
        "outputId": "35d286ac-1f2e-45ab-9f6a-ac7770150975"
      },
      "execution_count": null,
      "outputs": [
        {
          "output_type": "stream",
          "name": "stdout",
          "text": [
            "True\n"
          ]
        }
      ]
    },
    {
      "cell_type": "code",
      "source": [
        "list1=[1,2,3,4,5]\n",
        "list2=[5,6,7,8,9]\n",
        "result = False\n",
        "for x in list1:\n",
        " for y in list2:\n",
        "\t if x == y:\n",
        "\t\t result = True\n",
        "\t\t print(result)\n",
        "if result:\n",
        "    print(\"Lists have at least one common member\")\n",
        "else:\n",
        "    print(\"Lists do not have any common member\")"
      ],
      "metadata": {
        "colab": {
          "base_uri": "https://localhost:8080/"
        },
        "id": "vummJeuDraR0",
        "outputId": "85a6a8ce-6471-414b-a0f1-52969a0b3bb0"
      },
      "execution_count": null,
      "outputs": [
        {
          "output_type": "stream",
          "name": "stdout",
          "text": [
            "True\n",
            "Lists have at least one common member\n"
          ]
        }
      ]
    },
    {
      "cell_type": "code",
      "source": [
        "#11. Write a Python program to print a specified list after removing the 0th, 4th and 5th elements. (enumerate)\n",
        "a = [\"man\",\"cat\",\"dog\",\"ant\",\"fox\",\"rat\"]\n",
        "a = [x for (i,x)in enumerate(a) if i not in(0,4,5)]\n",
        "print(a)"
      ],
      "metadata": {
        "colab": {
          "base_uri": "https://localhost:8080/"
        },
        "id": "k1_6mLoFtps7",
        "outputId": "8407ca6f-e77f-4e7b-8781-7607b9c20538"
      },
      "execution_count": null,
      "outputs": [
        {
          "output_type": "stream",
          "name": "stdout",
          "text": [
            "['cat', 'dog', 'ant']\n"
          ]
        }
      ]
    },
    {
      "cell_type": "code",
      "source": [
        "#12. Write a Python program to print the numbers of a specified list after removing even numbers from it\n",
        "a = [1,2,3,4,5,6,7,8,9,51]\n",
        "even = []\n",
        "odd = []\n",
        "for i in a:\n",
        "  if i%2==0:\n",
        "    even.append(i)\n",
        "  else:\n",
        "    odd.append(i)\n",
        "print(odd)\n"
      ],
      "metadata": {
        "colab": {
          "base_uri": "https://localhost:8080/"
        },
        "id": "KhACZHb4vC9q",
        "outputId": "d0689aab-e6ac-48a7-cd93-fe20079e4274"
      },
      "execution_count": null,
      "outputs": [
        {
          "output_type": "stream",
          "name": "stdout",
          "text": [
            "[1, 3, 5, 7, 9, 51]\n"
          ]
        }
      ]
    },
    {
      "cell_type": "code",
      "source": [
        "#13. Write a Python program to shuffle and print a specified list (shuffle)\n",
        "from random import shuffle\n",
        "a = [\"man\",\"cat\",\"dog\",\"ant\",\"fox\",\"rat\"]\n",
        "shuffle(a)\n",
        "print(a)\n"
      ],
      "metadata": {
        "colab": {
          "base_uri": "https://localhost:8080/"
        },
        "id": "Dkw5rzgyxTER",
        "outputId": "c3c7ff87-77e5-4364-e191-ed8c80057e28"
      },
      "execution_count": null,
      "outputs": [
        {
          "output_type": "stream",
          "name": "stdout",
          "text": [
            "['rat', 'fox', 'cat', 'man', 'ant', 'dog']\n"
          ]
        }
      ]
    },
    {
      "cell_type": "code",
      "source": [
        "#14. Write a Python program to generate and print a list of first and last 5 elements where the values are square of numbers between 1 and 30\n",
        "a = list()\n",
        "for i in range(1,30):\n",
        "  a.append(i**i)\n",
        "print(a[:5])\n",
        "print(a[-5:])"
      ],
      "metadata": {
        "colab": {
          "base_uri": "https://localhost:8080/"
        },
        "id": "Od9xhxyNyVT-",
        "outputId": "b6400671-35e6-437f-949b-79c100bf1054"
      },
      "execution_count": null,
      "outputs": [
        {
          "output_type": "stream",
          "name": "stdout",
          "text": [
            "[1, 4, 27, 256, 3125]\n",
            "[88817841970012523233890533447265625, 6156119580207157310796674288400203776, 443426488243037769948249630619149892803, 33145523113253374862572728253364605812736, 2567686153161211134561828214731016126483469]\n"
          ]
        }
      ]
    },
    {
      "cell_type": "code",
      "source": [
        "#15. Write a Python program to generate all permutations of a list in Python. (itertools)\n",
        "a = [1,2,3]\n",
        "import itertools\n",
        "list(itertools.permutations(a))"
      ],
      "metadata": {
        "colab": {
          "base_uri": "https://localhost:8080/"
        },
        "id": "Cu1-sXQz0CgE",
        "outputId": "646f8563-8d9f-4a75-8ac6-712841ce14b1"
      },
      "execution_count": null,
      "outputs": [
        {
          "output_type": "execute_result",
          "data": {
            "text/plain": [
              "[(1, 2, 3), (1, 3, 2), (2, 1, 3), (2, 3, 1), (3, 1, 2), (3, 2, 1)]"
            ]
          },
          "metadata": {},
          "execution_count": 42
        }
      ]
    },
    {
      "cell_type": "code",
      "source": [
        "#16. Write a Python program to convert a list of characters into a string\n",
        "a = ['m','a','n','a','s','a']\n",
        "string = ''.join(a)\n",
        "print(string)"
      ],
      "metadata": {
        "colab": {
          "base_uri": "https://localhost:8080/"
        },
        "id": "iAZXk5eE0_9J",
        "outputId": "b4b7eeca-c363-4946-f619-8e5d673f5e6a"
      },
      "execution_count": null,
      "outputs": [
        {
          "output_type": "stream",
          "name": "stdout",
          "text": [
            "manasa\n"
          ]
        }
      ]
    },
    {
      "cell_type": "code",
      "source": [
        "#17. Write a Python program to find the index of an item in a specified list\n",
        "a = [1,90,85,64,89,76]\n",
        "print(a.index(64))"
      ],
      "metadata": {
        "id": "lNInIFW213xc",
        "colab": {
          "base_uri": "https://localhost:8080/"
        },
        "outputId": "3f78a91d-78e1-4b43-c436-4b8acb230e00"
      },
      "execution_count": null,
      "outputs": [
        {
          "output_type": "stream",
          "name": "stdout",
          "text": [
            "3\n"
          ]
        }
      ]
    },
    {
      "cell_type": "code",
      "source": [
        "#18. Write a Python program to flatten a shallow list\n",
        "y = [[12,14,76],[86,75,9],[90,64,24]]\n",
        "shal = []\n",
        "for i in y:\n",
        "  for j in i:\n",
        "    shal.append(j)\n",
        "print(shal)\n"
      ],
      "metadata": {
        "colab": {
          "base_uri": "https://localhost:8080/"
        },
        "id": "H01txWQZn3Hq",
        "outputId": "70a585ad-7ace-467a-f908-f93898a3cc36"
      },
      "execution_count": null,
      "outputs": [
        {
          "output_type": "stream",
          "name": "stdout",
          "text": [
            "[12, 14, 76, 86, 75, 9, 90, 64, 24]\n"
          ]
        }
      ]
    },
    {
      "cell_type": "code",
      "source": [
        "#19. Write a Python program to add a list to the second list\n",
        "y = [1,2,3,4,56]\n",
        "z = [\"fan\",\"box\",\"sun\"]\n",
        "print(y+z)"
      ],
      "metadata": {
        "colab": {
          "base_uri": "https://localhost:8080/"
        },
        "id": "uNs2Z66_pL8p",
        "outputId": "06813fe3-10fa-493b-8a79-c748b0ec09ad"
      },
      "execution_count": null,
      "outputs": [
        {
          "output_type": "stream",
          "name": "stdout",
          "text": [
            "[1, 2, 3, 4, 56, 'fan', 'box', 'sun']\n"
          ]
        }
      ]
    },
    {
      "cell_type": "code",
      "source": [
        "'''\n",
        "name = ['snowball','chewy','bubbles','gruff']\n",
        "animal = ['cat','dog','fish','gaot']\n",
        "age = [1,2,2,6]\n",
        "'''"
      ],
      "metadata": {
        "colab": {
          "base_uri": "https://localhost:8080/",
          "height": 36
        },
        "id": "R8WUf_u8sHSQ",
        "outputId": "cfb06db3-a884-449a-8d99-4aeb327da67c"
      },
      "execution_count": null,
      "outputs": [
        {
          "output_type": "execute_result",
          "data": {
            "text/plain": [
              "\"\\nname = ['snowball','chewy','bubbles','gruff']\\nanimal = ['cat','dog','fish','gaot']\\nage = [1,2,2,6]\\n\""
            ],
            "application/vnd.google.colaboratory.intrinsic+json": {
              "type": "string"
            }
          },
          "metadata": {},
          "execution_count": 5
        }
      ]
    },
    {
      "cell_type": "code",
      "source": [
        "name = ['snowball','chewy','bubbles','gruff']\n",
        "animal = ['cat','dog','fish','gaot']\n",
        "age = [1,2,2,6]\n",
        "for x,y,z in zip(name,animal,age):\n",
        "  print(f'{x} {y} is {z}')\n",
        "\n",
        "\n"
      ],
      "metadata": {
        "colab": {
          "base_uri": "https://localhost:8080/"
        },
        "id": "INKx9E-ksia1",
        "outputId": "818f96b7-9fa7-4936-8338-bcda383e27dc"
      },
      "execution_count": null,
      "outputs": [
        {
          "output_type": "stream",
          "name": "stdout",
          "text": [
            "snowball cat is 1\n",
            "chewy dog is 2\n",
            "bubbles fish is 2\n",
            "gruff gaot is 6\n"
          ]
        }
      ]
    },
    {
      "cell_type": "code",
      "source": [
        "'''\n",
        "write the pyhton  code to find reverse of the list[100,200,300,400,500]\n",
        "'''\n",
        "l = [100,200,300,400,500]\n",
        "l[: :-1]"
      ],
      "metadata": {
        "colab": {
          "base_uri": "https://localhost:8080/"
        },
        "id": "fETLLAJTtSHI",
        "outputId": "b4ad4b2c-a46f-449a-c15a-4f3a55ae8876"
      },
      "execution_count": null,
      "outputs": [
        {
          "output_type": "execute_result",
          "data": {
            "text/plain": [
              "[500, 400, 300, 200, 100]"
            ]
          },
          "metadata": {},
          "execution_count": 8
        }
      ]
    },
    {
      "cell_type": "code",
      "source": [
        "l1 = [\"m\",\"na\",\"i\",\"ke\"]\n",
        "l2 = [\"y\",\"me\",\"s\",\"lly\"]\n",
        "for x,y in zip(l1,l2):\n",
        "  print(f'{x}{y}')"
      ],
      "metadata": {
        "colab": {
          "base_uri": "https://localhost:8080/"
        },
        "id": "Sk3TdFVatq6-",
        "outputId": "07143282-0202-47f7-a71d-7d8542195a73"
      },
      "execution_count": null,
      "outputs": [
        {
          "output_type": "stream",
          "name": "stdout",
          "text": [
            "my\n",
            "name\n",
            "is\n",
            "kelly\n"
          ]
        }
      ]
    },
    {
      "cell_type": "code",
      "source": [
        "l1 = [\"m\",\"na\",\"i\",\"ke\"]\n",
        "l2 = [\"y\",\"me\",\"s\",\"lly\"]\n",
        "a = []\n",
        "for x,y in zip(l1,l2):\n",
        "  k = x+y\n",
        "  a.append(k)\n",
        "\" \".join(a)"
      ],
      "metadata": {
        "colab": {
          "base_uri": "https://localhost:8080/",
          "height": 36
        },
        "id": "c9D2R4vfvBha",
        "outputId": "9e7623d6-4798-4375-9528-443857e51c09"
      },
      "execution_count": null,
      "outputs": [
        {
          "output_type": "execute_result",
          "data": {
            "text/plain": [
              "'my name is kelly'"
            ],
            "application/vnd.google.colaboratory.intrinsic+json": {
              "type": "string"
            }
          },
          "metadata": {},
          "execution_count": 13
        }
      ]
    },
    {
      "cell_type": "code",
      "source": [
        "a"
      ],
      "metadata": {
        "colab": {
          "base_uri": "https://localhost:8080/"
        },
        "id": "ZSc9Y0JWvtDF",
        "outputId": "2a0ef174-ab13-45ed-9519-84bd3e7cec73"
      },
      "execution_count": null,
      "outputs": [
        {
          "output_type": "execute_result",
          "data": {
            "text/plain": [
              "['my', 'name', 'is', 'kelly']"
            ]
          },
          "metadata": {},
          "execution_count": 14
        }
      ]
    },
    {
      "cell_type": "code",
      "source": [
        "'''\n",
        "python code\n",
        "l1 = [\"hello\",\"take\"]\n",
        "l2 = [\"dear\",\"son\"]\n",
        "op:\n",
        "['hello dear','hello son','take dear','take son']\n",
        "'''"
      ],
      "metadata": {
        "colab": {
          "base_uri": "https://localhost:8080/",
          "height": 36
        },
        "id": "v3quBL6Iv5E1",
        "outputId": "bd6669f8-4799-4772-d019-66502f2d6a73"
      },
      "execution_count": null,
      "outputs": [
        {
          "output_type": "execute_result",
          "data": {
            "text/plain": [
              "'\\npython code\\nl1 = [\"hello\",\"take\"]\\nl2 = [\"dear\",\"son\"]\\nop:\\n[\\'hello dear\\',\\'hello son\\',\\'take dear\\',\\'take son\\']\\n'"
            ],
            "application/vnd.google.colaboratory.intrinsic+json": {
              "type": "string"
            }
          },
          "metadata": {},
          "execution_count": 16
        }
      ]
    },
    {
      "cell_type": "code",
      "source": [
        "l1 = [\"hello\",\"take\"]\n",
        "l2 = [\"dear\",\"son\"]\n",
        "a = []\n",
        "for x in l1:\n",
        "  for y in l2:\n",
        "    k = x+\" \"+y\n",
        "    a.append(k)\n",
        "print(a)"
      ],
      "metadata": {
        "colab": {
          "base_uri": "https://localhost:8080/"
        },
        "id": "8pLBNXANwXcg",
        "outputId": "27277806-dc3a-43c1-d3f6-8ff566433526"
      },
      "execution_count": null,
      "outputs": [
        {
          "output_type": "stream",
          "name": "stdout",
          "text": [
            "['hello dear', 'hello son', 'take dear', 'take son']\n"
          ]
        }
      ]
    },
    {
      "cell_type": "code",
      "source": [
        "a"
      ],
      "metadata": {
        "colab": {
          "base_uri": "https://localhost:8080/"
        },
        "id": "ZHF2is3hxM5_",
        "outputId": "8a12c81f-59bd-4271-f8ac-c6887ae3757f"
      },
      "execution_count": null,
      "outputs": [
        {
          "output_type": "execute_result",
          "data": {
            "text/plain": [
              "['hello dear', 'hello son', 'take dear', 'take son']"
            ]
          },
          "metadata": {},
          "execution_count": 20
        }
      ]
    },
    {
      "cell_type": "code",
      "source": [
        "#20. Write a Python program to select an item randomly from a list Using random.choice()\n",
        "import random\n",
        "a = [\"manasa\",\"priyanka\",\"sowmya\",\"harshi\",\"dinu\"]\n",
        "print(random.choice(a))\n"
      ],
      "metadata": {
        "colab": {
          "base_uri": "https://localhost:8080/"
        },
        "id": "Nt9LKh-6xaqD",
        "outputId": "ae3d244d-7edf-474a-cb20-26ce727b4514"
      },
      "execution_count": null,
      "outputs": [
        {
          "output_type": "stream",
          "name": "stdout",
          "text": [
            "harshi\n"
          ]
        }
      ]
    },
    {
      "cell_type": "code",
      "source": [
        "l1 = [10,20,30,40]\n",
        "l2 = [100,200,300,400]\n",
        "l3 = l2[::-1]\n",
        "for x,y in zip(l1,l3):\n",
        "  print(f'{x} {y}')\n",
        "\n"
      ],
      "metadata": {
        "colab": {
          "base_uri": "https://localhost:8080/"
        },
        "id": "1rTJ3e3DyU2k",
        "outputId": "32a940b8-487c-4324-cc34-e9fb1b8c25ca"
      },
      "execution_count": null,
      "outputs": [
        {
          "output_type": "stream",
          "name": "stdout",
          "text": [
            "10 400\n",
            "20 300\n",
            "30 200\n",
            "40 100\n"
          ]
        }
      ]
    },
    {
      "cell_type": "code",
      "source": [
        "'''\n",
        "1. remove empty strings from the list of strings l = [\"mike\",\"emma\",\"kelly\",\"\",\"brad\"]\n",
        "2. list1 = [10,20[300,400[500,600],500],30,40]\n",
        "           [10,20,[3300,400,[5000,6000,7000],500],30,40] append 7000 to the list\n",
        "'''"
      ],
      "metadata": {
        "id": "01dTaTCEyvV7"
      },
      "execution_count": null,
      "outputs": []
    },
    {
      "cell_type": "code",
      "source": [
        "#1.\n",
        "l = [\"mike\",\"emma\",\"kelly\",\"\",\"brad\"]\n",
        "l.remove(\"\")\n",
        "print(l)"
      ],
      "metadata": {
        "colab": {
          "base_uri": "https://localhost:8080/"
        },
        "id": "RMnKYa35AA1k",
        "outputId": "f94c942c-8fd2-425a-a8ce-88e0d9dfaf4d"
      },
      "execution_count": null,
      "outputs": [
        {
          "output_type": "stream",
          "name": "stdout",
          "text": [
            "['mike', 'emma', 'kelly', 'brad']\n"
          ]
        }
      ]
    },
    {
      "cell_type": "code",
      "source": [
        "#2.\n",
        "list1 = [10, 20, [300, 400, [5000 ,6000], 500], 30, 40]\n",
        "list1[2][2].append(7000)\n",
        "print(list1)"
      ],
      "metadata": {
        "colab": {
          "base_uri": "https://localhost:8080/"
        },
        "id": "wYesQ2xlAJe1",
        "outputId": "56aa2843-9659-4547-d832-7ded81ce791e"
      },
      "execution_count": null,
      "outputs": [
        {
          "output_type": "stream",
          "name": "stdout",
          "text": [
            "[10, 20, [300, 400, [5000, 6000, 7000], 500], 30, 40]\n"
          ]
        }
      ]
    },
    {
      "cell_type": "code",
      "source": [
        "list1"
      ],
      "metadata": {
        "colab": {
          "base_uri": "https://localhost:8080/"
        },
        "id": "hW8tqUhfAcUW",
        "outputId": "d2541bcd-bc0a-4191-dc73-02706fc81e2c"
      },
      "execution_count": null,
      "outputs": [
        {
          "output_type": "execute_result",
          "data": {
            "text/plain": [
              "[10, 20, [300, 400, [5000, 6000, 7000], 500], 30, 40]"
            ]
          },
          "metadata": {},
          "execution_count": 14
        }
      ]
    },
    {
      "cell_type": "code",
      "source": [
        "'''\n",
        "3.replace list's item with new value if found\n",
        "you have  given a python list. write a program to find value 20 in the list,\n",
        "and if it is present ,replace it with 200.only update the first occurance of an item.\n",
        "4. remove all occurances of a specific item from a list.\n",
        "given a pyhton list,write a program to remove all occurrences of item 20\n",
        "'''"
      ],
      "metadata": {
        "colab": {
          "base_uri": "https://localhost:8080/",
          "height": 53
        },
        "id": "UqZ7ZDmwCy9c",
        "outputId": "645d6cc4-344a-438e-ddfb-6ed1c5b6c216"
      },
      "execution_count": null,
      "outputs": [
        {
          "output_type": "execute_result",
          "data": {
            "text/plain": [
              "\"\\n3.replace list's item with new value if found \\nyou have  given a python list. write a program to find value 20 in the list,\\nand if it is present ,replace it with 200.only update the first occurance of an item.\\n4. remove all occurances of a specific item from a list.\\ngiven a pyhton list,write a program to remove all occurrences of item 20\\n\""
            ],
            "application/vnd.google.colaboratory.intrinsic+json": {
              "type": "string"
            }
          },
          "metadata": {},
          "execution_count": 16
        }
      ]
    },
    {
      "cell_type": "code",
      "source": [
        "#3.\n",
        "l1 = [5,10,20,25,50,20]\n",
        "index = l1.index(20)\n",
        "l1[index] = 200\n",
        "print(l1)"
      ],
      "metadata": {
        "colab": {
          "base_uri": "https://localhost:8080/"
        },
        "id": "4jKOfYN7EFiw",
        "outputId": "0cdf9a98-c038-4952-e3a3-12d4f0fab1d3"
      },
      "execution_count": null,
      "outputs": [
        {
          "output_type": "stream",
          "name": "stdout",
          "text": [
            "[5, 10, 200, 25, 50, 20]\n"
          ]
        }
      ]
    },
    {
      "cell_type": "code",
      "source": [
        "l1 = [int(i) for i in input().split()]\n",
        "for i in range(0,len(l1)):\n",
        "  if (l1[i]==20):\n",
        "    n = 200\n",
        "    l1[i]=n\n",
        "    break\n",
        "print(l1)"
      ],
      "metadata": {
        "colab": {
          "base_uri": "https://localhost:8080/"
        },
        "id": "JDmAZR1N2cIr",
        "outputId": "dcdf4641-31b7-4e34-e597-13bb9920761a"
      },
      "execution_count": null,
      "outputs": [
        {
          "output_type": "stream",
          "name": "stdout",
          "text": [
            "10 20 30 20\n",
            "[10, 200, 30, 20]\n"
          ]
        }
      ]
    },
    {
      "cell_type": "code",
      "source": [
        "#4.\n",
        "a = [10,5,20,7,20,98,28,20]\n",
        "while 20 in a:\n",
        "  a.remove(20)\n",
        "print(a)"
      ],
      "metadata": {
        "colab": {
          "base_uri": "https://localhost:8080/"
        },
        "id": "tgoxVL1RFLg1",
        "outputId": "f948d5e4-4453-48a8-b252-2e000ef87a4f"
      },
      "execution_count": null,
      "outputs": [
        {
          "output_type": "stream",
          "name": "stdout",
          "text": [
            "[10, 5, 7, 98, 28]\n"
          ]
        }
      ]
    },
    {
      "cell_type": "code",
      "source": [
        "a = [10,5,20,7,20,98,28,20]\n",
        "def remove_value(sample_list, val):\n",
        "    return [i for i in sample_list if i != val]\n",
        "\n",
        "res = remove_value(a, 20)\n",
        "print(res)"
      ],
      "metadata": {
        "colab": {
          "base_uri": "https://localhost:8080/"
        },
        "id": "F3cyvzgcFvqL",
        "outputId": "53ba24ef-c484-43b9-a376-f21c1f956bbf"
      },
      "execution_count": null,
      "outputs": [
        {
          "output_type": "stream",
          "name": "stdout",
          "text": [
            "[10, 5, 7, 98, 28]\n"
          ]
        }
      ]
    },
    {
      "cell_type": "code",
      "source": [
        "#21. Write a python program to check whether two lists are circularly identical\n",
        "l1 = [8, 8, 12, 12, 8]\n",
        "l2 = [8, 8, 8, 12, 12]\n",
        "l3 = [1, 8, 8, 12, 12]\n",
        "print(\"compare l1 and l2 : \",' '.join(map(str,l2))in ' '.join(map(str,l1 * 2)))\n",
        "print(\"compare l2 and l3 : \",' '.join(map(str,l3))in ' '.join(map(str,l2 * 2)))"
      ],
      "metadata": {
        "colab": {
          "base_uri": "https://localhost:8080/"
        },
        "id": "G-O83olrGoGx",
        "outputId": "741afbd0-ff4e-4e04-ac10-6ba94d054da2"
      },
      "execution_count": null,
      "outputs": [
        {
          "output_type": "stream",
          "name": "stdout",
          "text": [
            "compare l1 and l2 :  True\n",
            "compare l2 and l3 :  False\n"
          ]
        }
      ]
    },
    {
      "cell_type": "code",
      "source": [
        "#22. Write a Python program to find the second smallest number in a list\n",
        "a = [9,7,4,8,6,5]\n",
        "s = set(a)\n",
        "print(sorted(s)[1])"
      ],
      "metadata": {
        "colab": {
          "base_uri": "https://localhost:8080/"
        },
        "id": "UokqWoTyIZuq",
        "outputId": "bf5ee4e7-acd4-4c53-88b8-a33bc7d875c4"
      },
      "execution_count": null,
      "outputs": [
        {
          "output_type": "stream",
          "name": "stdout",
          "text": [
            "5\n"
          ]
        }
      ]
    },
    {
      "cell_type": "code",
      "source": [
        "#23. Write a Python program to find the second largest number in a list\n",
        "a = [9,7,4,8,6,5]\n",
        "s = set(a)\n",
        "print(sorted(s)[-2])"
      ],
      "metadata": {
        "colab": {
          "base_uri": "https://localhost:8080/"
        },
        "id": "4FePAx2mKTah",
        "outputId": "ade8dcb5-4f98-4a86-ee2c-970d3b8009a5"
      },
      "execution_count": null,
      "outputs": [
        {
          "output_type": "stream",
          "name": "stdout",
          "text": [
            "8\n"
          ]
        }
      ]
    },
    {
      "cell_type": "code",
      "source": [
        "#24. Write a Python program to get unique values from a list\n",
        "x = [2,9,83,75,64,2]\n",
        "print(\"Original_list: \",x)\n",
        "s = set(x)\n",
        "new_list = list(s)\n",
        "print(\"Unique_numbers: \",new_list)"
      ],
      "metadata": {
        "colab": {
          "base_uri": "https://localhost:8080/"
        },
        "id": "EIxINMhbKn_C",
        "outputId": "604e3f56-fb26-47c0-eee1-74265e278528"
      },
      "execution_count": null,
      "outputs": [
        {
          "output_type": "stream",
          "name": "stdout",
          "text": [
            "Original_list:  [2, 9, 83, 75, 64, 2]\n",
            "Unique_numbers:  [64, 2, 9, 75, 83]\n"
          ]
        }
      ]
    },
    {
      "cell_type": "code",
      "source": [
        "#25. Write a Python program to get the frequency of the elements in a list.\n",
        "a = [10,30,64,90,10,30,64,85,10,85,64]\n",
        "import collections\n",
        "print(\"Original _list: \",a)\n",
        "f = collections.Counter(a)\n",
        "print(\"frequency of elements is: \",f)"
      ],
      "metadata": {
        "colab": {
          "base_uri": "https://localhost:8080/"
        },
        "id": "aN-_s9EzLqW6",
        "outputId": "8694d282-8433-48fc-dac8-3150dbc88f7d"
      },
      "execution_count": null,
      "outputs": [
        {
          "output_type": "stream",
          "name": "stdout",
          "text": [
            "Original _list:  [10, 30, 64, 90, 10, 30, 64, 85, 10, 85, 64]\n",
            "frequency of elements is:  Counter({10: 3, 64: 3, 30: 2, 85: 2, 90: 1})\n"
          ]
        }
      ]
    },
    {
      "cell_type": "code",
      "source": [
        "#26. Create a list by concatenating a given list which range goes from 1 to n\n",
        "l = [(i)for i in input().split()]\n",
        "n=int(input())\n",
        "x = ['{}{}'.format(a,b) for b in range(0,n+1) for a in l]\n",
        "print(x)\n"
      ],
      "metadata": {
        "id": "YfHxcMkBNDkv",
        "colab": {
          "base_uri": "https://localhost:8080/"
        },
        "outputId": "f2516a47-711b-4102-9f5b-42c01c4ab43d"
      },
      "execution_count": null,
      "outputs": [
        {
          "output_type": "stream",
          "name": "stdout",
          "text": [
            "m n\n",
            "5\n",
            "['m0', 'n0', 'm1', 'n1', 'm2', 'n2', 'm3', 'n3', 'm4', 'n4', 'm5', 'n5']\n"
          ]
        }
      ]
    },
    {
      "cell_type": "markdown",
      "source": [
        "##Tuples"
      ],
      "metadata": {
        "id": "TLYRqlkTybx-"
      }
    },
    {
      "cell_type": "code",
      "source": [
        "mytuples = (\"apple\",\"banana\",\"cherry\")"
      ],
      "metadata": {
        "id": "gHHIL2NrxnAg"
      },
      "execution_count": null,
      "outputs": []
    },
    {
      "cell_type": "code",
      "source": [
        "tup = (\"apple\",\"banana\",\"cherry\",\"apple\",\"cherry\")\n",
        "len(tup)"
      ],
      "metadata": {
        "colab": {
          "base_uri": "https://localhost:8080/"
        },
        "id": "UcGu3-ANyn2p",
        "outputId": "582ee23f-f252-4dd6-d3e9-7dcefac0fdd2"
      },
      "execution_count": null,
      "outputs": [
        {
          "output_type": "execute_result",
          "data": {
            "text/plain": [
              "5"
            ]
          },
          "metadata": {},
          "execution_count": 4
        }
      ]
    },
    {
      "cell_type": "code",
      "source": [
        "type(tup)"
      ],
      "metadata": {
        "colab": {
          "base_uri": "https://localhost:8080/"
        },
        "id": "CwAIzncAy7v0",
        "outputId": "907f8d5e-334e-4351-cbba-84db560675ad"
      },
      "execution_count": null,
      "outputs": [
        {
          "output_type": "execute_result",
          "data": {
            "text/plain": [
              "tuple"
            ]
          },
          "metadata": {},
          "execution_count": 5
        }
      ]
    },
    {
      "cell_type": "code",
      "source": [
        "tup1 = (\"apple\",\"banana\",\"cherry\")\n",
        "tup2 = (1,2,4,8,9)\n",
        "tup3 = (True,False,False)\n",
        "tup4 = (\"abc\",34,True,40,\"male\")\n"
      ],
      "metadata": {
        "id": "F2I8_NWzy-Ao"
      },
      "execution_count": null,
      "outputs": []
    },
    {
      "cell_type": "code",
      "source": [
        "tup = (\"apple\",\"banana\",\"cherry\",\"apple\",\"cherry\")\n",
        "tup[0]"
      ],
      "metadata": {
        "colab": {
          "base_uri": "https://localhost:8080/",
          "height": 36
        },
        "id": "PB9rxetIzZjl",
        "outputId": "e766d0bb-8a88-4b11-f53a-bdde992fd693"
      },
      "execution_count": null,
      "outputs": [
        {
          "output_type": "execute_result",
          "data": {
            "text/plain": [
              "'apple'"
            ],
            "application/vnd.google.colaboratory.intrinsic+json": {
              "type": "string"
            }
          },
          "metadata": {},
          "execution_count": 8
        }
      ]
    },
    {
      "cell_type": "code",
      "source": [
        "if \"apple\" in tup:\n",
        "  print(\"present\")\n",
        "else:\n",
        "  print(\"absent\")"
      ],
      "metadata": {
        "colab": {
          "base_uri": "https://localhost:8080/"
        },
        "id": "ZThdiydHzh6s",
        "outputId": "5e384636-e090-4dfd-fe35-5d9d20f1c018"
      },
      "execution_count": null,
      "outputs": [
        {
          "output_type": "stream",
          "name": "stdout",
          "text": [
            "present\n"
          ]
        }
      ]
    },
    {
      "cell_type": "code",
      "source": [
        "tup[:-1]"
      ],
      "metadata": {
        "colab": {
          "base_uri": "https://localhost:8080/"
        },
        "id": "ZfIu-7dizvdZ",
        "outputId": "6021b2d0-5e4b-43df-f918-b29f6107275c"
      },
      "execution_count": null,
      "outputs": [
        {
          "output_type": "execute_result",
          "data": {
            "text/plain": [
              "('apple', 'banana', 'cherry', 'apple')"
            ]
          },
          "metadata": {},
          "execution_count": 10
        }
      ]
    },
    {
      "cell_type": "code",
      "source": [
        "tup.append(orange)"
      ],
      "metadata": {
        "colab": {
          "base_uri": "https://localhost:8080/",
          "height": 175
        },
        "id": "H59BA7T0z1aR",
        "outputId": "8d03a1c4-934c-44cd-cb72-c1aea3b0ab31"
      },
      "execution_count": null,
      "outputs": [
        {
          "output_type": "error",
          "ename": "AttributeError",
          "evalue": "ignored",
          "traceback": [
            "\u001b[0;31m---------------------------------------------------------------------------\u001b[0m",
            "\u001b[0;31mAttributeError\u001b[0m                            Traceback (most recent call last)",
            "\u001b[0;32m<ipython-input-11-a83d2b670b43>\u001b[0m in \u001b[0;36m<cell line: 1>\u001b[0;34m()\u001b[0m\n\u001b[0;32m----> 1\u001b[0;31m \u001b[0mtup\u001b[0m\u001b[0;34m.\u001b[0m\u001b[0mappend\u001b[0m\u001b[0;34m(\u001b[0m\u001b[0morange\u001b[0m\u001b[0;34m)\u001b[0m\u001b[0;34m\u001b[0m\u001b[0;34m\u001b[0m\u001b[0m\n\u001b[0m",
            "\u001b[0;31mAttributeError\u001b[0m: 'tuple' object has no attribute 'append'"
          ]
        }
      ]
    },
    {
      "cell_type": "code",
      "source": [
        "tup[1:]"
      ],
      "metadata": {
        "colab": {
          "base_uri": "https://localhost:8080/"
        },
        "id": "Ao5UXJyzz8l7",
        "outputId": "fa5beaf0-9319-4ca4-b971-0d5b66864bfa"
      },
      "execution_count": null,
      "outputs": [
        {
          "output_type": "execute_result",
          "data": {
            "text/plain": [
              "('banana', 'cherry', 'apple', 'cherry')"
            ]
          },
          "metadata": {},
          "execution_count": 12
        }
      ]
    },
    {
      "cell_type": "code",
      "source": [
        "l1 = list(tup)\n",
        "l1.append('orange')\n",
        "tup = tuple(l1)"
      ],
      "metadata": {
        "id": "-RgqfvYy0AMJ"
      },
      "execution_count": null,
      "outputs": []
    },
    {
      "cell_type": "code",
      "source": [
        "tup"
      ],
      "metadata": {
        "colab": {
          "base_uri": "https://localhost:8080/"
        },
        "id": "LZjW2w2C0HLh",
        "outputId": "97f124ff-53d5-4aad-ba99-92717770fa36"
      },
      "execution_count": null,
      "outputs": [
        {
          "output_type": "execute_result",
          "data": {
            "text/plain": [
              "('apple', 'banana', 'cherry', 'apple', 'cherry', 'orange')"
            ]
          },
          "metadata": {},
          "execution_count": 15
        }
      ]
    },
    {
      "cell_type": "code",
      "source": [
        "for i in tup:\n",
        "  print(i)"
      ],
      "metadata": {
        "colab": {
          "base_uri": "https://localhost:8080/"
        },
        "id": "YpSwuq3P0Rj-",
        "outputId": "3f9d326a-50db-405b-8575-f8aa0f001574"
      },
      "execution_count": null,
      "outputs": [
        {
          "output_type": "stream",
          "name": "stdout",
          "text": [
            "apple\n",
            "banana\n",
            "cherry\n",
            "apple\n",
            "cherry\n",
            "orange\n"
          ]
        }
      ]
    },
    {
      "cell_type": "code",
      "source": [
        "tup.remove(\"orange\")"
      ],
      "metadata": {
        "colab": {
          "base_uri": "https://localhost:8080/",
          "height": 175
        },
        "id": "zqdlOpkj0quT",
        "outputId": "d5674ac3-6976-4375-9214-794d73238721"
      },
      "execution_count": null,
      "outputs": [
        {
          "output_type": "error",
          "ename": "AttributeError",
          "evalue": "ignored",
          "traceback": [
            "\u001b[0;31m---------------------------------------------------------------------------\u001b[0m",
            "\u001b[0;31mAttributeError\u001b[0m                            Traceback (most recent call last)",
            "\u001b[0;32m<ipython-input-17-0854504b40d4>\u001b[0m in \u001b[0;36m<cell line: 1>\u001b[0;34m()\u001b[0m\n\u001b[0;32m----> 1\u001b[0;31m \u001b[0mtup\u001b[0m\u001b[0;34m.\u001b[0m\u001b[0mremove\u001b[0m\u001b[0;34m(\u001b[0m\u001b[0;34m\"orange\"\u001b[0m\u001b[0;34m)\u001b[0m\u001b[0;34m\u001b[0m\u001b[0;34m\u001b[0m\u001b[0m\n\u001b[0m",
            "\u001b[0;31mAttributeError\u001b[0m: 'tuple' object has no attribute 'remove'"
          ]
        }
      ]
    },
    {
      "cell_type": "code",
      "source": [
        "#27. Write a Python program to get variable unique identification number or string\n",
        "x = int(input())\n",
        "y = str((i) for i in input().split())\n",
        "id(x)\n"
      ],
      "metadata": {
        "colab": {
          "base_uri": "https://localhost:8080/"
        },
        "id": "usrZY7-t0v5l",
        "outputId": "5cc90ea6-89cb-47e1-bd3f-b50633817d2d"
      },
      "execution_count": null,
      "outputs": [
        {
          "name": "stdout",
          "output_type": "stream",
          "text": [
            "98564\n",
            "manasa\n"
          ]
        },
        {
          "output_type": "execute_result",
          "data": {
            "text/plain": [
              "137407494848112"
            ]
          },
          "metadata": {},
          "execution_count": 44
        }
      ]
    },
    {
      "cell_type": "code",
      "source": [
        "id(y)"
      ],
      "metadata": {
        "colab": {
          "base_uri": "https://localhost:8080/"
        },
        "id": "E6Klq76O5fu6",
        "outputId": "ae1d0b48-5d6b-4440-d272-ec644eea892b"
      },
      "execution_count": null,
      "outputs": [
        {
          "output_type": "execute_result",
          "data": {
            "text/plain": [
              "137407494333296"
            ]
          },
          "metadata": {},
          "execution_count": 45
        }
      ]
    },
    {
      "cell_type": "code",
      "source": [
        "#29. Write a Python program to split a list based on first character of word\n",
        "x = [\"an\",\"bat\",\"cup\",\"fox\",\"cat\",\"dip\",\"dog\",\"ant\",\"gun\",\"got\"]\n",
        "b = x.copy()\n",
        "l1 = []\n",
        "for i in range(0,len(x)):\n",
        "  temp = []\n",
        "  for j in range(0,len(b)):\n",
        "    if (x[i][0] == b[j][0]):\n",
        "      #temp.append(x[i])\n",
        "      temp.append(b[j])\n",
        "  l1.append(temp)\n",
        "\n",
        "print(l1)"
      ],
      "metadata": {
        "id": "MVWesGsP6bfL",
        "colab": {
          "base_uri": "https://localhost:8080/"
        },
        "outputId": "9c5ef96a-e57f-4858-b868-8b55a4afded5"
      },
      "execution_count": null,
      "outputs": [
        {
          "output_type": "stream",
          "name": "stdout",
          "text": [
            "[['an', 'ant'], ['bat'], ['cup', 'cat'], ['fox'], ['cup', 'cat'], ['dip', 'dog'], ['dip', 'dog'], ['an', 'ant'], ['gun', 'got'], ['gun', 'got']]\n"
          ]
        }
      ]
    },
    {
      "cell_type": "code",
      "source": [
        "f = []\n",
        "for k in l1:\n",
        "  if k not in f:\n",
        "    print(k[0][0])\n",
        "    for j in k:\n",
        "\n",
        "      print(j)\n"
      ],
      "metadata": {
        "id": "iTeC9Nx88x_B",
        "colab": {
          "base_uri": "https://localhost:8080/"
        },
        "outputId": "7f216a8a-ab37-4287-fd11-9ac9749945c5"
      },
      "execution_count": null,
      "outputs": [
        {
          "output_type": "stream",
          "name": "stdout",
          "text": [
            "a\n",
            "an\n",
            "ant\n",
            "b\n",
            "bat\n",
            "c\n",
            "cup\n",
            "cat\n",
            "f\n",
            "fox\n",
            "c\n",
            "cup\n",
            "cat\n",
            "d\n",
            "dip\n",
            "dog\n",
            "d\n",
            "dip\n",
            "dog\n",
            "a\n",
            "an\n",
            "ant\n",
            "g\n",
            "gun\n",
            "got\n",
            "g\n",
            "gun\n",
            "got\n"
          ]
        }
      ]
    },
    {
      "cell_type": "code",
      "source": [
        "f = []\n",
        "for k in l1:\n",
        "  if k not in f:\n",
        "    f.append(k)\n",
        "    print(k[0][0],k)"
      ],
      "metadata": {
        "colab": {
          "base_uri": "https://localhost:8080/"
        },
        "id": "EWTt3VlnHoxb",
        "outputId": "d90f4f41-0b77-4593-a458-8dbe10a8904d"
      },
      "execution_count": null,
      "outputs": [
        {
          "output_type": "stream",
          "name": "stdout",
          "text": [
            "a ['an', 'ant']\n",
            "b ['bat']\n",
            "c ['cup', 'cat']\n",
            "f ['fox']\n",
            "d ['dip', 'dog']\n",
            "g ['gun', 'got']\n"
          ]
        }
      ]
    },
    {
      "cell_type": "code",
      "source": [
        "f = []\n",
        "for k in l1:\n",
        "  if k not in f:\n",
        "    f.append(k)\n",
        "print(f)"
      ],
      "metadata": {
        "colab": {
          "base_uri": "https://localhost:8080/"
        },
        "id": "0WxjosN5Kxpe",
        "outputId": "666b37de-d777-4d10-cf29-de0f75184370"
      },
      "execution_count": null,
      "outputs": [
        {
          "output_type": "stream",
          "name": "stdout",
          "text": [
            "[['an', 'ant'], ['bat'], ['cup', 'cat'], ['fox'], ['dip', 'dog'], ['gun', 'got']]\n"
          ]
        }
      ]
    },
    {
      "cell_type": "code",
      "source": [],
      "metadata": {
        "colab": {
          "base_uri": "https://localhost:8080/"
        },
        "id": "5iXSIByJ-4TU",
        "outputId": "9b1f34a6-a87f-49a5-e291-cfea382a656b"
      },
      "execution_count": null,
      "outputs": [
        {
          "output_type": "execute_result",
          "data": {
            "text/plain": [
              "<generator object <genexpr> at 0x7b3070dfc0b0>"
            ]
          },
          "metadata": {},
          "execution_count": 17
        }
      ]
    },
    {
      "cell_type": "code",
      "source": [
        "for k in f:\n",
        "  print(k[0][0])\n",
        "  for j in k:\n",
        "    print(j)"
      ],
      "metadata": {
        "colab": {
          "base_uri": "https://localhost:8080/"
        },
        "id": "dTasxfz9LBts",
        "outputId": "7d221213-20a3-45b9-8f16-d1ff6520ba7a"
      },
      "execution_count": null,
      "outputs": [
        {
          "output_type": "stream",
          "name": "stdout",
          "text": [
            "a\n",
            "an\n",
            "ant\n",
            "b\n",
            "bat\n",
            "c\n",
            "cup\n",
            "cat\n",
            "f\n",
            "fox\n",
            "d\n",
            "dip\n",
            "dog\n",
            "g\n",
            "gun\n",
            "got\n"
          ]
        }
      ]
    },
    {
      "cell_type": "code",
      "source": [
        "f = []\n",
        "for k in l1:\n",
        "  if k not in f:\n",
        "    f.append(k)\n",
        "    print(f)\n",
        "    for k in f:\n",
        "      print(k[0][0])\n",
        "      for j in k:\n",
        "          print(j)"
      ],
      "metadata": {
        "colab": {
          "base_uri": "https://localhost:8080/"
        },
        "id": "Vl1lzAtILsfM",
        "outputId": "d13ec4cb-531a-4a24-8680-f9921bef64d7"
      },
      "execution_count": null,
      "outputs": [
        {
          "output_type": "stream",
          "name": "stdout",
          "text": [
            "[['an', 'ant']]\n",
            "a\n",
            "an\n",
            "ant\n",
            "[['an', 'ant'], ['bat']]\n",
            "a\n",
            "an\n",
            "ant\n",
            "b\n",
            "bat\n",
            "[['an', 'ant'], ['bat'], ['cup', 'cat']]\n",
            "a\n",
            "an\n",
            "ant\n",
            "b\n",
            "bat\n",
            "c\n",
            "cup\n",
            "cat\n",
            "[['an', 'ant'], ['bat'], ['cup', 'cat'], ['fox']]\n",
            "a\n",
            "an\n",
            "ant\n",
            "b\n",
            "bat\n",
            "c\n",
            "cup\n",
            "cat\n",
            "f\n",
            "fox\n",
            "[['an', 'ant'], ['bat'], ['cup', 'cat'], ['fox'], ['dip', 'dog']]\n",
            "a\n",
            "an\n",
            "ant\n",
            "b\n",
            "bat\n",
            "c\n",
            "cup\n",
            "cat\n",
            "f\n",
            "fox\n",
            "d\n",
            "dip\n",
            "dog\n",
            "[['an', 'ant'], ['bat'], ['cup', 'cat'], ['fox'], ['dip', 'dog'], ['gun', 'got']]\n",
            "a\n",
            "an\n",
            "ant\n",
            "b\n",
            "bat\n",
            "c\n",
            "cup\n",
            "cat\n",
            "f\n",
            "fox\n",
            "d\n",
            "dip\n",
            "dog\n",
            "g\n",
            "gun\n",
            "got\n"
          ]
        }
      ]
    },
    {
      "cell_type": "code",
      "source": [
        "#30. Write a Python program to select the odd number of a list\n",
        "a = [int(i) for i in input ().split()]\n",
        "b = []\n",
        "for i in a:\n",
        "  if i%2!=0:\n",
        "    b.append(i)\n",
        "print(b)"
      ],
      "metadata": {
        "colab": {
          "base_uri": "https://localhost:8080/"
        },
        "id": "lpNgirXQ8xW7",
        "outputId": "a5c4d5a7-0b0c-400d-a0f1-9ec25cd9ce3b"
      },
      "execution_count": null,
      "outputs": [
        {
          "output_type": "stream",
          "name": "stdout",
          "text": [
            "2 64 71 87 90\n",
            "[71, 87]\n"
          ]
        }
      ]
    },
    {
      "cell_type": "code",
      "source": [
        "#31. Write a Python Program to count unique values inside a list\n",
        "a = (int(x) for x in input().split())\n",
        "b = []\n",
        "for i in a:\n",
        "  if i not in b:\n",
        "    b.append(i)\n",
        "print(b)\n",
        "len(b)"
      ],
      "metadata": {
        "colab": {
          "base_uri": "https://localhost:8080/"
        },
        "id": "9Zfr8t0L9HFP",
        "outputId": "fca7f696-0e19-42da-e9a3-97036540d7c8"
      },
      "execution_count": null,
      "outputs": [
        {
          "output_type": "stream",
          "name": "stdout",
          "text": [
            "30 20 30 64 76 54 64\n",
            "[30, 20, 64, 76, 54]\n"
          ]
        },
        {
          "output_type": "execute_result",
          "data": {
            "text/plain": [
              "5"
            ]
          },
          "metadata": {},
          "execution_count": 57
        }
      ]
    },
    {
      "cell_type": "code",
      "source": [
        "#32. Write a Python Program to List product excluding duplicates\n",
        "a = [int(x) for x in input().split()]\n",
        "b = []\n",
        "c = 1\n",
        "for i in a:\n",
        "  if i not in b:\n",
        "    b.append(i)\n",
        "    c*=i\n",
        "print(b)\n",
        "print(c)\n"
      ],
      "metadata": {
        "colab": {
          "base_uri": "https://localhost:8080/"
        },
        "id": "GhW7mkj9AMcW",
        "outputId": "e7c9b5e0-685d-4d33-e335-f77a61d395f5"
      },
      "execution_count": null,
      "outputs": [
        {
          "output_type": "stream",
          "name": "stdout",
          "text": [
            "30 20 30 64 76 54 64\n",
            "[30, 20, 64, 76, 54]\n",
            "157593600\n"
          ]
        }
      ]
    },
    {
      "cell_type": "code",
      "source": [
        "#33. Write a Python Program to Extract elements with Frequency greater than K\n",
        "a = [int(x) for x in input().split()]\n",
        "import collections\n",
        "print(\"Original _list: \",a)\n",
        "f = collections.Counter(a)\n",
        "print(\"frequency of elements is: \",f)\n",
        "k = 2\n",
        "if f>k and\n",
        "  print(\"original_list:\",f>k)"
      ],
      "metadata": {
        "colab": {
          "base_uri": "https://localhost:8080/",
          "height": 279
        },
        "id": "SzYpic9MLRJT",
        "outputId": "81626c62-6942-4e23-f0d1-494d0035b39e"
      },
      "execution_count": null,
      "outputs": [
        {
          "output_type": "stream",
          "name": "stdout",
          "text": [
            "2  2 2 3 3 5 5 6 6 7 7 7 \n",
            "Original _list:  [2, 2, 2, 3, 3, 5, 5, 6, 6, 7, 7, 7]\n",
            "frequency of elements is:  Counter({2: 3, 7: 3, 3: 2, 5: 2, 6: 2})\n"
          ]
        },
        {
          "output_type": "error",
          "ename": "TypeError",
          "evalue": "ignored",
          "traceback": [
            "\u001b[0;31m---------------------------------------------------------------------------\u001b[0m",
            "\u001b[0;31mTypeError\u001b[0m                                 Traceback (most recent call last)",
            "\u001b[0;32m<ipython-input-31-0771b62d14c4>\u001b[0m in \u001b[0;36m<cell line: 8>\u001b[0;34m()\u001b[0m\n\u001b[1;32m      6\u001b[0m \u001b[0mprint\u001b[0m\u001b[0;34m(\u001b[0m\u001b[0;34m\"frequency of elements is: \"\u001b[0m\u001b[0;34m,\u001b[0m\u001b[0mf\u001b[0m\u001b[0;34m)\u001b[0m\u001b[0;34m\u001b[0m\u001b[0;34m\u001b[0m\u001b[0m\n\u001b[1;32m      7\u001b[0m \u001b[0mk\u001b[0m \u001b[0;34m=\u001b[0m \u001b[0;36m2\u001b[0m\u001b[0;34m\u001b[0m\u001b[0;34m\u001b[0m\u001b[0m\n\u001b[0;32m----> 8\u001b[0;31m \u001b[0;32mif\u001b[0m \u001b[0mf\u001b[0m\u001b[0;34m>\u001b[0m\u001b[0mk\u001b[0m\u001b[0;34m:\u001b[0m\u001b[0;34m\u001b[0m\u001b[0;34m\u001b[0m\u001b[0m\n\u001b[0m\u001b[1;32m      9\u001b[0m   \u001b[0mprint\u001b[0m\u001b[0;34m(\u001b[0m\u001b[0;34m\"original_list:\"\u001b[0m\u001b[0;34m,\u001b[0m\u001b[0mf\u001b[0m\u001b[0;34m>\u001b[0m\u001b[0mk\u001b[0m\u001b[0;34m)\u001b[0m\u001b[0;34m\u001b[0m\u001b[0;34m\u001b[0m\u001b[0m\n",
            "\u001b[0;31mTypeError\u001b[0m: '>' not supported between instances of 'Counter' and 'int'"
          ]
        }
      ]
    },
    {
      "cell_type": "code",
      "source": [
        "a = [int(x) for x in input().split()]\n",
        "k = int(input())\n",
        "n = []\n",
        "for i in a:\n",
        "  f = a.count(i)\n",
        "  if f > k and i not in n:\n",
        "    n.append(i)\n",
        "print(n)"
      ],
      "metadata": {
        "colab": {
          "base_uri": "https://localhost:8080/"
        },
        "id": "4C6vxaSFOf2-",
        "outputId": "062d2dc3-0591-4fdc-cd19-691eb331f08b"
      },
      "execution_count": null,
      "outputs": [
        {
          "output_type": "stream",
          "name": "stdout",
          "text": [
            "9 10 9 6 8 8 9 8\n",
            "2\n",
            "[9, 8]\n"
          ]
        }
      ]
    },
    {
      "cell_type": "code",
      "source": [
        "#34. Write a Python Program to Test if List contains elements in Range\n",
        "l1 = [4,5,6,7,9]\n",
        "min = 3\n",
        "max = 10\n",
        "flag = False\n",
        "for i in l1:\n",
        "  if((i >= min) and (i <= max)):\n",
        "    flag = True\n",
        "  else:\n",
        "    flag = False"
      ],
      "metadata": {
        "id": "h-rJJezKQMzE"
      },
      "execution_count": null,
      "outputs": []
    },
    {
      "cell_type": "code",
      "source": [
        "flag"
      ],
      "metadata": {
        "colab": {
          "base_uri": "https://localhost:8080/"
        },
        "id": "bfdyqvv3EsVK",
        "outputId": "bd115967-5b0e-45b3-8a05-f8454585e1e6"
      },
      "execution_count": null,
      "outputs": [
        {
          "output_type": "execute_result",
          "data": {
            "text/plain": [
              "True"
            ]
          },
          "metadata": {},
          "execution_count": 44
        }
      ]
    },
    {
      "cell_type": "code",
      "source": [
        "\n",
        "l = [int(x) for x in input().split()]\n",
        "a = int(input())\n",
        "b = int(input())\n",
        "res = \"false\"\n",
        "for i in l:\n",
        "  if i<a or i>=b:\n",
        "    res = \"true\"\n",
        "    break\n",
        "print(res)"
      ],
      "metadata": {
        "colab": {
          "base_uri": "https://localhost:8080/"
        },
        "id": "Ad5bIjVKVA10",
        "outputId": "f49f9b80-2c42-485b-a95d-0e0b37fd24fc"
      },
      "execution_count": null,
      "outputs": [
        {
          "output_type": "stream",
          "name": "stdout",
          "text": [
            "1 2 3 4 5 \n",
            "1\n",
            "7\n",
            "false\n"
          ]
        }
      ]
    },
    {
      "cell_type": "markdown",
      "source": [
        "## Sets"
      ],
      "metadata": {
        "id": "3zIy4LTo7V7K"
      }
    },
    {
      "cell_type": "code",
      "source": [
        "myset = {\"apple\",\"banana\",\"cherry\"}\n"
      ],
      "metadata": {
        "id": "Y4464lpsWxrI"
      },
      "execution_count": null,
      "outputs": []
    },
    {
      "cell_type": "code",
      "source": [
        "myset"
      ],
      "metadata": {
        "colab": {
          "base_uri": "https://localhost:8080/"
        },
        "id": "lvxsLh-w7hxB",
        "outputId": "dbee59d0-d0a6-4c69-989a-02dfc34d4f6c"
      },
      "execution_count": null,
      "outputs": [
        {
          "output_type": "execute_result",
          "data": {
            "text/plain": [
              "{'apple', 'banana', 'cherry'}"
            ]
          },
          "metadata": {},
          "execution_count": 2
        }
      ]
    },
    {
      "cell_type": "code",
      "source": [
        "'''\n",
        "unordered\n",
        "unchangeble\n",
        "unindexed\n",
        "'''"
      ],
      "metadata": {
        "colab": {
          "base_uri": "https://localhost:8080/",
          "height": 36
        },
        "id": "RNFowBxs7i8u",
        "outputId": "f936f066-afd9-4490-f372-5c6c737c389c"
      },
      "execution_count": null,
      "outputs": [
        {
          "output_type": "execute_result",
          "data": {
            "text/plain": [
              "'\\nunordered\\nunchangeble\\nunindexed\\n'"
            ],
            "application/vnd.google.colaboratory.intrinsic+json": {
              "type": "string"
            }
          },
          "metadata": {},
          "execution_count": 3
        }
      ]
    },
    {
      "cell_type": "code",
      "source": [
        "#sets remove the duplicates and prints only unique value\n",
        "thisset={\"apple\",\"banana\",\"cherry\",\"apple\"}\n",
        "print(thisset)"
      ],
      "metadata": {
        "colab": {
          "base_uri": "https://localhost:8080/"
        },
        "id": "PNR9NLpE7wbE",
        "outputId": "a06ea02f-070a-45e0-ea23-f6619059f83e"
      },
      "execution_count": null,
      "outputs": [
        {
          "output_type": "stream",
          "name": "stdout",
          "text": [
            "{'apple', 'banana', 'cherry'}\n"
          ]
        }
      ]
    },
    {
      "cell_type": "code",
      "source": [
        "#sets assume true as 1\n",
        "thisset={\"apple\",\"banana\",\"cherry\",True,1,2}\n",
        "print(thisset)"
      ],
      "metadata": {
        "colab": {
          "base_uri": "https://localhost:8080/"
        },
        "id": "P4zErlsq8CDC",
        "outputId": "84b119f9-cae2-43c4-ad97-bafc9f0890e5"
      },
      "execution_count": null,
      "outputs": [
        {
          "output_type": "stream",
          "name": "stdout",
          "text": [
            "{True, 2, 'banana', 'cherry', 'apple'}\n"
          ]
        }
      ]
    },
    {
      "cell_type": "code",
      "source": [
        "set1 = {\"apple\",\"banana\",\"cherry\"}\n",
        "set2 = {1,2,3,4}\n",
        "set3 = {True,False,True}\n",
        "set4 = {\"apple\",1,2,True}"
      ],
      "metadata": {
        "id": "NgXZcdPq8Umy"
      },
      "execution_count": null,
      "outputs": []
    },
    {
      "cell_type": "code",
      "source": [
        "for i in set1:\n",
        "  print(i)"
      ],
      "metadata": {
        "colab": {
          "base_uri": "https://localhost:8080/"
        },
        "id": "c3jQXqG18n4j",
        "outputId": "d70c09dc-71d1-466c-829a-3ab08dfda981"
      },
      "execution_count": null,
      "outputs": [
        {
          "output_type": "stream",
          "name": "stdout",
          "text": [
            "apple\n",
            "banana\n",
            "cherry\n"
          ]
        }
      ]
    },
    {
      "cell_type": "code",
      "source": [
        "for i in range(0,set1):\n",
        "  print(set1[i])"
      ],
      "metadata": {
        "colab": {
          "base_uri": "https://localhost:8080/",
          "height": 192
        },
        "id": "8ocrHGA28sN4",
        "outputId": "514afb90-76f9-4a45-9c75-5fb0c904a2a5"
      },
      "execution_count": null,
      "outputs": [
        {
          "output_type": "error",
          "ename": "TypeError",
          "evalue": "ignored",
          "traceback": [
            "\u001b[0;31m---------------------------------------------------------------------------\u001b[0m",
            "\u001b[0;31mTypeError\u001b[0m                                 Traceback (most recent call last)",
            "\u001b[0;32m<ipython-input-15-9d12ea74425a>\u001b[0m in \u001b[0;36m<cell line: 1>\u001b[0;34m()\u001b[0m\n\u001b[0;32m----> 1\u001b[0;31m \u001b[0;32mfor\u001b[0m \u001b[0mi\u001b[0m \u001b[0;32min\u001b[0m \u001b[0mrange\u001b[0m\u001b[0;34m(\u001b[0m\u001b[0;36m0\u001b[0m\u001b[0;34m,\u001b[0m\u001b[0mset1\u001b[0m\u001b[0;34m)\u001b[0m\u001b[0;34m:\u001b[0m\u001b[0;34m\u001b[0m\u001b[0;34m\u001b[0m\u001b[0m\n\u001b[0m\u001b[1;32m      2\u001b[0m   \u001b[0mprint\u001b[0m\u001b[0;34m(\u001b[0m\u001b[0mset1\u001b[0m\u001b[0;34m[\u001b[0m\u001b[0mi\u001b[0m\u001b[0;34m]\u001b[0m\u001b[0;34m)\u001b[0m\u001b[0;34m\u001b[0m\u001b[0;34m\u001b[0m\u001b[0m\n",
            "\u001b[0;31mTypeError\u001b[0m: 'set' object cannot be interpreted as an integer"
          ]
        }
      ]
    },
    {
      "cell_type": "code",
      "source": [
        "steset1.add(\"orange\")\n",
        "print(set1)"
      ],
      "metadata": {
        "colab": {
          "base_uri": "https://localhost:8080/"
        },
        "id": "DrhHjMb09FCG",
        "outputId": "c367d3a3-09b3-40cf-a6bd-80c82bb29ba3"
      },
      "execution_count": null,
      "outputs": [
        {
          "output_type": "stream",
          "name": "stdout",
          "text": [
            "{'apple', 'orange', 'banana', 'cherry'}\n"
          ]
        }
      ]
    },
    {
      "cell_type": "code",
      "source": [
        "set1.union(set2)"
      ],
      "metadata": {
        "colab": {
          "base_uri": "https://localhost:8080/"
        },
        "id": "1sHiACUN9H_h",
        "outputId": "3a9161fa-741d-4171-c205-67dea1300a77"
      },
      "execution_count": null,
      "outputs": [
        {
          "output_type": "execute_result",
          "data": {
            "text/plain": [
              "{1, 2, 3, 4, 'apple', 'banana', 'cherry', 'orange'}"
            ]
          },
          "metadata": {},
          "execution_count": 12
        }
      ]
    },
    {
      "cell_type": "code",
      "source": [
        "s1 = {\"a\",\"b\",\"c\",2,3}\n",
        "s2 = {\"a\",\"c\",3,9,0}\n",
        "l = []\n",
        "for i in s1:\n",
        "  for j in s2:\n",
        "    if i == j:\n",
        "      l.append(i)\n",
        "print(l)\n"
      ],
      "metadata": {
        "colab": {
          "base_uri": "https://localhost:8080/"
        },
        "id": "tUMvWCg09QEY",
        "outputId": "25ca68b6-c566-40db-f7e7-4f2b3f5c5624"
      },
      "execution_count": null,
      "outputs": [
        {
          "output_type": "stream",
          "name": "stdout",
          "text": [
            "[3, 'c', 'a']\n"
          ]
        }
      ]
    },
    {
      "cell_type": "code",
      "source": [
        "\"a\" in s1"
      ],
      "metadata": {
        "colab": {
          "base_uri": "https://localhost:8080/"
        },
        "id": "jdR59csa-W-Q",
        "outputId": "a6fc0752-1f15-4e0d-fa9c-b3994ed99455"
      },
      "execution_count": null,
      "outputs": [
        {
          "output_type": "execute_result",
          "data": {
            "text/plain": [
              "True"
            ]
          },
          "metadata": {},
          "execution_count": 19
        }
      ]
    },
    {
      "cell_type": "code",
      "source": [
        "if \"a\" in s1:\n",
        "  print(\"present\")"
      ],
      "metadata": {
        "colab": {
          "base_uri": "https://localhost:8080/"
        },
        "id": "-e5hPQoM-e4v",
        "outputId": "c14dd58b-8d28-4885-e955-d17e7cd28725"
      },
      "execution_count": null,
      "outputs": [
        {
          "output_type": "stream",
          "name": "stdout",
          "text": [
            "present\n"
          ]
        }
      ]
    },
    {
      "cell_type": "code",
      "source": [
        "s1.update(s2)"
      ],
      "metadata": {
        "id": "cBGmrwt6-neT"
      },
      "execution_count": null,
      "outputs": []
    },
    {
      "cell_type": "code",
      "source": [
        "s1"
      ],
      "metadata": {
        "colab": {
          "base_uri": "https://localhost:8080/"
        },
        "id": "k_KlwZpg-sRK",
        "outputId": "8b5c17fe-0c85-4f73-daf3-10b35e43d7f4"
      },
      "execution_count": null,
      "outputs": [
        {
          "output_type": "execute_result",
          "data": {
            "text/plain": [
              "{0, 2, 3, 9, 'a', 'b', 'c'}"
            ]
          },
          "metadata": {},
          "execution_count": 22
        }
      ]
    },
    {
      "cell_type": "code",
      "source": [
        "s1 = {\"green\",\"blue\"}\n",
        "s2 = {\"yellow\",\"blue\"}\n",
        "s1.difference(s2)"
      ],
      "metadata": {
        "colab": {
          "base_uri": "https://localhost:8080/"
        },
        "id": "wQKHA4EN-vPA",
        "outputId": "729d2257-358e-4e97-c06b-a860bf5edade"
      },
      "execution_count": null,
      "outputs": [
        {
          "output_type": "execute_result",
          "data": {
            "text/plain": [
              "{'green'}"
            ]
          },
          "metadata": {},
          "execution_count": 24
        }
      ]
    },
    {
      "cell_type": "code",
      "source": [
        "s = {26,98,78,9576,9765,76}\n",
        "min(s)"
      ],
      "metadata": {
        "colab": {
          "base_uri": "https://localhost:8080/"
        },
        "id": "mwQDAh9A_GqN",
        "outputId": "a8e62239-9948-42e0-bce1-f775d4e2426f"
      },
      "execution_count": null,
      "outputs": [
        {
          "output_type": "execute_result",
          "data": {
            "text/plain": [
              "26"
            ]
          },
          "metadata": {},
          "execution_count": 28
        }
      ]
    },
    {
      "cell_type": "code",
      "source": [
        "max(s)"
      ],
      "metadata": {
        "colab": {
          "base_uri": "https://localhost:8080/"
        },
        "id": "k0xUZggm_TXN",
        "outputId": "808ae3bc-472c-4bec-b2de-1829d2c51ad9"
      },
      "execution_count": null,
      "outputs": [
        {
          "output_type": "execute_result",
          "data": {
            "text/plain": [
              "9765"
            ]
          },
          "metadata": {},
          "execution_count": 29
        }
      ]
    },
    {
      "cell_type": "code",
      "source": [
        "#35. Write a Python program to check if the list contains three consecutive common numbers in Python\n",
        "a = [int(x) for x in input().split()]\n",
        "b = len(a)\n",
        "for i in range(b-2):\n",
        "  if a[i]==a[i+1] and a[i+1]==a[i+2]:\n",
        "    print(a[i])\n"
      ],
      "metadata": {
        "colab": {
          "base_uri": "https://localhost:8080/"
        },
        "id": "E6u5E9GC_Xqu",
        "outputId": "af6bf1a8-916a-4961-d911-09fcab4e19f9"
      },
      "execution_count": null,
      "outputs": [
        {
          "output_type": "stream",
          "name": "stdout",
          "text": [
            "1 1 1 2 2 3 3 3 4 5 6 6 6 7 5 4 5\n",
            "1\n",
            "3\n",
            "6\n"
          ]
        }
      ]
    },
    {
      "cell_type": "code",
      "source": [
        "#36. Write a Python program to find the Strongest Neighbour\n",
        "n = 6\n",
        "y = [10,20,30,20,30,400]\n",
        "x = []\n",
        "for i in range(1, n):\n",
        "    r = max(y[i], y[i-1])\n",
        "    x.append(r)\n",
        "for i in x :\n",
        "    print(i,end=\" \")"
      ],
      "metadata": {
        "colab": {
          "base_uri": "https://localhost:8080/"
        },
        "id": "BNw1ItxbUOBw",
        "outputId": "8e00e4c8-a0df-45f3-bf47-14be7af32ef8"
      },
      "execution_count": null,
      "outputs": [
        {
          "output_type": "stream",
          "name": "stdout",
          "text": [
            "20 30 30 30 400 "
          ]
        }
      ]
    },
    {
      "cell_type": "code",
      "source": [
        "#36. Write a Python program to find the Strongest Neighbour\n",
        "n = [int(i) for i in input().split()]\n",
        "a = []\n",
        "for i in range(0,len(n)-1):\n",
        "  r = max(n[i],n[i+1])\n",
        "  a.append(r)\n",
        "print(a)"
      ],
      "metadata": {
        "colab": {
          "base_uri": "https://localhost:8080/"
        },
        "id": "10VsHYt7zYZS",
        "outputId": "b10b15a3-8252-4fcf-9aac-4700ce810c08"
      },
      "execution_count": null,
      "outputs": [
        {
          "output_type": "stream",
          "name": "stdout",
          "text": [
            "10 20 30 20 30 400\n",
            "[20, 30, 30, 30, 400]\n"
          ]
        }
      ]
    },
    {
      "cell_type": "code",
      "source": [
        "#37. Write a Python Program to print all Possible Combinations from the three Digits\n",
        "a = [1,2,3]\n",
        "for i in range(3):\n",
        "  for j  in range(3):\n",
        "    for k in range(3):\n",
        "      if(i!=j and j!=k and k!=i):\n",
        "        print(a[i],a[j],a[k])\n"
      ],
      "metadata": {
        "colab": {
          "base_uri": "https://localhost:8080/"
        },
        "id": "wkwbyQPoVD1o",
        "outputId": "1340cf96-c962-4882-9f34-9380f158eb89"
      },
      "execution_count": null,
      "outputs": [
        {
          "output_type": "stream",
          "name": "stdout",
          "text": [
            "1 2 3\n",
            "1 3 2\n",
            "2 1 3\n",
            "2 3 1\n",
            "3 1 2\n",
            "3 2 1\n"
          ]
        }
      ]
    },
    {
      "cell_type": "code",
      "source": [
        "#38. Write a Python program to find all the Combinations in the list with the given condition\n",
        "l1 = ['Tutor Joes', ['Software', 'Computer'], ['Solution', 'Education']]\n",
        "l2 = []\n",
        "for i in range(1,len(l1)):\n",
        "  temp = []\n",
        "  for j in l1[i]:\n",
        "    temp.append(l1[0])\n",
        "  temp.append(j)\n",
        "l2.append(temp)\n",
        "print(l2)"
      ],
      "metadata": {
        "id": "J8djYFAOWa1J",
        "colab": {
          "base_uri": "https://localhost:8080/"
        },
        "outputId": "f317c8c0-c196-4aa4-90cd-adfa4766d8a4"
      },
      "execution_count": null,
      "outputs": [
        {
          "output_type": "stream",
          "name": "stdout",
          "text": [
            "[['Tutor Joes', 'Tutor Joes', 'Education']]\n"
          ]
        }
      ]
    },
    {
      "cell_type": "markdown",
      "source": [
        "##Dictionaries"
      ],
      "metadata": {
        "id": "njDFba1bqeCB"
      }
    },
    {
      "cell_type": "code",
      "source": [
        "thisdict = {\"brand\":\"ford\",\"model\":\"mustang\",\"year\":1964}\n",
        "'''\n",
        "1.{}\n",
        "2.key : value(pairs)\n",
        "3.to access values in the dictionary,we need to use keys\n",
        "'''"
      ],
      "metadata": {
        "colab": {
          "base_uri": "https://localhost:8080/",
          "height": 36
        },
        "id": "6QDKoSZxqdpo",
        "outputId": "8568c706-3894-477f-a03d-1536a4999822"
      },
      "execution_count": null,
      "outputs": [
        {
          "output_type": "execute_result",
          "data": {
            "text/plain": [
              "'\\n1.{}\\n2.key : value(pairs)\\n3.to access values in the dictionary,we need to use keys\\n'"
            ],
            "application/vnd.google.colaboratory.intrinsic+json": {
              "type": "string"
            }
          },
          "metadata": {},
          "execution_count": 1
        }
      ]
    },
    {
      "cell_type": "code",
      "source": [
        "thisdict"
      ],
      "metadata": {
        "colab": {
          "base_uri": "https://localhost:8080/"
        },
        "id": "cwd0ujbsq_et",
        "outputId": "b73ee6b4-04ea-49a4-ef09-0802a35b768f"
      },
      "execution_count": null,
      "outputs": [
        {
          "output_type": "execute_result",
          "data": {
            "text/plain": [
              "{'brand': 'ford', 'model': 'mustang', 'year': 1964}"
            ]
          },
          "metadata": {},
          "execution_count": 2
        }
      ]
    },
    {
      "cell_type": "code",
      "source": [
        "thisdict['model']"
      ],
      "metadata": {
        "colab": {
          "base_uri": "https://localhost:8080/",
          "height": 36
        },
        "id": "ifpHFdvlrAy-",
        "outputId": "96886afe-47a0-45ca-ebe4-6ba6f97ab3dd"
      },
      "execution_count": null,
      "outputs": [
        {
          "output_type": "execute_result",
          "data": {
            "text/plain": [
              "'mustang'"
            ],
            "application/vnd.google.colaboratory.intrinsic+json": {
              "type": "string"
            }
          },
          "metadata": {},
          "execution_count": 3
        }
      ]
    },
    {
      "cell_type": "code",
      "source": [
        "len(thisdict)"
      ],
      "metadata": {
        "colab": {
          "base_uri": "https://localhost:8080/"
        },
        "id": "ulwUwXE-rEB0",
        "outputId": "da37e2b5-64bf-4266-87bd-541d2f69092a"
      },
      "execution_count": null,
      "outputs": [
        {
          "output_type": "execute_result",
          "data": {
            "text/plain": [
              "3"
            ]
          },
          "metadata": {},
          "execution_count": 4
        }
      ]
    },
    {
      "cell_type": "code",
      "source": [
        "thisdict = {\n",
        "    \"brand\":\"ford\",\n",
        "    \"electric\":False,\n",
        "    \"year\":1964,\n",
        "    \"colors\":[\"red\",\"white\",\"blue\"]\n",
        "}"
      ],
      "metadata": {
        "id": "XODYZ-rprJ7v"
      },
      "execution_count": null,
      "outputs": []
    },
    {
      "cell_type": "code",
      "source": [
        "thisdict"
      ],
      "metadata": {
        "colab": {
          "base_uri": "https://localhost:8080/"
        },
        "id": "fNlGkzIDriMH",
        "outputId": "df76a3e1-6967-4762-9e52-7e53505670a8"
      },
      "execution_count": null,
      "outputs": [
        {
          "output_type": "execute_result",
          "data": {
            "text/plain": [
              "{'brand': 'ford',\n",
              " 'electric': False,\n",
              " 'year': 1964,\n",
              " 'colors': ['red', 'white', 'blue']}"
            ]
          },
          "metadata": {},
          "execution_count": 6
        }
      ]
    },
    {
      "cell_type": "code",
      "source": [
        "#to get list of keys\n",
        "thisdict.keys()"
      ],
      "metadata": {
        "colab": {
          "base_uri": "https://localhost:8080/"
        },
        "id": "AmVWoLDWrkvU",
        "outputId": "9f0c9943-7e17-44f7-95f9-f6d957167767"
      },
      "execution_count": null,
      "outputs": [
        {
          "output_type": "execute_result",
          "data": {
            "text/plain": [
              "dict_keys(['brand', 'electric', 'year', 'colors'])"
            ]
          },
          "metadata": {},
          "execution_count": 7
        }
      ]
    },
    {
      "cell_type": "code",
      "source": [
        "thisdict['sales'] = 2000"
      ],
      "metadata": {
        "id": "YuMzn3mSrqwO"
      },
      "execution_count": null,
      "outputs": []
    },
    {
      "cell_type": "code",
      "source": [
        "thisdict"
      ],
      "metadata": {
        "colab": {
          "base_uri": "https://localhost:8080/"
        },
        "id": "B_VjmWH8rxlr",
        "outputId": "f04734e5-f4ea-45e2-99cd-beb26f575304"
      },
      "execution_count": null,
      "outputs": [
        {
          "output_type": "execute_result",
          "data": {
            "text/plain": [
              "{'brand': 'ford',\n",
              " 'electric': False,\n",
              " 'year': 1964,\n",
              " 'colors': ['red', 'white', 'blue'],\n",
              " 'sales': 2000}"
            ]
          },
          "metadata": {},
          "execution_count": 9
        }
      ]
    },
    {
      "cell_type": "code",
      "source": [
        "thisdict.values()"
      ],
      "metadata": {
        "colab": {
          "base_uri": "https://localhost:8080/"
        },
        "id": "aKUHU7yOr0Bh",
        "outputId": "97976e7c-2aec-4a90-be91-d39561c54a3f"
      },
      "execution_count": null,
      "outputs": [
        {
          "output_type": "execute_result",
          "data": {
            "text/plain": [
              "dict_values(['ford', False, 1964, ['red', 'white', 'blue'], 2000])"
            ]
          },
          "metadata": {},
          "execution_count": 10
        }
      ]
    },
    {
      "cell_type": "code",
      "source": [
        "thisdict.items()"
      ],
      "metadata": {
        "colab": {
          "base_uri": "https://localhost:8080/"
        },
        "id": "fYek-s0xr4x7",
        "outputId": "daa0e597-cdc9-4c44-9c09-76771aaef26f"
      },
      "execution_count": null,
      "outputs": [
        {
          "output_type": "execute_result",
          "data": {
            "text/plain": [
              "dict_items([('brand', 'ford'), ('electric', False), ('year', 1964), ('colors', ['red', 'white', 'blue']), ('sales', 2000)])"
            ]
          },
          "metadata": {},
          "execution_count": 11
        }
      ]
    },
    {
      "cell_type": "code",
      "source": [
        "'sales' in thisdict #this checks only if there is a matching key"
      ],
      "metadata": {
        "colab": {
          "base_uri": "https://localhost:8080/"
        },
        "id": "L5Ud0Uxlr75I",
        "outputId": "36ee1ac8-75b4-4c6a-d304-3a177dd71a73"
      },
      "execution_count": null,
      "outputs": [
        {
          "output_type": "execute_result",
          "data": {
            "text/plain": [
              "True"
            ]
          },
          "metadata": {},
          "execution_count": 12
        }
      ]
    },
    {
      "cell_type": "code",
      "source": [
        "False in thisdict"
      ],
      "metadata": {
        "colab": {
          "base_uri": "https://localhost:8080/"
        },
        "id": "rOg_tzS6sHI6",
        "outputId": "2d27bfa5-ae6e-447e-d2b4-cb50c3810386"
      },
      "execution_count": null,
      "outputs": [
        {
          "output_type": "execute_result",
          "data": {
            "text/plain": [
              "False"
            ]
          },
          "metadata": {},
          "execution_count": 13
        }
      ]
    },
    {
      "cell_type": "code",
      "source": [
        "False in thisdict.values()"
      ],
      "metadata": {
        "colab": {
          "base_uri": "https://localhost:8080/"
        },
        "id": "DyNxQjPOsTTd",
        "outputId": "ed5d116b-1c55-435f-b15c-e10bd21bb169"
      },
      "execution_count": null,
      "outputs": [
        {
          "output_type": "execute_result",
          "data": {
            "text/plain": [
              "True"
            ]
          },
          "metadata": {},
          "execution_count": 14
        }
      ]
    },
    {
      "cell_type": "code",
      "source": [
        "thisdict['year'] = 2023"
      ],
      "metadata": {
        "id": "NEvYj6YqsfK1"
      },
      "execution_count": null,
      "outputs": []
    },
    {
      "cell_type": "code",
      "source": [
        "thisdict"
      ],
      "metadata": {
        "colab": {
          "base_uri": "https://localhost:8080/"
        },
        "id": "andJuRlUssSx",
        "outputId": "7438f176-4c30-4173-d9b6-dae71315c479"
      },
      "execution_count": null,
      "outputs": [
        {
          "output_type": "execute_result",
          "data": {
            "text/plain": [
              "{'brand': 'ford',\n",
              " 'electric': False,\n",
              " 'year': 2023,\n",
              " 'colors': ['red', 'white', 'blue'],\n",
              " 'sales': 2000}"
            ]
          },
          "metadata": {},
          "execution_count": 16
        }
      ]
    },
    {
      "cell_type": "code",
      "source": [
        "thisdict.pop('year')#pop is used to remove"
      ],
      "metadata": {
        "colab": {
          "base_uri": "https://localhost:8080/"
        },
        "id": "NWky8ECRstOc",
        "outputId": "3cb9aa6b-451c-4e7b-c18d-1f865e008bac"
      },
      "execution_count": null,
      "outputs": [
        {
          "output_type": "execute_result",
          "data": {
            "text/plain": [
              "2023"
            ]
          },
          "metadata": {},
          "execution_count": 17
        }
      ]
    },
    {
      "cell_type": "code",
      "source": [
        "thisdict"
      ],
      "metadata": {
        "colab": {
          "base_uri": "https://localhost:8080/"
        },
        "id": "mpTsw-3Dszih",
        "outputId": "eb43d99e-40cc-4827-9370-ad6ddae6618e"
      },
      "execution_count": null,
      "outputs": [
        {
          "output_type": "execute_result",
          "data": {
            "text/plain": [
              "{'brand': 'ford',\n",
              " 'electric': False,\n",
              " 'colors': ['red', 'white', 'blue'],\n",
              " 'sales': 2000}"
            ]
          },
          "metadata": {},
          "execution_count": 18
        }
      ]
    },
    {
      "cell_type": "code",
      "source": [
        "for x in thisdict:\n",
        "  print(x)"
      ],
      "metadata": {
        "colab": {
          "base_uri": "https://localhost:8080/"
        },
        "id": "0hctT0yws5DI",
        "outputId": "03e4437e-9972-4309-b730-3d527131b495"
      },
      "execution_count": null,
      "outputs": [
        {
          "output_type": "stream",
          "name": "stdout",
          "text": [
            "brand\n",
            "electric\n",
            "colors\n",
            "sales\n"
          ]
        }
      ]
    },
    {
      "cell_type": "code",
      "source": [
        "for x in thisdict:\n",
        "  print(thisdict[x])"
      ],
      "metadata": {
        "colab": {
          "base_uri": "https://localhost:8080/"
        },
        "id": "lstdQBICs_np",
        "outputId": "b2c7645e-effe-4b30-afa8-b34123b91a60"
      },
      "execution_count": null,
      "outputs": [
        {
          "output_type": "stream",
          "name": "stdout",
          "text": [
            "ford\n",
            "False\n",
            "['red', 'white', 'blue']\n",
            "2000\n"
          ]
        }
      ]
    },
    {
      "cell_type": "code",
      "source": [
        "for x in thisdict.values():\n",
        "  print(x)"
      ],
      "metadata": {
        "colab": {
          "base_uri": "https://localhost:8080/"
        },
        "id": "X5tfgi5ztH-F",
        "outputId": "2bc75a31-3ae2-477f-f9a4-7e7f45e8a61b"
      },
      "execution_count": null,
      "outputs": [
        {
          "output_type": "stream",
          "name": "stdout",
          "text": [
            "ford\n",
            "False\n",
            "['red', 'white', 'blue']\n",
            "2000\n"
          ]
        }
      ]
    },
    {
      "cell_type": "code",
      "source": [
        "for x in thisdict.keys():\n",
        "  print(x)"
      ],
      "metadata": {
        "colab": {
          "base_uri": "https://localhost:8080/"
        },
        "id": "975tHhiotQuM",
        "outputId": "cdc6d648-18b0-413f-c995-337962a93d2d"
      },
      "execution_count": null,
      "outputs": [
        {
          "output_type": "stream",
          "name": "stdout",
          "text": [
            "brand\n",
            "electric\n",
            "colors\n",
            "sales\n"
          ]
        }
      ]
    },
    {
      "cell_type": "code",
      "source": [
        "for x,y in thisdict.items():\n",
        "  print(f'keys:{x}')\n",
        "  print(f'values:{y}')"
      ],
      "metadata": {
        "colab": {
          "base_uri": "https://localhost:8080/"
        },
        "id": "bXf5et9Lte31",
        "outputId": "35f8a935-b104-45d0-bb87-5d1fdf7e3550"
      },
      "execution_count": null,
      "outputs": [
        {
          "output_type": "stream",
          "name": "stdout",
          "text": [
            "keys:brand\n",
            "values:ford\n",
            "keys:electric\n",
            "values:False\n",
            "keys:colors\n",
            "values:['red', 'white', 'blue']\n",
            "keys:sales\n",
            "values:2000\n"
          ]
        }
      ]
    },
    {
      "cell_type": "markdown",
      "source": [
        "##nested dictionaries"
      ],
      "metadata": {
        "id": "m6b9FbfYuBDV"
      }
    },
    {
      "cell_type": "code",
      "source": [
        "##nested dictionaries\n",
        "myfamily={\"child1\":{\"name\":\"emil\",\"year\":2004},\n",
        "          \"child2\":{\"name\":\"tobies\",\"year\":2007},\n",
        "          \"child3\":{\"name\":\"linus\",\"year\":2011}\n",
        "}\n"
      ],
      "metadata": {
        "id": "qovnlN9Dtqsr"
      },
      "execution_count": null,
      "outputs": []
    },
    {
      "cell_type": "code",
      "source": [
        "'''\n",
        "write a pyhton program script to sort (ascending) a dictionary by value\n",
        "{1:2,3:4,4:3,2:1,0:0}\n",
        "'''\n",
        "a = {1:2,3:4,4:3,2:1,0:0}\n",
        "sort = sorted(a.values())\n",
        "print(sort)"
      ],
      "metadata": {
        "colab": {
          "base_uri": "https://localhost:8080/",
          "height": 227
        },
        "id": "CJZXB1hpul-m",
        "outputId": "8093be1b-99fb-43ba-c147-9ee196a092f5"
      },
      "execution_count": null,
      "outputs": [
        {
          "output_type": "error",
          "ename": "TypeError",
          "evalue": "ignored",
          "traceback": [
            "\u001b[0;31m---------------------------------------------------------------------------\u001b[0m",
            "\u001b[0;31mTypeError\u001b[0m                                 Traceback (most recent call last)",
            "\u001b[0;32m<ipython-input-45-3a6cbc6cda5e>\u001b[0m in \u001b[0;36m<cell line: 6>\u001b[0;34m()\u001b[0m\n\u001b[1;32m      4\u001b[0m '''\n\u001b[1;32m      5\u001b[0m \u001b[0ma\u001b[0m \u001b[0;34m=\u001b[0m \u001b[0;34m{\u001b[0m\u001b[0;36m1\u001b[0m\u001b[0;34m:\u001b[0m\u001b[0;36m2\u001b[0m\u001b[0;34m,\u001b[0m\u001b[0;36m3\u001b[0m\u001b[0;34m:\u001b[0m\u001b[0;36m4\u001b[0m\u001b[0;34m,\u001b[0m\u001b[0;36m4\u001b[0m\u001b[0;34m:\u001b[0m\u001b[0;36m3\u001b[0m\u001b[0;34m,\u001b[0m\u001b[0;36m2\u001b[0m\u001b[0;34m:\u001b[0m\u001b[0;36m1\u001b[0m\u001b[0;34m,\u001b[0m\u001b[0;36m0\u001b[0m\u001b[0;34m:\u001b[0m\u001b[0;36m0\u001b[0m\u001b[0;34m}\u001b[0m\u001b[0;34m\u001b[0m\u001b[0;34m\u001b[0m\u001b[0m\n\u001b[0;32m----> 6\u001b[0;31m \u001b[0msort\u001b[0m \u001b[0;34m=\u001b[0m \u001b[0msorted\u001b[0m\u001b[0;34m(\u001b[0m\u001b[0ma\u001b[0m\u001b[0;34m.\u001b[0m\u001b[0mvalues\u001b[0m\u001b[0;34m(\u001b[0m\u001b[0;34m)\u001b[0m\u001b[0;34m)\u001b[0m\u001b[0;34m\u001b[0m\u001b[0;34m\u001b[0m\u001b[0m\n\u001b[0m\u001b[1;32m      7\u001b[0m \u001b[0mprint\u001b[0m\u001b[0;34m(\u001b[0m\u001b[0msort\u001b[0m\u001b[0;34m)\u001b[0m\u001b[0;34m\u001b[0m\u001b[0;34m\u001b[0m\u001b[0m\n",
            "\u001b[0;31mTypeError\u001b[0m: 'list' object is not callable"
          ]
        }
      ]
    },
    {
      "cell_type": "code",
      "source": [
        "'''\n",
        "write a python  program to add a key to a dictionay\n",
        "x = {\"name\":\"ram\",\"age\":23,}\n",
        "add_key ={\"city\":\"saleem\"}\n",
        "'''\n",
        "x = {\"name\":\"ram\",\"age\":23,}\n",
        "x['city'] = \"saleem\""
      ],
      "metadata": {
        "id": "U-AEawBsu6W9"
      },
      "execution_count": null,
      "outputs": []
    },
    {
      "cell_type": "code",
      "source": [
        "x"
      ],
      "metadata": {
        "colab": {
          "base_uri": "https://localhost:8080/"
        },
        "id": "MI2lBMfux8Q8",
        "outputId": "03ee5039-a9e9-44db-a697-4da76b620571"
      },
      "execution_count": null,
      "outputs": [
        {
          "output_type": "execute_result",
          "data": {
            "text/plain": [
              "{'name': 'ram', 'age': 23, 'city': 'salem'}"
            ]
          },
          "metadata": {},
          "execution_count": 47
        }
      ]
    },
    {
      "cell_type": "code",
      "source": [
        "d1 = {\"name\":\"ram\",\"age\":23,}\n",
        "d2 = {\"city\":\"saleem\"}\n",
        "d1.update(d2)"
      ],
      "metadata": {
        "id": "d_0cO00zx-MA"
      },
      "execution_count": null,
      "outputs": []
    },
    {
      "cell_type": "code",
      "source": [
        "d1"
      ],
      "metadata": {
        "colab": {
          "base_uri": "https://localhost:8080/"
        },
        "id": "xjB_-6Y1yUyJ",
        "outputId": "3fbc3aff-915b-471a-bee6-2ad9a4e946d7"
      },
      "execution_count": null,
      "outputs": [
        {
          "output_type": "execute_result",
          "data": {
            "text/plain": [
              "{'name': 'ram', 'age': 23, 'city': 'saleem'}"
            ]
          },
          "metadata": {},
          "execution_count": 49
        }
      ]
    },
    {
      "cell_type": "code",
      "source": [
        "d1 = {\"name\":\"ram\",\"age\":23,}\n",
        "d2 = {\"city\":\"saleem\"}"
      ],
      "metadata": {
        "id": "YKJsybmFyZ4N"
      },
      "execution_count": null,
      "outputs": []
    },
    {
      "cell_type": "code",
      "source": [
        "key = list(d2.keys())\n",
        "value = list(d2.values())\n",
        "print(key)\n",
        "d1[key[0]]=value[0]"
      ],
      "metadata": {
        "colab": {
          "base_uri": "https://localhost:8080/"
        },
        "id": "5xX55xVAydio",
        "outputId": "35b12046-c6c3-4013-f7ad-83e16a5a2430"
      },
      "execution_count": null,
      "outputs": [
        {
          "output_type": "stream",
          "name": "stdout",
          "text": [
            "['city']\n"
          ]
        }
      ]
    },
    {
      "cell_type": "code",
      "source": [
        "#48. Write a Python Program to Split Strings on Prefix Occurrence\n"
      ],
      "metadata": {
        "id": "4N6aGb56yv5t"
      },
      "execution_count": null,
      "outputs": []
    },
    {
      "cell_type": "code",
      "source": [
        "#39. Write a Python program to get all unique combinations of two Lists\n",
        "a = [str(i) for i in input().split()]\n",
        "b = [int(i) for i in input().split()]\n",
        "c = []\n",
        "for i in range(0,len(a)):\n",
        "  for j in range(0,len(b)):\n",
        "    c.append((a[i],b[j]))\n",
        "print(c)\n",
        "\n"
      ],
      "metadata": {
        "colab": {
          "base_uri": "https://localhost:8080/"
        },
        "id": "8xE-7Bdf1jVN",
        "outputId": "2b85d853-65ac-4350-a8b4-38feadad52e3"
      },
      "execution_count": null,
      "outputs": [
        {
          "output_type": "stream",
          "name": "stdout",
          "text": [
            "a b c\n",
            "1 2 3\n",
            "[('a', 1), ('a', 2), ('a', 3), ('b', 1), ('b', 2), ('b', 3), ('c', 1), ('c', 2), ('c', 3)]\n"
          ]
        }
      ]
    },
    {
      "cell_type": "code",
      "source": [
        "#40. Write a Python program to remove all the occurrences of an element from a list\n",
        "a = [1, 3, 4, 6, 5, 1]\n",
        "b = set(a)\n",
        "c = list(b)"
      ],
      "metadata": {
        "id": "mIagp1Ql2nd7"
      },
      "execution_count": null,
      "outputs": []
    },
    {
      "cell_type": "code",
      "source": [
        "c"
      ],
      "metadata": {
        "colab": {
          "base_uri": "https://localhost:8080/"
        },
        "id": "JwfXpkEC4Es3",
        "outputId": "ba6a20a1-c7fc-45b5-ba45-456992ab7d85"
      },
      "execution_count": null,
      "outputs": [
        {
          "output_type": "execute_result",
          "data": {
            "text/plain": [
              "[1, 3, 4, 5, 6]"
            ]
          },
          "metadata": {},
          "execution_count": 71
        }
      ]
    },
    {
      "cell_type": "code",
      "source": [
        "b"
      ],
      "metadata": {
        "colab": {
          "base_uri": "https://localhost:8080/"
        },
        "id": "uEJ64LqM35ki",
        "outputId": "ab5fbb6b-29dc-400f-ccda-05da41750918"
      },
      "execution_count": null,
      "outputs": [
        {
          "output_type": "execute_result",
          "data": {
            "text/plain": [
              "{1, 3, 4, 5, 6}"
            ]
          },
          "metadata": {},
          "execution_count": 69
        }
      ]
    },
    {
      "cell_type": "code",
      "source": [
        "#40. Write a Python program to remove all the occurrences of an element from a list\n",
        "a = [int(i) for i in input().split()]\n",
        "b = []\n",
        "for i in range(0,len(a)):\n",
        "  f=a.count(i)\n",
        "  if f==1:\n",
        "    b.append(i)\n",
        "print(b)"
      ],
      "metadata": {
        "colab": {
          "base_uri": "https://localhost:8080/"
        },
        "id": "TLaqpHPR361w",
        "outputId": "2d14f9ba-ed2b-494b-91b4-c2e82b37acb9"
      },
      "execution_count": null,
      "outputs": [
        {
          "output_type": "stream",
          "name": "stdout",
          "text": [
            "1 3 4 7 5 1\n",
            "[3, 4, 5]\n"
          ]
        }
      ]
    },
    {
      "cell_type": "code",
      "source": [
        "#41. Write a Python Program to Remove Consecutive K element records\n",
        "def k(a):\n",
        "  b = []\n",
        "  for i in a:\n",
        "    if(len(i)==len(set(i))):\n",
        "      b.append(i)\n",
        "  print(b)\n",
        "a = [ ('A', 'B', 'C', 'D'), ('B', 'C', 'C', 'I'), ('H', 'D', 'B', 'C'), ('C', 'C', 'G', 'F') ]\n",
        "k(a)"
      ],
      "metadata": {
        "colab": {
          "base_uri": "https://localhost:8080/"
        },
        "id": "5YARyVzB46D-",
        "outputId": "247896df-dbc8-4994-afdf-faa380fd4211"
      },
      "execution_count": null,
      "outputs": [
        {
          "output_type": "stream",
          "name": "stdout",
          "text": [
            "[('A', 'B', 'C', 'D'), ('H', 'D', 'B', 'C')]\n"
          ]
        }
      ]
    },
    {
      "cell_type": "code",
      "source": [
        "#42. Write a Python Program to Replace index elements with elements in Other List\n",
        "a = ['Tutor Joes', 'Computer', 'Education']\n",
        "b = [2 ,1 ,0 ,1 ,0 ,2 ,2 ,0 ,1 ,0 ,1 ,2]\n",
        "print(\"List 1 : \",a)\n",
        "print(\"List 2 : \",b)\n",
        "re = [a[i] for i in b]\n",
        "print(\"after replacing index elements with elements in other list : \",re)\n"
      ],
      "metadata": {
        "id": "36CUFwTP7qsR",
        "colab": {
          "base_uri": "https://localhost:8080/"
        },
        "outputId": "ab327f0b-3564-4e14-acaa-05465c8e64eb"
      },
      "execution_count": null,
      "outputs": [
        {
          "output_type": "stream",
          "name": "stdout",
          "text": [
            "List 1 :  ['Tutor Joes', 'Computer', 'Education']\n",
            "List 2 :  [2, 1, 0, 1, 0, 2, 2, 0, 1, 0, 1, 2]\n",
            "after replacing index elements with elements in other list :  ['Education', 'Computer', 'Tutor Joes', 'Computer', 'Tutor Joes', 'Education', 'Education', 'Tutor Joes', 'Computer', 'Tutor Joes', 'Computer', 'Education']\n"
          ]
        }
      ]
    },
    {
      "cell_type": "code",
      "source": [
        "#43. Write a Python Program to Retain records with N occurrences of K\n",
        "a = [(4, 5, 6, 5, 4), (4, 5, 3), (5, 5, 2), (3, 4, 9)]\n",
        "print(a)\n",
        "k = 5\n",
        "n = 2\n",
        "b = [i for i in a if i.count(k)==n]\n",
        "print(b)\n",
        "\n"
      ],
      "metadata": {
        "colab": {
          "base_uri": "https://localhost:8080/"
        },
        "id": "RI8_tD-xsxUp",
        "outputId": "d77e085b-9228-448b-c043-dac2a203fe5f"
      },
      "execution_count": null,
      "outputs": [
        {
          "output_type": "stream",
          "name": "stdout",
          "text": [
            "[(4, 5, 6, 5, 4), (4, 5, 3), (5, 5, 2), (3, 4, 9)]\n",
            "[(4, 5, 6, 5, 4), (5, 5, 2)]\n"
          ]
        }
      ]
    },
    {
      "cell_type": "code",
      "source": [
        "#44. Write a Python Program to Swap elements in String list\n",
        "a = [\"Tutor\",\"joes\",\"Computer\",\"Education\"]\n",
        "\n",
        "print(\"Before Swap :\",a)\n",
        "\n",
        "res = [sub.replace(\"joes\",\"Joe's\").replace(\"Computer\", \"Software\").replace(\"Education\", \"Solutions\") for sub in a]\n",
        "\n",
        "print (\"After Swap : \",res)"
      ],
      "metadata": {
        "colab": {
          "base_uri": "https://localhost:8080/"
        },
        "id": "GyjAxWQCuXNr",
        "outputId": "3953c289-85c1-4d2d-8adb-127c7be723fd"
      },
      "execution_count": null,
      "outputs": [
        {
          "output_type": "stream",
          "name": "stdout",
          "text": [
            "Before Swap : ['Tutor', 'joes', 'Computer', 'Education']\n",
            "After Swap :  ['Tutor', \"Joe's\", 'Software', 'Solutions']\n"
          ]
        }
      ]
    },
    {
      "cell_type": "code",
      "source": [
        "#45. Write a Python program to reverse All Strings in String List\n",
        "a = [\"Tutor\",\"joes\",\"Computer\",\"Education\"]\n",
        "print(a)\n",
        "b = [i[: : -1]for i in a]\n",
        "print(\"reversed list: \",b)"
      ],
      "metadata": {
        "colab": {
          "base_uri": "https://localhost:8080/"
        },
        "id": "sRRRUqfVv60q",
        "outputId": "3b9b5925-f4eb-4a61-c85d-398462ea2706"
      },
      "execution_count": null,
      "outputs": [
        {
          "output_type": "stream",
          "name": "stdout",
          "text": [
            "['Tutor', 'joes', 'Computer', 'Education']\n",
            "reversed list:  ['rotuT', 'seoj', 'retupmoC', 'noitacudE']\n"
          ]
        }
      ]
    },
    {
      "cell_type": "code",
      "source": [
        "#46. Write a Python program to find the character position of Kth word from a list of strings\n",
        "a = [\"Tutor\",\"joes\",\"Computer\",\"Education\"]\n",
        "print(a)\n",
        "k = 20\n",
        "res = [i[0] for sub in enumerate(a) for i in enumerate(sub[1])]\n",
        "res = res[k]\n",
        "print(\"Index of character at Kth position word : \" + str(res))"
      ],
      "metadata": {
        "colab": {
          "base_uri": "https://localhost:8080/"
        },
        "id": "5YJUUtv9wWJ3",
        "outputId": "d36eddc8-839c-423b-ef2d-edd8a8609c84"
      },
      "execution_count": null,
      "outputs": [
        {
          "output_type": "stream",
          "name": "stdout",
          "text": [
            "['Tutor', 'joes', 'Computer', 'Education']\n",
            "Index of character at Kth position word : 3\n"
          ]
        }
      ]
    },
    {
      "cell_type": "code",
      "source": [
        "#47. Write a Python Program to Prefix frequency in string List\n",
        "a = [\"TjC\",\"TjCpp\",\"TjPython\",\"Java\"]\n",
        "print(a)\n",
        "sub = 'Tj'\n",
        "b = 0\n",
        "for i in a:\n",
        "  if i.startswith(sub):\n",
        "    b = b+1\n",
        "print(b)"
      ],
      "metadata": {
        "colab": {
          "base_uri": "https://localhost:8080/"
        },
        "id": "Hh9tojD8xbcS",
        "outputId": "f342f71d-b147-4a94-f204-9abb08c63fc2"
      },
      "execution_count": null,
      "outputs": [
        {
          "output_type": "stream",
          "name": "stdout",
          "text": [
            "['TjC', 'TjCpp', 'TjPython', 'Java']\n",
            "3\n"
          ]
        }
      ]
    },
    {
      "cell_type": "code",
      "source": [
        "#48. Write a Python Program to Split Strings on Prefix Occurrence\n",
        "a = ['TjC', 'TjCpp', 'TjPython', 'Java', 'tj']\n",
        "print(a)\n",
        "pref = \"Tj\"\n",
        "b = []\n",
        "for i in a:\n",
        "  if i.startswith(pref):\n",
        "    b.append([i])\n",
        "  else:\n",
        "    b[-1].append([i])\n",
        "print((b))\n"
      ],
      "metadata": {
        "colab": {
          "base_uri": "https://localhost:8080/"
        },
        "id": "fSRIw5afyriQ",
        "outputId": "359dc687-8f38-4d82-a441-c5a59bb6bde0"
      },
      "execution_count": null,
      "outputs": [
        {
          "output_type": "stream",
          "name": "stdout",
          "text": [
            "['TjC', 'TjCpp', 'TjPython', 'Java', 'tj']\n",
            "[['TjC'], ['TjCpp'], ['TjPython', ['Java'], ['tj']]]\n"
          ]
        }
      ]
    },
    {
      "cell_type": "code",
      "source": [
        "#49. Write a Python program to Replace all Characters of a List Except the given character\n",
        "a = ['D','A','T','A','S','C','I','N','C','E']\n",
        "print(a)\n",
        "b = [i if i == 'T' else '@' for i in a]\n",
        "print(b)"
      ],
      "metadata": {
        "colab": {
          "base_uri": "https://localhost:8080/"
        },
        "id": "-YPSfdql0FuR",
        "outputId": "700709f8-fc6b-4c7d-dd5a-a2e84c4a2d6f"
      },
      "execution_count": null,
      "outputs": [
        {
          "output_type": "stream",
          "name": "stdout",
          "text": [
            "['D', 'A', 'T', 'A', 'S', 'C', 'I', 'N', 'C', 'E']\n",
            "['@', '@', 'T', '@', '@', '@', '@', '@', '@', '@']\n"
          ]
        }
      ]
    },
    {
      "cell_type": "code",
      "source": [
        "#50. Write a Python Program to Add Space between Potential Words\n",
        "a = ['TutorJoes', 'ComputerEducations']\n",
        "b = []\n",
        "for i in a:\n",
        "  s = \"\"\n",
        "  for j in i:\n",
        "    if(j.isupper()):\n",
        "      s=s+\" \"+j\n",
        "    else:\n",
        "      s=s+j\n",
        "  b.append(s)\n",
        "print(b)\n",
        "\n"
      ],
      "metadata": {
        "id": "DHc1v5E51IsJ",
        "colab": {
          "base_uri": "https://localhost:8080/"
        },
        "outputId": "6eafab95-df6d-4f87-c9ed-7fd17c6bcb4e"
      },
      "execution_count": null,
      "outputs": [
        {
          "output_type": "stream",
          "name": "stdout",
          "text": [
            "[' Tutor Joes', ' Computer Educations']\n"
          ]
        }
      ]
    },
    {
      "cell_type": "code",
      "source": [],
      "metadata": {
        "id": "NmMT-WcSKpPb"
      },
      "execution_count": null,
      "outputs": []
    },
    {
      "cell_type": "markdown",
      "source": [
        "##Dictionaries priblems\n"
      ],
      "metadata": {
        "id": "ZynCJ6Iz14lk"
      }
    },
    {
      "cell_type": "code",
      "source": [
        "#1. Write a Python script to sort (ascending and descending) a dictionary by value.\n",
        "import operator\n",
        "d = {1: 2, 3: 4, 4: 3, 2: 1, 0: 0}\n",
        "myval = list(d.values())\n",
        "myval.sort()\n",
        "sortedc = {d[i]:i for i in myval}\n",
        "print(sortedc)"
      ],
      "metadata": {
        "colab": {
          "base_uri": "https://localhost:8080/"
        },
        "id": "XLciawnj17gv",
        "outputId": "5ad14b02-93b6-4d96-eee0-d7a3643bf459"
      },
      "execution_count": null,
      "outputs": [
        {
          "output_type": "stream",
          "name": "stdout",
          "text": [
            "{0: 0, 2: 1, 1: 2, 4: 3, 3: 4}\n"
          ]
        }
      ]
    },
    {
      "cell_type": "code",
      "source": [
        "myval.sort(reverse=True)\n",
        "myval\n",
        "\n",
        "sortedd={d[i]:i for i in myval}\n",
        "print(sortedd)"
      ],
      "metadata": {
        "id": "hqCWcMUv2-54",
        "colab": {
          "base_uri": "https://localhost:8080/"
        },
        "outputId": "9663b134-d91f-4285-fd5e-587c0cf3c01f"
      },
      "execution_count": null,
      "outputs": [
        {
          "output_type": "stream",
          "name": "stdout",
          "text": [
            "{3: 4, 4: 3, 1: 2, 2: 1, 0: 0}\n"
          ]
        }
      ]
    },
    {
      "cell_type": "code",
      "source": [
        "#2. Write a Python program to add a key to a dictionary\n",
        "di = {\"Name\" : \"Ram\" , \"Age\" : 23}\n",
        "a = {\"City\" : \"Salem\"}\n",
        "key = list(a.keys())\n",
        "value = list(a.values())\n",
        "print(key)\n",
        "di[key[0]]=value[0]\n"
      ],
      "metadata": {
        "colab": {
          "base_uri": "https://localhost:8080/"
        },
        "id": "UNfGXjGNMT_v",
        "outputId": "39a700a4-a460-45b8-a118-382727c58d2d"
      },
      "execution_count": null,
      "outputs": [
        {
          "output_type": "stream",
          "name": "stdout",
          "text": [
            "['City']\n"
          ]
        }
      ]
    },
    {
      "cell_type": "code",
      "source": [
        "di = {\"Name\" : \"Ram\" , \"Age\" : 23}\n",
        "di[\"city\"] = \"saleem\""
      ],
      "metadata": {
        "id": "wYiRkaijOQXi"
      },
      "execution_count": null,
      "outputs": []
    },
    {
      "cell_type": "code",
      "source": [
        "di"
      ],
      "metadata": {
        "colab": {
          "base_uri": "https://localhost:8080/"
        },
        "id": "ls1WcaxuOpjF",
        "outputId": "743a38e9-5453-497e-e771-93b7b71f3bdc"
      },
      "execution_count": null,
      "outputs": [
        {
          "output_type": "execute_result",
          "data": {
            "text/plain": [
              "{'Name': 'Ram', 'Age': 23, 'city': 'saleem'}"
            ]
          },
          "metadata": {},
          "execution_count": 10
        }
      ]
    },
    {
      "cell_type": "code",
      "source": [
        "#3. Write a Python program to concatenate following dictionaries to create a new one.\n",
        "d1 = {\"Name\" : \"Ram\" , \"Age\" : 23}\n",
        "d2 = {\"City\" : \"Salem\", \"Gender\" : \"Male\"}\n",
        "d1.update(d2)"
      ],
      "metadata": {
        "id": "rkToMCtCOqyD"
      },
      "execution_count": null,
      "outputs": []
    },
    {
      "cell_type": "code",
      "source": [
        "d1\n"
      ],
      "metadata": {
        "colab": {
          "base_uri": "https://localhost:8080/"
        },
        "id": "TNGEC883PFCW",
        "outputId": "6aed2039-4509-43fe-de95-da3e0c4af623"
      },
      "execution_count": null,
      "outputs": [
        {
          "output_type": "execute_result",
          "data": {
            "text/plain": [
              "{'Name': 'Ram', 'Age': 23, 'City': 'Salem', 'Gender': 'Male'}"
            ]
          },
          "metadata": {},
          "execution_count": 13
        }
      ]
    },
    {
      "cell_type": "code",
      "source": [
        "#4. Write a Python program to check whether a given key already exists in a dictionary.\n",
        "a = {'Name' : 'Ram', 'Age' : 23,}"
      ],
      "metadata": {
        "id": "VnPKnc9xPX1T"
      },
      "execution_count": null,
      "outputs": []
    },
    {
      "cell_type": "code",
      "source": [
        "'Name' in a"
      ],
      "metadata": {
        "colab": {
          "base_uri": "https://localhost:8080/"
        },
        "id": "ybBlkXrtQb5A",
        "outputId": "00ed7416-e8c1-4494-ba35-c9f3e4d74420"
      },
      "execution_count": null,
      "outputs": [
        {
          "output_type": "execute_result",
          "data": {
            "text/plain": [
              "True"
            ]
          },
          "metadata": {},
          "execution_count": 17
        }
      ]
    },
    {
      "cell_type": "code",
      "source": [
        "#5. Write a Python program to iterate over dictionaries using for loops.\n",
        "b = {\"Name\" : \"Ram\" , \"Age\" : 23 , \"City\" : \"Salem\", \"Gender\" : \"Male\"}\n",
        "for x,y in b.items():\n",
        "  print(x,':',y)"
      ],
      "metadata": {
        "colab": {
          "base_uri": "https://localhost:8080/"
        },
        "id": "IZZXY2H1QdM-",
        "outputId": "927b6ca8-7d69-4747-e1d0-656a97f5f96e"
      },
      "execution_count": null,
      "outputs": [
        {
          "output_type": "stream",
          "name": "stdout",
          "text": [
            "Name : Ram\n",
            "Age : 23\n",
            "City : Salem\n",
            "Gender : Male\n"
          ]
        }
      ]
    },
    {
      "cell_type": "code",
      "source": [
        "#6. Write a Python script to generate and print a dictionary that contains a number (between 1 and n) in the form (x, x*x).\n",
        "d = {}\n",
        "n = int(input())\n",
        "for i in range(1,n+1):\n",
        "  d[i]=i*i\n",
        "print(d)"
      ],
      "metadata": {
        "colab": {
          "base_uri": "https://localhost:8080/"
        },
        "id": "IIZtdQiERgeY",
        "outputId": "c128a43a-42fa-464e-a137-d642c3eefe1a"
      },
      "execution_count": null,
      "outputs": [
        {
          "output_type": "stream",
          "name": "stdout",
          "text": [
            "5\n",
            "{1: 1, 2: 4, 3: 9, 4: 16, 5: 25}\n"
          ]
        }
      ]
    },
    {
      "cell_type": "code",
      "source": [
        "#7.Write a Python script to print a dictionary where the keys are numbers between 1 and n (both included) and the values are square of keys.\n",
        "d = {}\n",
        "n = int(input())\n",
        "for i in range(1,n+1):\n",
        "  d[i]=i*i\n",
        "print(d)"
      ],
      "metadata": {
        "colab": {
          "base_uri": "https://localhost:8080/"
        },
        "id": "WbFV0Z2nThG1",
        "outputId": "c31b8f89-5108-4f99-c2ef-7b01557dae48"
      },
      "execution_count": null,
      "outputs": [
        {
          "output_type": "stream",
          "name": "stdout",
          "text": [
            "6\n",
            "{1: 1, 2: 4, 3: 9, 4: 16, 5: 25, 6: 36}\n"
          ]
        }
      ]
    },
    {
      "cell_type": "code",
      "source": [
        "#8.Write a Python script to merge two Python dictionaries.\n",
        "a = {\"Name\" : \"Ram\" , \"Age\" : 23}\n",
        "b = {\"City\" : \"Salem\", \"Gender\" : \"Male\"}\n",
        "a.update(b)\n",
        "print(a)"
      ],
      "metadata": {
        "colab": {
          "base_uri": "https://localhost:8080/"
        },
        "id": "FVrgkTj9UAh8",
        "outputId": "9fb6314c-1e46-4643-e882-a17081d74ae5"
      },
      "execution_count": null,
      "outputs": [
        {
          "output_type": "stream",
          "name": "stdout",
          "text": [
            "{'Name': 'Ram', 'Age': 23, 'City': 'Salem', 'Gender': 'Male'}\n"
          ]
        }
      ]
    },
    {
      "cell_type": "code",
      "source": [
        "a = {\"Name\" : \"Ram\" , \"Age\" : 23}\n",
        "b = {\"Name\" : \"manu\" , \"Age\" : 21}\n",
        "a.update(b)\n",
        "print(a)"
      ],
      "metadata": {
        "colab": {
          "base_uri": "https://localhost:8080/"
        },
        "id": "ZqDJZLvCUdjj",
        "outputId": "9b683da5-4fa1-463c-8843-46e04f596920"
      },
      "execution_count": null,
      "outputs": [
        {
          "output_type": "stream",
          "name": "stdout",
          "text": [
            "{'Name': 'manu', 'Age': 21}\n"
          ]
        }
      ]
    },
    {
      "cell_type": "code",
      "source": [
        "#9.Write a Python program to iterate over dictionaries using for loops.\n",
        "a = {\"Name\" : \"Ram\" , \"Age\" : 23 , \"City\" : \"Salem\", \"Gender\" : \"Male\"}\n",
        "for x,y in a.items():\n",
        "  print(x,':',y)"
      ],
      "metadata": {
        "colab": {
          "base_uri": "https://localhost:8080/"
        },
        "id": "1Lowxx4yU6u4",
        "outputId": "21713d1c-76bf-41bc-f113-9b0198060ca7"
      },
      "execution_count": null,
      "outputs": [
        {
          "output_type": "stream",
          "name": "stdout",
          "text": [
            "Name : Ram\n",
            "Age : 23\n",
            "City : Salem\n",
            "Gender : Male\n"
          ]
        }
      ]
    },
    {
      "cell_type": "code",
      "source": [
        "#10. Write a Python program to sum all the items in a dictionary.\n",
        "d = {1:23,2:45,3:-17,4:87}\n",
        "print(sum(d.values()))"
      ],
      "metadata": {
        "colab": {
          "base_uri": "https://localhost:8080/"
        },
        "id": "wcXuY05RVzS8",
        "outputId": "457a81f0-2138-412a-c76e-caf8356ec450"
      },
      "execution_count": null,
      "outputs": [
        {
          "output_type": "stream",
          "name": "stdout",
          "text": [
            "138\n"
          ]
        }
      ]
    },
    {
      "cell_type": "code",
      "source": [
        "#11. Access dictionary key’s element by index.\n",
        "a = {\"Name\" : \"Pooja\", \"Age\" : 23, \"Gender\" : \"Female\", \"City\" : \"Salem\", \"Mark\" : 488}\n",
        "for x in a.keys():\n",
        "  print(x)"
      ],
      "metadata": {
        "colab": {
          "base_uri": "https://localhost:8080/"
        },
        "id": "aB-IinWkWKED",
        "outputId": "af8eb954-8cb4-46b5-9d30-6e58bf920e8e"
      },
      "execution_count": null,
      "outputs": [
        {
          "output_type": "stream",
          "name": "stdout",
          "text": [
            "Name\n",
            "Age\n",
            "Gender\n",
            "City\n",
            "Mark\n"
          ]
        }
      ]
    },
    {
      "cell_type": "code",
      "source": [
        "#12. Drop empty Items from a given Dictionary\n",
        "a = {'Name' : 'Pooja', 'Age' : 23, 'Gender' : None, 'Mark' : 488, 'City' : None}\n",
        "a.pop('Gender')\n",
        "a.pop('City')\n",
        "print(a)"
      ],
      "metadata": {
        "colab": {
          "base_uri": "https://localhost:8080/"
        },
        "id": "BnjTy2xKWgDI",
        "outputId": "02eb3ed8-cf6b-4dd3-99e4-dbbde96bb5e7"
      },
      "execution_count": null,
      "outputs": [
        {
          "output_type": "stream",
          "name": "stdout",
          "text": [
            "{'Name': 'Pooja', 'Age': 23, 'Mark': 488}\n"
          ]
        }
      ]
    },
    {
      "cell_type": "code",
      "source": [
        "#13. Create a dictionary of keys a, b, and c\n",
        "a = { 'A' : [1, 2, 3, 4, 5, 6, 7, 8, 9, 10],\n",
        "      'Y' : [11, 12, 13, 14, 15, 16, 17, 18, 19, 20],\n",
        "      'Z' : [21, 22, 23, 24, 25, 26, 27, 28, 29, 30] }\n",
        "for x,y in a.items():\n",
        "  print(x,'=',y)"
      ],
      "metadata": {
        "colab": {
          "base_uri": "https://localhost:8080/"
        },
        "id": "ERJbgQxgXE3-",
        "outputId": "3557990d-8128-4a4b-d726-29b3128268bb"
      },
      "execution_count": null,
      "outputs": [
        {
          "output_type": "stream",
          "name": "stdout",
          "text": [
            "A = [1, 2, 3, 4, 5, 6, 7, 8, 9, 10]\n",
            "Y = [11, 12, 13, 14, 15, 16, 17, 18, 19, 20]\n",
            "Z = [21, 22, 23, 24, 25, 26, 27, 28, 29, 30]\n"
          ]
        }
      ]
    },
    {
      "cell_type": "code",
      "source": [
        "#14. Match key values in two dictionaries\n",
        "A = {'Tamil': 92, 'English': 56, 'Maths': 88, 'Sceince': 97, 'Social': 89}\n",
        "B= {'Tamil': 78, 'English': 68, 'Maths': 88, 'Sceince': 97, 'Social': 56}\n",
        "for (key, value) in set(A.items()) & set(B.items()):\n",
        "    print('%s: %s is present in both A and B' % (key, value))"
      ],
      "metadata": {
        "colab": {
          "base_uri": "https://localhost:8080/"
        },
        "id": "zXhpP4wEXuvj",
        "outputId": "42f9dd94-3742-49f4-fafc-7b9b7e55a824"
      },
      "execution_count": null,
      "outputs": [
        {
          "output_type": "stream",
          "name": "stdout",
          "text": [
            "Sceince: 97 is present in both A and B\n",
            "Maths: 88 is present in both A and B\n"
          ]
        }
      ]
    },
    {
      "cell_type": "code",
      "source": [
        "A = {'Tamil': 92, 'English': 56, 'Maths': 88, 'Sceince': 97, 'Social': 89}\n",
        "B= {'Tamil': 78, 'English': 68, 'Maths': 88, 'Sceince': 97, 'Social': 56}\n",
        "#k = {}\n",
        "for i in A.items():\n",
        "  if i in B.items():\n",
        "    print({i})\n"
      ],
      "metadata": {
        "colab": {
          "base_uri": "https://localhost:8080/"
        },
        "id": "yluvEj4DZWGK",
        "outputId": "34728597-f8b3-467b-ddc3-f023f450a472"
      },
      "execution_count": null,
      "outputs": [
        {
          "output_type": "stream",
          "name": "stdout",
          "text": [
            "{('Maths', 88)}\n",
            "{('Sceince', 97)}\n"
          ]
        }
      ]
    },
    {
      "cell_type": "code",
      "source": [
        "#15. Sort Counter by value\n"
      ],
      "metadata": {
        "id": "N6JAkCvPaxg9"
      },
      "execution_count": null,
      "outputs": []
    },
    {
      "cell_type": "code",
      "source": [
        "#16. Write a Python program to count number of items in a dictionary value that is a list.\n",
        "Dict = { 'M1' : [67,79,90,73,36], 'M2' : [89,67,84], 'M3' : [82,57] }\n",
        "t = sum(map(len,Dict.values()))\n",
        "print(t)"
      ],
      "metadata": {
        "colab": {
          "base_uri": "https://localhost:8080/"
        },
        "id": "DjIOYVAsbrNj",
        "outputId": "8486a1d0-3ab4-4089-feb1-00d3b7e53c1c"
      },
      "execution_count": null,
      "outputs": [
        {
          "output_type": "stream",
          "name": "stdout",
          "text": [
            "10\n"
          ]
        }
      ]
    },
    {
      "cell_type": "code",
      "source": [
        "#17. Write a Python program to check multiple keys exists in a dictionary.\n",
        "Dict = { 'name' : 'Ram', 'age' : 23, 'city' : 'Salem' }\n",
        "print(Dict.keys() >= {'age', 'name'})\n",
        "print(Dict.keys() >= {'City', 'Ram'})"
      ],
      "metadata": {
        "id": "pd456ra8cnm9",
        "colab": {
          "base_uri": "https://localhost:8080/"
        },
        "outputId": "b1bd2197-caf0-495c-beab-416dde4b33b9"
      },
      "execution_count": null,
      "outputs": [
        {
          "output_type": "stream",
          "name": "stdout",
          "text": [
            "True\n",
            "False\n"
          ]
        }
      ]
    },
    {
      "cell_type": "code",
      "source": [
        "#18. Write a Python program to print a dictionary line by line.\n",
        "sub = {  \"Sam\" : {\"M1\" : 89, \"M2\" : 56, \"M3\" : 89},\n",
        "          \"Suresh\" : {\"M1\" : 49, \"M2\" : 96, \"M3\" : 89} }\n",
        "for a in Dict:\n",
        "  print(a)\n",
        "  for b in sub[a]:\n",
        "    print(b,\":\",sub[a][b])\n"
      ],
      "metadata": {
        "colab": {
          "base_uri": "https://localhost:8080/"
        },
        "id": "lvcSJBMRbCuy",
        "outputId": "131a15c1-d025-4bf7-82bd-ab663caed3d9"
      },
      "execution_count": null,
      "outputs": [
        {
          "output_type": "stream",
          "name": "stdout",
          "text": [
            "Sam\n",
            "M1 : 89\n",
            "M2 : 56\n",
            "M3 : 89\n",
            "Suresh\n",
            "M1 : 49\n",
            "M2 : 96\n",
            "M3 : 89\n"
          ]
        }
      ]
    },
    {
      "cell_type": "code",
      "source": [
        "#19. Write a Python program to Convert two lists into a dictionary\n",
        "keys = [\"One\", \"Two\", \"Three\", \"Four\", \"Five\"]\n",
        "values = [1, 2, 3, 4, 5]\n",
        "res = dict(zip(keys,values))\n",
        "print(res)"
      ],
      "metadata": {
        "id": "I4hU69Tcbtmr",
        "colab": {
          "base_uri": "https://localhost:8080/"
        },
        "outputId": "e2bcd77a-335f-4b67-c573-02e6dc85ac90"
      },
      "execution_count": null,
      "outputs": [
        {
          "output_type": "stream",
          "name": "stdout",
          "text": [
            "{'One': 1, 'Two': 2, 'Three': 3, 'Four': 4, 'Five': 5}\n"
          ]
        }
      ]
    },
    {
      "cell_type": "code",
      "source": [
        "#20. Write a Python program to Merge two Python dictionaries into one\n",
        "a = {\"Name\" : \"Ram\" , \"Age\" : 25 , \"City\" : \"Salem\"}\n",
        "b = {\"Gender\" : \"Male\" , \"Mark\" : 422 , \"Percent\" : 84.4}\n",
        "a.update(b)\n",
        "print(a)"
      ],
      "metadata": {
        "colab": {
          "base_uri": "https://localhost:8080/"
        },
        "id": "NlwSPYw9cgYZ",
        "outputId": "54902e88-4186-4ca2-ed3d-46989254eadb"
      },
      "execution_count": null,
      "outputs": [
        {
          "output_type": "stream",
          "name": "stdout",
          "text": [
            "{'Name': 'Ram', 'Age': 25, 'City': 'Salem', 'Gender': 'Male', 'Mark': 422, 'Percent': 84.4}\n"
          ]
        }
      ]
    },
    {
      "cell_type": "code",
      "source": [
        "#21. Write a Python program to Initialize dictionary with default values\n",
        "stu = [\"Siva\", \"Sam\", \"Ram\", \"Pooja\"]\n",
        "defaults = {\"designation\": \"Student\", \"Department\": \"BCA\"}\n",
        "\n",
        "result = dict.fromkeys(stu, defaults)\n",
        "print(result)\n",
        "\n",
        "\n",
        "print(\"\\nSiva :\",result[\"Siva\"])\n",
        "print(\"\\nSam :\",result[\"Sam\"])\n",
        "print(\"\\nRam :\",result[\"Ram\"])\n",
        "print(\"\\nPooja :\",result[\"Pooja\"])"
      ],
      "metadata": {
        "id": "vIbT9d9mchU3",
        "colab": {
          "base_uri": "https://localhost:8080/"
        },
        "outputId": "266824dd-9bcd-4435-d1e4-0869023e329a"
      },
      "execution_count": null,
      "outputs": [
        {
          "output_type": "stream",
          "name": "stdout",
          "text": [
            "{'Siva': {'designation': 'Student', 'Department': 'BCA'}, 'Sam': {'designation': 'Student', 'Department': 'BCA'}, 'Ram': {'designation': 'Student', 'Department': 'BCA'}, 'Pooja': {'designation': 'Student', 'Department': 'BCA'}}\n",
            "\n",
            "Siva : {'designation': 'Student', 'Department': 'BCA'}\n",
            "\n",
            "Sam : {'designation': 'Student', 'Department': 'BCA'}\n",
            "\n",
            "Ram : {'designation': 'Student', 'Department': 'BCA'}\n",
            "\n",
            "Pooja : {'designation': 'Student', 'Department': 'BCA'}\n"
          ]
        }
      ]
    },
    {
      "cell_type": "code",
      "source": [
        "#22. Create a dictionary by extracting the keys from a given dictionary\n",
        "a = {'Name' : 'Ram', 'Age' : 23, 'City' : 'Salem', 'Gender' : 'Male', \"Mark\" : 450}\n",
        "keys = [\"Name\",\"Age\",\"Mark\"]\n",
        "n = {k:a[k] for k in keys}\n",
        "print(n)"
      ],
      "metadata": {
        "colab": {
          "base_uri": "https://localhost:8080/"
        },
        "id": "igNNqGhV27pw",
        "outputId": "ac77df3d-8b5c-43bb-a002-4fe989839f1a"
      },
      "execution_count": null,
      "outputs": [
        {
          "output_type": "stream",
          "name": "stdout",
          "text": [
            "{'Name': 'Ram', 'Age': 23, 'Mark': 450}\n"
          ]
        }
      ]
    },
    {
      "cell_type": "code",
      "source": [
        "#23. Write a Python program to Delete a list of keys from a dictionary\n",
        "Dictionary = {\"Name\" : \"Tara\", \"RollNo\" : 130046, \"Mark\" : 450, \"Age\" : 16, \"Gender\" : \"Female\", \"City\" : \"Salem\"}\n",
        "Dictionary.pop(\"Gender\")\n",
        "Dictionary.pop(\"City\")\n",
        "print(Dictionary)"
      ],
      "metadata": {
        "colab": {
          "base_uri": "https://localhost:8080/"
        },
        "id": "m_XFiJ3j3dQ5",
        "outputId": "913755bc-f9c6-4b0b-a78e-15d812f4f40c"
      },
      "execution_count": null,
      "outputs": [
        {
          "output_type": "stream",
          "name": "stdout",
          "text": [
            "{'Name': 'Tara', 'RollNo': 130046, 'Mark': 450, 'Age': 16}\n"
          ]
        }
      ]
    },
    {
      "cell_type": "code",
      "source": [
        "#24. Write a Python program to Rename key of a dictionary\n",
        "student = {\n",
        "\t\"Name\": \"Tara\",\n",
        "\t\"RollNo\":130046,\n",
        "\t\"Mark\": 458,\n",
        "\t\"Age\":16,\n",
        "}\n",
        "print(\"Before Rename Key of a Dictionary :\",student)\n",
        "student[\"Mark10\"] = student.pop(\"Mark\")\n",
        "student[\"RegNo\"] = student.pop(\"RollNo\")\n",
        "print(\"After Rename Key of a Dictionary :\",student)"
      ],
      "metadata": {
        "colab": {
          "base_uri": "https://localhost:8080/"
        },
        "id": "6K6pgrRJ5INy",
        "outputId": "0fc7a9e8-7819-42b3-fa96-d2fae3147c8e"
      },
      "execution_count": null,
      "outputs": [
        {
          "output_type": "stream",
          "name": "stdout",
          "text": [
            "Before Rename Key of a Dictionary : {'Name': 'Tara', 'RollNo': 130046, 'Mark': 458, 'Age': 16}\n",
            "After Rename Key of a Dictionary : {'Name': 'Tara', 'Age': 16, 'Mark10': 458, 'RegNo': 130046}\n"
          ]
        }
      ]
    },
    {
      "cell_type": "code",
      "source": [
        "#25. Write a Python program to Replace words from Dictionary\n",
        "val = \"Tutor joe's Computer Education\"\n",
        "print(\"Original string : \",val)\n",
        "\n",
        "dic = {\"Computer\" : \"Software \", \"Education\" : \"Solution\"}\n",
        "\n",
        "word = val.split()\n",
        "res = []\n",
        "for w in word:\n",
        "\tres.append(dic.get(w, w))\n",
        "res = ' '.join(res)\n",
        "print(\"Replaced Strings : \" ,res)"
      ],
      "metadata": {
        "colab": {
          "base_uri": "https://localhost:8080/"
        },
        "id": "-LLLRwLA5qTp",
        "outputId": "8ba0379b-94e5-43a4-dd99-46ca41fa4d40"
      },
      "execution_count": null,
      "outputs": [
        {
          "output_type": "stream",
          "name": "stdout",
          "text": [
            "Original string :  Tutor joe's Computer Education\n",
            "Replaced Strings :  Tutor joe's Software  Solution\n"
          ]
        }
      ]
    },
    {
      "cell_type": "code",
      "source": [
        "#26. Write a program to print only keys of a dictionary\n",
        "Dictionary = {\"Name\" : \"Tara\", \"RollNo\" : 130046, \"Mark\" : 450, \"Age\" : 16, \"Gender\" : \"Female\", \"City\" : \"Salem\"}\n",
        "for x in Dictionary:\n",
        "  print(x)"
      ],
      "metadata": {
        "colab": {
          "base_uri": "https://localhost:8080/"
        },
        "id": "oVcFq4VS5025",
        "outputId": "c0c43461-1bc3-454b-c509-798b5921ad65"
      },
      "execution_count": null,
      "outputs": [
        {
          "output_type": "stream",
          "name": "stdout",
          "text": [
            "Name\n",
            "RollNo\n",
            "Mark\n",
            "Age\n",
            "Gender\n",
            "City\n"
          ]
        }
      ]
    },
    {
      "cell_type": "code",
      "source": [
        "#27. Write a program to print values of dictionary.\n",
        "Dictionary = {\"Name\": \"Tara\", \"RollNo\":130046, \"Mark\": 450, \"Age\":16, \"Gender\":\"Female\", \"City\": \"Salem\"}\n",
        "for x in Dictionary:\n",
        "  print(Dictionary[x])"
      ],
      "metadata": {
        "colab": {
          "base_uri": "https://localhost:8080/"
        },
        "id": "QiFCEI_G6QYw",
        "outputId": "59cb2654-a501-4fbd-a7d0-225c7a571a0a"
      },
      "execution_count": null,
      "outputs": [
        {
          "output_type": "stream",
          "name": "stdout",
          "text": [
            "Tara\n",
            "130046\n",
            "450\n",
            "16\n",
            "Female\n",
            "Salem\n"
          ]
        }
      ]
    },
    {
      "cell_type": "code",
      "source": [
        "#28. Write a program to sort dictionary by values (Ascending/ Descending).\n",
        "import operator\n",
        "d={\"m1\":78 , \"m2\":89 , \"m3\":64 , \"m4\":35 , \"m5\":71}\n",
        "\n",
        "#Descending Order\n",
        "des = sorted(d.items(),key=operator.itemgetter(1),reverse=True)\n",
        "print(\"\\nDescending Order :\",des)\n",
        "\n",
        "#Ascending Order\n",
        "des = sorted(d.items(),key=operator.itemgetter(1))\n",
        "print(\"\\nAscending Order :\",des)"
      ],
      "metadata": {
        "colab": {
          "base_uri": "https://localhost:8080/"
        },
        "id": "bKLER0H16v-W",
        "outputId": "a131791d-d3d0-4f16-d5d9-39677cc8e27a"
      },
      "execution_count": null,
      "outputs": [
        {
          "output_type": "stream",
          "name": "stdout",
          "text": [
            "\n",
            "Descending Order : [('m2', 89), ('m1', 78), ('m5', 71), ('m3', 64), ('m4', 35)]\n",
            "\n",
            "Ascending Order : [('m4', 35), ('m3', 64), ('m5', 71), ('m1', 78), ('m2', 89)]\n"
          ]
        }
      ]
    },
    {
      "cell_type": "code",
      "source": [
        "#29. Write a program to get the maximum and minimum value of dictionary.\n",
        "import operator\n",
        "d={\"m1\":78 , \"m2\":89 , \"m3\":64 , \"m4\":35 , \"m5\":71}\n",
        "v = d.values()\n",
        "max = max(v)\n",
        "min = min(v)\n",
        "print(max)\n",
        "print(min)"
      ],
      "metadata": {
        "colab": {
          "base_uri": "https://localhost:8080/"
        },
        "id": "W2jNzRhx7MMp",
        "outputId": "8db8c77e-d590-42d4-d274-db1bec9e66d6"
      },
      "execution_count": null,
      "outputs": [
        {
          "output_type": "stream",
          "name": "stdout",
          "text": [
            "89\n",
            "35\n"
          ]
        }
      ]
    },
    {
      "cell_type": "code",
      "source": [
        "#30. Write a program to sum all the values of a dictionary.\n",
        "marks={\"m1\":92 , \"m2\":56 , \"m3\":88 , \"m4\":97 , \"m5\":89}\n",
        "total = []\n",
        "for i in marks.values():\n",
        "\ttotal.append(i)\n",
        "print(sum(total))"
      ],
      "metadata": {
        "colab": {
          "base_uri": "https://localhost:8080/"
        },
        "id": "U-e6ZWMh7pgE",
        "outputId": "50f43272-1c15-47d0-fc3b-05e6d5f479cb"
      },
      "execution_count": null,
      "outputs": [
        {
          "output_type": "stream",
          "name": "stdout",
          "text": [
            "422\n"
          ]
        }
      ]
    },
    {
      "cell_type": "code",
      "source": [],
      "metadata": {
        "id": "MemqfI8b7-BN"
      },
      "execution_count": null,
      "outputs": []
    }
  ]
}